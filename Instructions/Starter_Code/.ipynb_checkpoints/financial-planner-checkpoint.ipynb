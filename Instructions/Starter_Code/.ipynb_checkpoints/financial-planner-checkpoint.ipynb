{
 "cells": [
  {
   "cell_type": "markdown",
   "metadata": {},
   "source": [
    "# Unit 5 - Financial Planning"
   ]
  },
  {
   "cell_type": "code",
   "execution_count": 1,
   "metadata": {
    "tags": []
   },
   "outputs": [],
   "source": [
    "# Initial imports\n",
    "import os\n",
    "import requests\n",
    "import pandas as pd\n",
    "from dotenv import load_dotenv\n",
    "import alpaca_trade_api as tradeapi\n",
    "from MCForecastTools import MCSimulation\n",
    "\n",
    "%matplotlib inline"
   ]
  },
  {
   "cell_type": "code",
   "execution_count": 2,
   "metadata": {
    "tags": []
   },
   "outputs": [
    {
     "data": {
      "text/plain": [
       "True"
      ]
     },
     "execution_count": 2,
     "metadata": {},
     "output_type": "execute_result"
    }
   ],
   "source": [
    "# Load .env enviroment variables\n",
    "load_dotenv(\"C:\\\\Users\\\\PC2\\\\Downloads\\\\.env\")"
   ]
  },
  {
   "cell_type": "markdown",
   "metadata": {},
   "source": [
    "## Part 1 - Personal Finance Planner"
   ]
  },
  {
   "cell_type": "markdown",
   "metadata": {},
   "source": [
    "### Collect Crypto Prices Using the `requests` Library"
   ]
  },
  {
   "cell_type": "code",
   "execution_count": 3,
   "metadata": {
    "tags": []
   },
   "outputs": [],
   "source": [
    "# Set current amount of crypto assets\n",
    "\n",
    "my_btc = 1.2\n",
    "my_eth = 5.3"
   ]
  },
  {
   "cell_type": "code",
   "execution_count": 4,
   "metadata": {
    "tags": []
   },
   "outputs": [
    {
     "data": {
      "text/plain": [
       "1.2"
      ]
     },
     "execution_count": 4,
     "metadata": {},
     "output_type": "execute_result"
    }
   ],
   "source": [
    "my_btc"
   ]
  },
  {
   "cell_type": "code",
   "execution_count": 5,
   "metadata": {
    "tags": []
   },
   "outputs": [],
   "source": [
    "# Crypto API URLs\n",
    "btc_url = \"https://api.alternative.me/v2/ticker/Bitcoin/?convert=CAD\"\n",
    "eth_url = \"https://api.alternative.me/v2/ticker/Ethereum/?convert=CAD\""
   ]
  },
  {
   "cell_type": "code",
   "execution_count": 6,
   "metadata": {
    "tags": []
   },
   "outputs": [],
   "source": [
    "# Fetch current BTC price\n",
    "# Execute `GET` request with url\n",
    "response_data_btc = requests.get(btc_url)"
   ]
  },
  {
   "cell_type": "code",
   "execution_count": 7,
   "metadata": {
    "tags": []
   },
   "outputs": [],
   "source": [
    "# Fetch current ETH price\n",
    "response_data_eth = requests.get(eth_url)"
   ]
  },
  {
   "cell_type": "code",
   "execution_count": 8,
   "metadata": {
    "tags": []
   },
   "outputs": [],
   "source": [
    "# Compute current value of my crpto\n",
    "# Store response using `content` attribute\n",
    "response_content_btc = response_data_btc.content"
   ]
  },
  {
   "cell_type": "code",
   "execution_count": 9,
   "metadata": {
    "tags": []
   },
   "outputs": [],
   "source": [
    "# Compute current value of my crpto\n",
    "# Store response using `content` attribute\n",
    "response_content_eth = response_data_eth.content"
   ]
  },
  {
   "cell_type": "code",
   "execution_count": 10,
   "metadata": {
    "tags": []
   },
   "outputs": [],
   "source": [
    "# Format data as JSON\n",
    "data_btc = response_data_btc.json()"
   ]
  },
  {
   "cell_type": "code",
   "execution_count": 11,
   "metadata": {
    "tags": []
   },
   "outputs": [],
   "source": [
    "# Format data as JSON\n",
    "data_eth = response_data_eth.json()"
   ]
  },
  {
   "cell_type": "code",
   "execution_count": 12,
   "metadata": {
    "tags": []
   },
   "outputs": [
    {
     "name": "stdout",
     "output_type": "stream",
     "text": [
      "{\n",
      "    \"data\": {\n",
      "        \"1\": {\n",
      "            \"id\": 1,\n",
      "            \"name\": \"Bitcoin\",\n",
      "            \"symbol\": \"BTC\",\n",
      "            \"website_slug\": \"bitcoin\",\n",
      "            \"rank\": 1,\n",
      "            \"circulating_supply\": 19581275,\n",
      "            \"total_supply\": 19581275,\n",
      "            \"max_supply\": 21000000,\n",
      "            \"quotes\": {\n",
      "                \"USD\": {\n",
      "                    \"price\": 42789.0,\n",
      "                    \"volume_24h\": 23154656478,\n",
      "                    \"market_cap\": 837510942457,\n",
      "                    \"percentage_change_1h\": 0.0266026713037028,\n",
      "                    \"percentage_change_24h\": -1.22206055808227,\n",
      "                    \"percentage_change_7d\": -0.540107558482671,\n",
      "                    \"percent_change_1h\": 0.0266026713037028,\n",
      "                    \"percent_change_24h\": -1.22206055808227,\n",
      "                    \"percent_change_7d\": -0.540107558482671\n",
      "                },\n",
      "                \"CAD\": {\n",
      "                    \"price\": 58128.8565,\n",
      "                    \"volume_24h\": 31455600825.363,\n",
      "                    \"market_cap\": 1137758615327.83,\n",
      "                    \"percent_change_1h\": 0.0266026713037028,\n",
      "                    \"percent_change_24h\": -1.22206055808227,\n",
      "                    \"percent_change_7d\": -0.540107558482671\n",
      "                }\n",
      "            },\n",
      "            \"last_updated\": 1703577933\n",
      "        }\n",
      "    },\n",
      "    \"metadata\": {\n",
      "        \"timestamp\": 1703577933,\n",
      "        \"num_cryptocurrencies\": 3119,\n",
      "        \"error\": null\n",
      "    }\n",
      "}\n"
     ]
    }
   ],
   "source": [
    "import json\n",
    "\n",
    "# Use json.dumps with argument indent=4 to format data\n",
    "print(json.dumps(data_btc, indent=4))"
   ]
  },
  {
   "cell_type": "code",
   "execution_count": 13,
   "metadata": {
    "tags": []
   },
   "outputs": [
    {
     "name": "stdout",
     "output_type": "stream",
     "text": [
      "{\n",
      "    \"data\": {\n",
      "        \"1027\": {\n",
      "            \"id\": 1027,\n",
      "            \"name\": \"Ethereum\",\n",
      "            \"symbol\": \"ETH\",\n",
      "            \"website_slug\": \"ethereum\",\n",
      "            \"rank\": 2,\n",
      "            \"circulating_supply\": 120183899,\n",
      "            \"total_supply\": 120183899,\n",
      "            \"max_supply\": 120183899,\n",
      "            \"quotes\": {\n",
      "                \"USD\": {\n",
      "                    \"price\": 2242.37,\n",
      "                    \"volume_24h\": 13530964109,\n",
      "                    \"market_cap\": 269293815352,\n",
      "                    \"percentage_change_1h\": 0.344169845905373,\n",
      "                    \"percentage_change_24h\": -1.8662957356884,\n",
      "                    \"percentage_change_7d\": -0.220695537718,\n",
      "                    \"percent_change_1h\": 0.344169845905373,\n",
      "                    \"percent_change_24h\": -1.8662957356884,\n",
      "                    \"percent_change_7d\": -0.220695537718\n",
      "                },\n",
      "                \"CAD\": {\n",
      "                    \"price\": 3046.259645,\n",
      "                    \"volume_24h\": 18381814742.0765,\n",
      "                    \"market_cap\": 365835648155.692,\n",
      "                    \"percent_change_1h\": 0.344169845905373,\n",
      "                    \"percent_change_24h\": -1.8662957356884,\n",
      "                    \"percent_change_7d\": -0.220695537718\n",
      "                }\n",
      "            },\n",
      "            \"last_updated\": 1703577939\n",
      "        }\n",
      "    },\n",
      "    \"metadata\": {\n",
      "        \"timestamp\": 1703577939,\n",
      "        \"num_cryptocurrencies\": 3119,\n",
      "        \"error\": null\n",
      "    }\n",
      "}\n"
     ]
    }
   ],
   "source": [
    "import json\n",
    "\n",
    "# Use json.dumps with argument indent=4 to format data\n",
    "print(json.dumps(data_eth, indent=4))"
   ]
  },
  {
   "cell_type": "code",
   "execution_count": 14,
   "metadata": {
    "tags": []
   },
   "outputs": [],
   "source": [
    "# Select bitcoin values\n",
    "my_btc_value = data_btc[\"data\"][\"1\"][\"quotes\"][\"CAD\"][\"price\"]* my_btc\n",
    "my_eth_value = data_eth[\"data\"][\"1027\"][\"quotes\"][\"CAD\"][\"price\"] * my_eth"
   ]
  },
  {
   "cell_type": "code",
   "execution_count": 15,
   "metadata": {
    "tags": []
   },
   "outputs": [
    {
     "name": "stdout",
     "output_type": "stream",
     "text": [
      "The current value of your 1.2 BTC is $69754.6278:0.2f\n",
      "The current value of your 5.3 ETH is $16145.18\n"
     ]
    }
   ],
   "source": [
    "# Print current crypto wallet balance\n",
    "print(f\"The current value of your {my_btc} BTC is ${my_btc_value}:0.2f\")\n",
    "print(f\"The current value of your {my_eth} ETH is ${my_eth_value:0.2f}\")\n",
    "\n",
    "### Collect Investments Data Using Alpaca: `SPY` (stocks) and `AGG` (bonds)"
   ]
  },
  {
   "cell_type": "code",
   "execution_count": null,
   "metadata": {},
   "outputs": [],
   "source": []
  },
  {
   "cell_type": "code",
   "execution_count": null,
   "metadata": {},
   "outputs": [],
   "source": []
  },
  {
   "cell_type": "code",
   "execution_count": null,
   "metadata": {},
   "outputs": [],
   "source": []
  },
  {
   "cell_type": "code",
   "execution_count": 16,
   "metadata": {
    "tags": []
   },
   "outputs": [],
   "source": [
    "# Set current amount of shares\n",
    "my_agg = 200\n",
    "my_spy = 50"
   ]
  },
  {
   "cell_type": "code",
   "execution_count": 17,
   "metadata": {
    "tags": []
   },
   "outputs": [],
   "source": [
    "# Set Alpaca API key and secret\n",
    "alpaca_api_key = os.getenv(\"ALPACA_API_KEY\")\n",
    "alpaca_secret_key = os.getenv(\"ALPACA_SECRET_KEY\")\n",
    "\n",
    "# Create the Alpaca API object\n",
    "alpaca = tradeapi.REST(\n",
    "    alpaca_api_key,\n",
    "    alpaca_secret_key,\n",
    "    api_version=\"v2\")"
   ]
  },
  {
   "cell_type": "code",
   "execution_count": 18,
   "metadata": {
    "tags": []
   },
   "outputs": [
    {
     "data": {
      "text/plain": [
       "'PKVBEXDDBED5OQ0T97T2'"
      ]
     },
     "execution_count": 18,
     "metadata": {},
     "output_type": "execute_result"
    }
   ],
   "source": [
    "alpaca_api_key"
   ]
  },
  {
   "cell_type": "code",
   "execution_count": 19,
   "metadata": {
    "tags": []
   },
   "outputs": [],
   "source": [
    "# Format current date as ISO format\n",
    "today = pd.Timestamp(\"2023-12-22\", tz=\"America/New_York\").isoformat()"
   ]
  },
  {
   "cell_type": "code",
   "execution_count": 20,
   "metadata": {
    "tags": []
   },
   "outputs": [],
   "source": [
    "# Set the tickers\n",
    "tickers = [\"AGG\", \"SPY\"]"
   ]
  },
  {
   "cell_type": "code",
   "execution_count": 21,
   "metadata": {
    "tags": []
   },
   "outputs": [],
   "source": [
    "# Set timeframe to \"1Day\" for Alpaca API\n",
    "timeframe = \"1Day\""
   ]
  },
  {
   "cell_type": "code",
   "execution_count": 22,
   "metadata": {
    "tags": []
   },
   "outputs": [],
   "source": [
    "# Get current closing prices for SPY and AGG\n",
    "df_portfolio = alpaca.get_bars(\n",
    "    tickers,\n",
    "    timeframe,\n",
    "    start = today,\n",
    "    end = today\n",
    ").df"
   ]
  },
  {
   "cell_type": "code",
   "execution_count": 23,
   "metadata": {
    "tags": []
   },
   "outputs": [
    {
     "data": {
      "text/html": [
       "<div>\n",
       "<style scoped>\n",
       "    .dataframe tbody tr th:only-of-type {\n",
       "        vertical-align: middle;\n",
       "    }\n",
       "\n",
       "    .dataframe tbody tr th {\n",
       "        vertical-align: top;\n",
       "    }\n",
       "\n",
       "    .dataframe thead th {\n",
       "        text-align: right;\n",
       "    }\n",
       "</style>\n",
       "<table border=\"1\" class=\"dataframe\">\n",
       "  <thead>\n",
       "    <tr style=\"text-align: right;\">\n",
       "      <th></th>\n",
       "      <th>close</th>\n",
       "      <th>high</th>\n",
       "      <th>low</th>\n",
       "      <th>trade_count</th>\n",
       "      <th>open</th>\n",
       "      <th>volume</th>\n",
       "      <th>vwap</th>\n",
       "      <th>symbol</th>\n",
       "    </tr>\n",
       "    <tr>\n",
       "      <th>timestamp</th>\n",
       "      <th></th>\n",
       "      <th></th>\n",
       "      <th></th>\n",
       "      <th></th>\n",
       "      <th></th>\n",
       "      <th></th>\n",
       "      <th></th>\n",
       "      <th></th>\n",
       "    </tr>\n",
       "  </thead>\n",
       "  <tbody>\n",
       "    <tr>\n",
       "      <th>2023-12-22 05:00:00+00:00</th>\n",
       "      <td>98.83</td>\n",
       "      <td>99.135</td>\n",
       "      <td>98.805</td>\n",
       "      <td>33780</td>\n",
       "      <td>99.13</td>\n",
       "      <td>13234679</td>\n",
       "      <td>98.888992</td>\n",
       "      <td>AGG</td>\n",
       "    </tr>\n",
       "    <tr>\n",
       "      <th>2023-12-22 05:00:00+00:00</th>\n",
       "      <td>473.65</td>\n",
       "      <td>475.380</td>\n",
       "      <td>471.700</td>\n",
       "      <td>485465</td>\n",
       "      <td>473.86</td>\n",
       "      <td>67131807</td>\n",
       "      <td>473.800078</td>\n",
       "      <td>SPY</td>\n",
       "    </tr>\n",
       "  </tbody>\n",
       "</table>\n",
       "</div>"
      ],
      "text/plain": [
       "                            close     high      low  trade_count    open  \\\n",
       "timestamp                                                                  \n",
       "2023-12-22 05:00:00+00:00   98.83   99.135   98.805        33780   99.13   \n",
       "2023-12-22 05:00:00+00:00  473.65  475.380  471.700       485465  473.86   \n",
       "\n",
       "                             volume        vwap symbol  \n",
       "timestamp                                               \n",
       "2023-12-22 05:00:00+00:00  13234679   98.888992    AGG  \n",
       "2023-12-22 05:00:00+00:00  67131807  473.800078    SPY  "
      ]
     },
     "execution_count": 23,
     "metadata": {},
     "output_type": "execute_result"
    }
   ],
   "source": [
    "df_portfolio"
   ]
  },
  {
   "cell_type": "code",
   "execution_count": 24,
   "metadata": {
    "tags": []
   },
   "outputs": [
    {
     "data": {
      "text/html": [
       "<div>\n",
       "<style scoped>\n",
       "    .dataframe tbody tr th:only-of-type {\n",
       "        vertical-align: middle;\n",
       "    }\n",
       "\n",
       "    .dataframe tbody tr th {\n",
       "        vertical-align: top;\n",
       "    }\n",
       "\n",
       "    .dataframe thead tr th {\n",
       "        text-align: left;\n",
       "    }\n",
       "\n",
       "    .dataframe thead tr:last-of-type th {\n",
       "        text-align: right;\n",
       "    }\n",
       "</style>\n",
       "<table border=\"1\" class=\"dataframe\">\n",
       "  <thead>\n",
       "    <tr>\n",
       "      <th></th>\n",
       "      <th colspan=\"7\" halign=\"left\">AGG</th>\n",
       "      <th colspan=\"7\" halign=\"left\">SPY</th>\n",
       "    </tr>\n",
       "    <tr>\n",
       "      <th></th>\n",
       "      <th>close</th>\n",
       "      <th>high</th>\n",
       "      <th>low</th>\n",
       "      <th>trade_count</th>\n",
       "      <th>open</th>\n",
       "      <th>volume</th>\n",
       "      <th>vwap</th>\n",
       "      <th>close</th>\n",
       "      <th>high</th>\n",
       "      <th>low</th>\n",
       "      <th>trade_count</th>\n",
       "      <th>open</th>\n",
       "      <th>volume</th>\n",
       "      <th>vwap</th>\n",
       "    </tr>\n",
       "    <tr>\n",
       "      <th>timestamp</th>\n",
       "      <th></th>\n",
       "      <th></th>\n",
       "      <th></th>\n",
       "      <th></th>\n",
       "      <th></th>\n",
       "      <th></th>\n",
       "      <th></th>\n",
       "      <th></th>\n",
       "      <th></th>\n",
       "      <th></th>\n",
       "      <th></th>\n",
       "      <th></th>\n",
       "      <th></th>\n",
       "      <th></th>\n",
       "    </tr>\n",
       "  </thead>\n",
       "  <tbody>\n",
       "    <tr>\n",
       "      <th>2023-12-22 05:00:00+00:00</th>\n",
       "      <td>98.83</td>\n",
       "      <td>99.135</td>\n",
       "      <td>98.805</td>\n",
       "      <td>33780</td>\n",
       "      <td>99.13</td>\n",
       "      <td>13234679</td>\n",
       "      <td>98.888992</td>\n",
       "      <td>473.65</td>\n",
       "      <td>475.38</td>\n",
       "      <td>471.7</td>\n",
       "      <td>485465</td>\n",
       "      <td>473.86</td>\n",
       "      <td>67131807</td>\n",
       "      <td>473.800078</td>\n",
       "    </tr>\n",
       "  </tbody>\n",
       "</table>\n",
       "</div>"
      ],
      "text/plain": [
       "                             AGG                                               \\\n",
       "                           close    high     low trade_count   open    volume   \n",
       "timestamp                                                                       \n",
       "2023-12-22 05:00:00+00:00  98.83  99.135  98.805       33780  99.13  13234679   \n",
       "\n",
       "                                         SPY                             \\\n",
       "                                vwap   close    high    low trade_count   \n",
       "timestamp                                                                 \n",
       "2023-12-22 05:00:00+00:00  98.888992  473.65  475.38  471.7      485465   \n",
       "\n",
       "                                                         \n",
       "                             open    volume        vwap  \n",
       "timestamp                                                \n",
       "2023-12-22 05:00:00+00:00  473.86  67131807  473.800078  "
      ]
     },
     "execution_count": 24,
     "metadata": {},
     "output_type": "execute_result"
    }
   ],
   "source": [
    "# Reorganize the DataFrame\n",
    "# Separate ticker data\n",
    "AGG = df_portfolio[df_portfolio['symbol']=='AGG'].drop('symbol', axis=1)\n",
    "SPY = df_portfolio[df_portfolio['symbol']=='SPY'].drop('symbol', axis=1)\n",
    "\n",
    "# Concatenate the ticker DataFrames\n",
    "df_portfolio = pd.concat([AGG, SPY],axis=1, keys=['AGG','SPY'])\n",
    "\n",
    "# Preview DataFrame\n",
    "df_portfolio"
   ]
  },
  {
   "cell_type": "code",
   "execution_count": 25,
   "metadata": {
    "tags": []
   },
   "outputs": [
    {
     "name": "stdout",
     "output_type": "stream",
     "text": [
      "Current AGG closing price: $98.83\n",
      "Current SPY closing price: $473.65\n"
     ]
    },
    {
     "name": "stderr",
     "output_type": "stream",
     "text": [
      "C:\\Users\\PC2\\AppData\\Local\\Temp\\ipykernel_10536\\4254263255.py:2: FutureWarning: Calling float on a single element Series is deprecated and will raise a TypeError in the future. Use float(ser.iloc[0]) instead\n",
      "  agg_close_price = float(df_portfolio[\"AGG\"][\"close\"])\n",
      "C:\\Users\\PC2\\AppData\\Local\\Temp\\ipykernel_10536\\4254263255.py:3: FutureWarning: Calling float on a single element Series is deprecated and will raise a TypeError in the future. Use float(ser.iloc[0]) instead\n",
      "  spy_close_price = float(df_portfolio[\"SPY\"][\"close\"])\n"
     ]
    }
   ],
   "source": [
    "# Pick AGG and SPY close prices\n",
    "agg_close_price = float(df_portfolio[\"AGG\"][\"close\"])\n",
    "spy_close_price = float(df_portfolio[\"SPY\"][\"close\"])\n",
    "\n",
    "# Print AGG and SPY close prices\n",
    "print(f\"Current AGG closing price: ${agg_close_price}\")\n",
    "print(f\"Current SPY closing price: ${spy_close_price}\")"
   ]
  },
  {
   "cell_type": "code",
   "execution_count": 26,
   "metadata": {
    "tags": []
   },
   "outputs": [
    {
     "name": "stdout",
     "output_type": "stream",
     "text": [
      "The current value of your 50 SPY shares is $23682.50\n",
      "The current value of your 200 AGG shares is $19766.00\n"
     ]
    }
   ],
   "source": [
    "# Compute the current value of shares\n",
    "my_agg_value = agg_close_price * my_agg\n",
    "my_spy_value = spy_close_price * my_spy\n",
    "# Print current value of shares\n",
    "print(f\"The current value of your {my_spy} SPY shares is ${my_spy_value:0.2f}\")\n",
    "print(f\"The current value of your {my_agg} AGG shares is ${my_agg_value:0.2f}\")"
   ]
  },
  {
   "cell_type": "markdown",
   "metadata": {},
   "source": [
    "### Savings Health Analysis"
   ]
  },
  {
   "cell_type": "code",
   "execution_count": 27,
   "metadata": {
    "tags": []
   },
   "outputs": [],
   "source": [
    "# Set monthly household income\n",
    "monthly_income = 12000"
   ]
  },
  {
   "cell_type": "code",
   "execution_count": 28,
   "metadata": {
    "tags": []
   },
   "outputs": [
    {
     "name": "stdout",
     "output_type": "stream",
     "text": [
      "129348.3039185\n",
      "85899.8039185\n",
      "43448.5\n"
     ]
    }
   ],
   "source": [
    "# Consolidate financial assets data\n",
    "crypto = my_btc_value + my_eth_value \n",
    "shares = my_agg_value + my_spy_value\n",
    "financial_assets = crypto + shares\n",
    "print(financial_assets)\n",
    "print(crypto)\n",
    "print(shares)"
   ]
  },
  {
   "cell_type": "code",
   "execution_count": 29,
   "metadata": {
    "tags": []
   },
   "outputs": [],
   "source": [
    "# Create savings DataFrame\n",
    "types = [\"crypto\", \"shares\"]\n",
    "df_savings = pd.DataFrame(index = types, columns = [\"amount\"])\n",
    "df_savings.loc[df_savings.index[0], \"amount\"] = crypto\n",
    "df_savings.loc[df_savings.index[1], \"amount\"] = shares"
   ]
  },
  {
   "cell_type": "code",
   "execution_count": 30,
   "metadata": {
    "tags": []
   },
   "outputs": [
    {
     "data": {
      "text/html": [
       "<div>\n",
       "<style scoped>\n",
       "    .dataframe tbody tr th:only-of-type {\n",
       "        vertical-align: middle;\n",
       "    }\n",
       "\n",
       "    .dataframe tbody tr th {\n",
       "        vertical-align: top;\n",
       "    }\n",
       "\n",
       "    .dataframe thead th {\n",
       "        text-align: right;\n",
       "    }\n",
       "</style>\n",
       "<table border=\"1\" class=\"dataframe\">\n",
       "  <thead>\n",
       "    <tr style=\"text-align: right;\">\n",
       "      <th></th>\n",
       "      <th>amount</th>\n",
       "    </tr>\n",
       "  </thead>\n",
       "  <tbody>\n",
       "    <tr>\n",
       "      <th>crypto</th>\n",
       "      <td>85899.803918</td>\n",
       "    </tr>\n",
       "    <tr>\n",
       "      <th>shares</th>\n",
       "      <td>43448.5</td>\n",
       "    </tr>\n",
       "  </tbody>\n",
       "</table>\n",
       "</div>"
      ],
      "text/plain": [
       "              amount\n",
       "crypto  85899.803918\n",
       "shares       43448.5"
      ]
     },
     "metadata": {},
     "output_type": "display_data"
    }
   ],
   "source": [
    "# Display savings DataFrame\n",
    "display(df_savings)"
   ]
  },
  {
   "cell_type": "code",
   "execution_count": 31,
   "metadata": {
    "tags": []
   },
   "outputs": [
    {
     "data": {
      "text/plain": [
       "<Axes: title={'center': 'Stocks Portfolio Composition'}, ylabel='amount'>"
      ]
     },
     "execution_count": 31,
     "metadata": {},
     "output_type": "execute_result"
    },
    {
     "data": {
      "image/png": "[encoded data removed]",
      "text/plain": [
       "<Figure size 640x480 with 1 Axes>"
      ]
     },
     "metadata": {},
     "output_type": "display_data"
    }
   ],
   "source": [
    "# Plot savings pie chart\n",
    "df_savings.plot.pie(y=\"amount\", title=\"Stocks Portfolio Composition\")"
   ]
  },
  {
   "cell_type": "code",
   "execution_count": 32,
   "metadata": {
    "tags": []
   },
   "outputs": [
    {
     "name": "stdout",
     "output_type": "stream",
     "text": [
      "You have enough funds set for emergencies\n"
     ]
    }
   ],
   "source": [
    "# Set ideal emergency fund\n",
    "emergency_fund = monthly_income * 3\n",
    "\n",
    "# Calculate total amount of savings\n",
    "financial_assets\n",
    "\n",
    "# Validate saving health\n",
    "if emergency_fund < financial_assets:\n",
    "    print(\"You have enough funds set for emergencies\")\n",
    "elif emergency_fund == financial_assets:\n",
    "    print(\"You have reached your goals\")\n",
    "else:\n",
    "    print(f\"You are {emergency_fund - financial_assets} away from reaching your emergency fund.\")\n"
   ]
  },
  {
   "cell_type": "markdown",
   "metadata": {},
   "source": [
    "## Part 2 - Retirement Planning\n",
    "\n",
    "### Monte Carlo Simulation"
   ]
  },
  {
   "cell_type": "code",
   "execution_count": 33,
   "metadata": {
    "tags": []
   },
   "outputs": [],
   "source": [
    "# Set Alpaca API key and secret\n",
    "alpaca_api_key = os.getenv(\"ALPACA_API_KEY\")\n",
    "alpaca_secret_key = os.getenv(\"ALPACA_SECRET_KEY\")\n",
    "\n",
    "# Create the Alpaca API object\n",
    "alpaca = tradeapi.REST(\n",
    "    alpaca_api_key,\n",
    "    alpaca_secret_key,\n",
    "    api_version=\"v2\")"
   ]
  },
  {
   "cell_type": "code",
   "execution_count": 34,
   "metadata": {
    "tags": []
   },
   "outputs": [],
   "source": [
    "# Format current date as ISO format\n",
    "today = pd.Timestamp(\"2023-12-22\", tz=\"America/New_York\").isoformat()"
   ]
  },
  {
   "cell_type": "code",
   "execution_count": 35,
   "metadata": {
    "tags": []
   },
   "outputs": [],
   "source": [
    "# Set start and end dates of five years back from today.\n",
    "# Sample results may vary from the solution based on the time frame chosen\n",
    "start_date = pd.Timestamp('2018-12-22', tz='America/New_York').isoformat()\n",
    "end_date = pd.Timestamp('2023-12-22', tz='America/New_York').isoformat()"
   ]
  },
  {
   "cell_type": "code",
   "execution_count": 36,
   "metadata": {
    "tags": []
   },
   "outputs": [],
   "source": [
    "# Set the tickers\n",
    "tickers = [\"AGG\", \"SPY\"]"
   ]
  },
  {
   "cell_type": "code",
   "execution_count": 37,
   "metadata": {
    "tags": []
   },
   "outputs": [],
   "source": [
    "# Set timeframe to \"1Day\" for Alpaca API\n",
    "timeframe = \"1Day\""
   ]
  },
  {
   "cell_type": "code",
   "execution_count": 38,
   "metadata": {
    "tags": []
   },
   "outputs": [
    {
     "data": {
      "text/html": [
       "<div>\n",
       "<style scoped>\n",
       "    .dataframe tbody tr th:only-of-type {\n",
       "        vertical-align: middle;\n",
       "    }\n",
       "\n",
       "    .dataframe tbody tr th {\n",
       "        vertical-align: top;\n",
       "    }\n",
       "\n",
       "    .dataframe thead th {\n",
       "        text-align: right;\n",
       "    }\n",
       "</style>\n",
       "<table border=\"1\" class=\"dataframe\">\n",
       "  <thead>\n",
       "    <tr style=\"text-align: right;\">\n",
       "      <th></th>\n",
       "      <th>close</th>\n",
       "      <th>high</th>\n",
       "      <th>low</th>\n",
       "      <th>trade_count</th>\n",
       "      <th>open</th>\n",
       "      <th>volume</th>\n",
       "      <th>vwap</th>\n",
       "      <th>symbol</th>\n",
       "    </tr>\n",
       "    <tr>\n",
       "      <th>timestamp</th>\n",
       "      <th></th>\n",
       "      <th></th>\n",
       "      <th></th>\n",
       "      <th></th>\n",
       "      <th></th>\n",
       "      <th></th>\n",
       "      <th></th>\n",
       "      <th></th>\n",
       "    </tr>\n",
       "  </thead>\n",
       "  <tbody>\n",
       "    <tr>\n",
       "      <th>2018-12-24 05:00:00+00:00</th>\n",
       "      <td>105.86</td>\n",
       "      <td>105.9999</td>\n",
       "      <td>105.8100</td>\n",
       "      <td>15729</td>\n",
       "      <td>105.95</td>\n",
       "      <td>7596737</td>\n",
       "      <td>105.891184</td>\n",
       "      <td>AGG</td>\n",
       "    </tr>\n",
       "    <tr>\n",
       "      <th>2018-12-26 05:00:00+00:00</th>\n",
       "      <td>105.66</td>\n",
       "      <td>106.0000</td>\n",
       "      <td>105.6300</td>\n",
       "      <td>22624</td>\n",
       "      <td>105.92</td>\n",
       "      <td>10340660</td>\n",
       "      <td>105.773037</td>\n",
       "      <td>AGG</td>\n",
       "    </tr>\n",
       "    <tr>\n",
       "      <th>2018-12-27 05:00:00+00:00</th>\n",
       "      <td>105.83</td>\n",
       "      <td>106.0600</td>\n",
       "      <td>105.7700</td>\n",
       "      <td>22340</td>\n",
       "      <td>105.95</td>\n",
       "      <td>12277252</td>\n",
       "      <td>105.916624</td>\n",
       "      <td>AGG</td>\n",
       "    </tr>\n",
       "    <tr>\n",
       "      <th>2018-12-28 05:00:00+00:00</th>\n",
       "      <td>106.22</td>\n",
       "      <td>106.2200</td>\n",
       "      <td>105.9400</td>\n",
       "      <td>20231</td>\n",
       "      <td>105.97</td>\n",
       "      <td>7244473</td>\n",
       "      <td>106.097820</td>\n",
       "      <td>AGG</td>\n",
       "    </tr>\n",
       "    <tr>\n",
       "      <th>2018-12-31 05:00:00+00:00</th>\n",
       "      <td>106.49</td>\n",
       "      <td>106.5100</td>\n",
       "      <td>106.1100</td>\n",
       "      <td>27920</td>\n",
       "      <td>106.12</td>\n",
       "      <td>10613435</td>\n",
       "      <td>106.394350</td>\n",
       "      <td>AGG</td>\n",
       "    </tr>\n",
       "    <tr>\n",
       "      <th>...</th>\n",
       "      <td>...</td>\n",
       "      <td>...</td>\n",
       "      <td>...</td>\n",
       "      <td>...</td>\n",
       "      <td>...</td>\n",
       "      <td>...</td>\n",
       "      <td>...</td>\n",
       "      <td>...</td>\n",
       "    </tr>\n",
       "    <tr>\n",
       "      <th>2023-12-18 05:00:00+00:00</th>\n",
       "      <td>471.97</td>\n",
       "      <td>472.9800</td>\n",
       "      <td>469.8929</td>\n",
       "      <td>459241</td>\n",
       "      <td>470.98</td>\n",
       "      <td>70375385</td>\n",
       "      <td>471.855993</td>\n",
       "      <td>SPY</td>\n",
       "    </tr>\n",
       "    <tr>\n",
       "      <th>2023-12-19 05:00:00+00:00</th>\n",
       "      <td>474.84</td>\n",
       "      <td>474.9200</td>\n",
       "      <td>472.4500</td>\n",
       "      <td>416105</td>\n",
       "      <td>472.53</td>\n",
       "      <td>55762005</td>\n",
       "      <td>473.975693</td>\n",
       "      <td>SPY</td>\n",
       "    </tr>\n",
       "    <tr>\n",
       "      <th>2023-12-20 05:00:00+00:00</th>\n",
       "      <td>468.26</td>\n",
       "      <td>475.8950</td>\n",
       "      <td>467.8200</td>\n",
       "      <td>666863</td>\n",
       "      <td>473.96</td>\n",
       "      <td>102920959</td>\n",
       "      <td>471.674917</td>\n",
       "      <td>SPY</td>\n",
       "    </tr>\n",
       "    <tr>\n",
       "      <th>2023-12-21 05:00:00+00:00</th>\n",
       "      <td>472.70</td>\n",
       "      <td>472.9750</td>\n",
       "      <td>468.8400</td>\n",
       "      <td>600930</td>\n",
       "      <td>471.33</td>\n",
       "      <td>86679796</td>\n",
       "      <td>471.228177</td>\n",
       "      <td>SPY</td>\n",
       "    </tr>\n",
       "    <tr>\n",
       "      <th>2023-12-22 05:00:00+00:00</th>\n",
       "      <td>473.65</td>\n",
       "      <td>475.3800</td>\n",
       "      <td>471.7000</td>\n",
       "      <td>485465</td>\n",
       "      <td>473.86</td>\n",
       "      <td>67131807</td>\n",
       "      <td>473.800078</td>\n",
       "      <td>SPY</td>\n",
       "    </tr>\n",
       "  </tbody>\n",
       "</table>\n",
       "<p>2518 rows × 8 columns</p>\n",
       "</div>"
      ],
      "text/plain": [
       "                            close      high       low  trade_count    open  \\\n",
       "timestamp                                                                    \n",
       "2018-12-24 05:00:00+00:00  105.86  105.9999  105.8100        15729  105.95   \n",
       "2018-12-26 05:00:00+00:00  105.66  106.0000  105.6300        22624  105.92   \n",
       "2018-12-27 05:00:00+00:00  105.83  106.0600  105.7700        22340  105.95   \n",
       "2018-12-28 05:00:00+00:00  106.22  106.2200  105.9400        20231  105.97   \n",
       "2018-12-31 05:00:00+00:00  106.49  106.5100  106.1100        27920  106.12   \n",
       "...                           ...       ...       ...          ...     ...   \n",
       "2023-12-18 05:00:00+00:00  471.97  472.9800  469.8929       459241  470.98   \n",
       "2023-12-19 05:00:00+00:00  474.84  474.9200  472.4500       416105  472.53   \n",
       "2023-12-20 05:00:00+00:00  468.26  475.8950  467.8200       666863  473.96   \n",
       "2023-12-21 05:00:00+00:00  472.70  472.9750  468.8400       600930  471.33   \n",
       "2023-12-22 05:00:00+00:00  473.65  475.3800  471.7000       485465  473.86   \n",
       "\n",
       "                              volume        vwap symbol  \n",
       "timestamp                                                \n",
       "2018-12-24 05:00:00+00:00    7596737  105.891184    AGG  \n",
       "2018-12-26 05:00:00+00:00   10340660  105.773037    AGG  \n",
       "2018-12-27 05:00:00+00:00   12277252  105.916624    AGG  \n",
       "2018-12-28 05:00:00+00:00    7244473  106.097820    AGG  \n",
       "2018-12-31 05:00:00+00:00   10613435  106.394350    AGG  \n",
       "...                              ...         ...    ...  \n",
       "2023-12-18 05:00:00+00:00   70375385  471.855993    SPY  \n",
       "2023-12-19 05:00:00+00:00   55762005  473.975693    SPY  \n",
       "2023-12-20 05:00:00+00:00  102920959  471.674917    SPY  \n",
       "2023-12-21 05:00:00+00:00   86679796  471.228177    SPY  \n",
       "2023-12-22 05:00:00+00:00   67131807  473.800078    SPY  \n",
       "\n",
       "[2518 rows x 8 columns]"
      ]
     },
     "execution_count": 38,
     "metadata": {},
     "output_type": "execute_result"
    }
   ],
   "source": [
    "# Get 5 years' worth of historical data for SPY and AGG\n",
    "ticker_data_5 = alpaca.get_bars(\n",
    "    tickers,\n",
    "    timeframe,\n",
    "    start=start_date,\n",
    "    end=end_date\n",
    ").df\n",
    "\n",
    "ticker_data_5"
   ]
  },
  {
   "cell_type": "code",
   "execution_count": 39,
   "metadata": {},
   "outputs": [],
   "source": [
    "# Reorganize the DataFrame\n",
    "# Separate ticker data\n",
    "AGG = ticker_data_5[ticker_data_5['symbol']=='AGG'].drop('symbol', axis=1)\n",
    "SPY = ticker_data_5[ticker_data_5['symbol']=='SPY'].drop('symbol', axis=1)"
   ]
  },
  {
   "cell_type": "code",
   "execution_count": 40,
   "metadata": {},
   "outputs": [],
   "source": [
    "# Concatenate the ticker DataFrames\n",
    "ticker_data_5 = pd.concat([AGG, SPY],axis=1, keys=['AGG','SPY'])"
   ]
  },
  {
   "cell_type": "code",
   "execution_count": 41,
   "metadata": {},
   "outputs": [
    {
     "data": {
      "text/html": [
       "<div>\n",
       "<style scoped>\n",
       "    .dataframe tbody tr th:only-of-type {\n",
       "        vertical-align: middle;\n",
       "    }\n",
       "\n",
       "    .dataframe tbody tr th {\n",
       "        vertical-align: top;\n",
       "    }\n",
       "\n",
       "    .dataframe thead tr th {\n",
       "        text-align: left;\n",
       "    }\n",
       "\n",
       "    .dataframe thead tr:last-of-type th {\n",
       "        text-align: right;\n",
       "    }\n",
       "</style>\n",
       "<table border=\"1\" class=\"dataframe\">\n",
       "  <thead>\n",
       "    <tr>\n",
       "      <th></th>\n",
       "      <th colspan=\"7\" halign=\"left\">AGG</th>\n",
       "      <th colspan=\"7\" halign=\"left\">SPY</th>\n",
       "    </tr>\n",
       "    <tr>\n",
       "      <th></th>\n",
       "      <th>close</th>\n",
       "      <th>high</th>\n",
       "      <th>low</th>\n",
       "      <th>trade_count</th>\n",
       "      <th>open</th>\n",
       "      <th>volume</th>\n",
       "      <th>vwap</th>\n",
       "      <th>close</th>\n",
       "      <th>high</th>\n",
       "      <th>low</th>\n",
       "      <th>trade_count</th>\n",
       "      <th>open</th>\n",
       "      <th>volume</th>\n",
       "      <th>vwap</th>\n",
       "    </tr>\n",
       "    <tr>\n",
       "      <th>timestamp</th>\n",
       "      <th></th>\n",
       "      <th></th>\n",
       "      <th></th>\n",
       "      <th></th>\n",
       "      <th></th>\n",
       "      <th></th>\n",
       "      <th></th>\n",
       "      <th></th>\n",
       "      <th></th>\n",
       "      <th></th>\n",
       "      <th></th>\n",
       "      <th></th>\n",
       "      <th></th>\n",
       "      <th></th>\n",
       "    </tr>\n",
       "  </thead>\n",
       "  <tbody>\n",
       "    <tr>\n",
       "      <th>2018-12-24 05:00:00+00:00</th>\n",
       "      <td>105.86</td>\n",
       "      <td>105.9999</td>\n",
       "      <td>105.810</td>\n",
       "      <td>15729</td>\n",
       "      <td>105.95</td>\n",
       "      <td>7596737</td>\n",
       "      <td>105.891184</td>\n",
       "      <td>234.3700</td>\n",
       "      <td>240.8355</td>\n",
       "      <td>234.2700</td>\n",
       "      <td>683160</td>\n",
       "      <td>239.04</td>\n",
       "      <td>148557724</td>\n",
       "      <td>237.255995</td>\n",
       "    </tr>\n",
       "    <tr>\n",
       "      <th>2018-12-26 05:00:00+00:00</th>\n",
       "      <td>105.66</td>\n",
       "      <td>106.0000</td>\n",
       "      <td>105.630</td>\n",
       "      <td>22624</td>\n",
       "      <td>105.92</td>\n",
       "      <td>10340660</td>\n",
       "      <td>105.773037</td>\n",
       "      <td>245.9095</td>\n",
       "      <td>246.1800</td>\n",
       "      <td>233.7600</td>\n",
       "      <td>1032193</td>\n",
       "      <td>235.97</td>\n",
       "      <td>222380482</td>\n",
       "      <td>239.671178</td>\n",
       "    </tr>\n",
       "    <tr>\n",
       "      <th>2018-12-27 05:00:00+00:00</th>\n",
       "      <td>105.83</td>\n",
       "      <td>106.0600</td>\n",
       "      <td>105.770</td>\n",
       "      <td>22340</td>\n",
       "      <td>105.95</td>\n",
       "      <td>12277252</td>\n",
       "      <td>105.916624</td>\n",
       "      <td>248.2100</td>\n",
       "      <td>248.2900</td>\n",
       "      <td>238.9600</td>\n",
       "      <td>978537</td>\n",
       "      <td>242.57</td>\n",
       "      <td>190958804</td>\n",
       "      <td>243.591558</td>\n",
       "    </tr>\n",
       "    <tr>\n",
       "      <th>2018-12-28 05:00:00+00:00</th>\n",
       "      <td>106.22</td>\n",
       "      <td>106.2200</td>\n",
       "      <td>105.940</td>\n",
       "      <td>20231</td>\n",
       "      <td>105.97</td>\n",
       "      <td>7244473</td>\n",
       "      <td>106.097820</td>\n",
       "      <td>247.7300</td>\n",
       "      <td>251.4000</td>\n",
       "      <td>246.4500</td>\n",
       "      <td>799874</td>\n",
       "      <td>249.58</td>\n",
       "      <td>154974847</td>\n",
       "      <td>248.568742</td>\n",
       "    </tr>\n",
       "    <tr>\n",
       "      <th>2018-12-31 05:00:00+00:00</th>\n",
       "      <td>106.49</td>\n",
       "      <td>106.5100</td>\n",
       "      <td>106.110</td>\n",
       "      <td>27920</td>\n",
       "      <td>106.12</td>\n",
       "      <td>10613435</td>\n",
       "      <td>106.394350</td>\n",
       "      <td>250.0800</td>\n",
       "      <td>250.1900</td>\n",
       "      <td>247.4700</td>\n",
       "      <td>591024</td>\n",
       "      <td>249.56</td>\n",
       "      <td>147557713</td>\n",
       "      <td>249.158331</td>\n",
       "    </tr>\n",
       "    <tr>\n",
       "      <th>...</th>\n",
       "      <td>...</td>\n",
       "      <td>...</td>\n",
       "      <td>...</td>\n",
       "      <td>...</td>\n",
       "      <td>...</td>\n",
       "      <td>...</td>\n",
       "      <td>...</td>\n",
       "      <td>...</td>\n",
       "      <td>...</td>\n",
       "      <td>...</td>\n",
       "      <td>...</td>\n",
       "      <td>...</td>\n",
       "      <td>...</td>\n",
       "      <td>...</td>\n",
       "    </tr>\n",
       "    <tr>\n",
       "      <th>2023-12-18 05:00:00+00:00</th>\n",
       "      <td>98.49</td>\n",
       "      <td>98.5800</td>\n",
       "      <td>98.420</td>\n",
       "      <td>28345</td>\n",
       "      <td>98.58</td>\n",
       "      <td>11521007</td>\n",
       "      <td>98.483410</td>\n",
       "      <td>471.9700</td>\n",
       "      <td>472.9800</td>\n",
       "      <td>469.8929</td>\n",
       "      <td>459241</td>\n",
       "      <td>470.98</td>\n",
       "      <td>70375385</td>\n",
       "      <td>471.855993</td>\n",
       "    </tr>\n",
       "    <tr>\n",
       "      <th>2023-12-19 05:00:00+00:00</th>\n",
       "      <td>98.61</td>\n",
       "      <td>98.7770</td>\n",
       "      <td>98.590</td>\n",
       "      <td>31532</td>\n",
       "      <td>98.63</td>\n",
       "      <td>13787123</td>\n",
       "      <td>98.653839</td>\n",
       "      <td>474.8400</td>\n",
       "      <td>474.9200</td>\n",
       "      <td>472.4500</td>\n",
       "      <td>416105</td>\n",
       "      <td>472.53</td>\n",
       "      <td>55762005</td>\n",
       "      <td>473.975693</td>\n",
       "    </tr>\n",
       "    <tr>\n",
       "      <th>2023-12-20 05:00:00+00:00</th>\n",
       "      <td>98.97</td>\n",
       "      <td>99.0400</td>\n",
       "      <td>98.690</td>\n",
       "      <td>29677</td>\n",
       "      <td>98.87</td>\n",
       "      <td>9994103</td>\n",
       "      <td>98.858369</td>\n",
       "      <td>468.2600</td>\n",
       "      <td>475.8950</td>\n",
       "      <td>467.8200</td>\n",
       "      <td>666863</td>\n",
       "      <td>473.96</td>\n",
       "      <td>102920959</td>\n",
       "      <td>471.674917</td>\n",
       "    </tr>\n",
       "    <tr>\n",
       "      <th>2023-12-21 05:00:00+00:00</th>\n",
       "      <td>98.96</td>\n",
       "      <td>99.2550</td>\n",
       "      <td>98.830</td>\n",
       "      <td>29962</td>\n",
       "      <td>99.22</td>\n",
       "      <td>9099118</td>\n",
       "      <td>98.984754</td>\n",
       "      <td>472.7000</td>\n",
       "      <td>472.9750</td>\n",
       "      <td>468.8400</td>\n",
       "      <td>600930</td>\n",
       "      <td>471.33</td>\n",
       "      <td>86679796</td>\n",
       "      <td>471.228177</td>\n",
       "    </tr>\n",
       "    <tr>\n",
       "      <th>2023-12-22 05:00:00+00:00</th>\n",
       "      <td>98.83</td>\n",
       "      <td>99.1350</td>\n",
       "      <td>98.805</td>\n",
       "      <td>33780</td>\n",
       "      <td>99.13</td>\n",
       "      <td>13234679</td>\n",
       "      <td>98.888992</td>\n",
       "      <td>473.6500</td>\n",
       "      <td>475.3800</td>\n",
       "      <td>471.7000</td>\n",
       "      <td>485465</td>\n",
       "      <td>473.86</td>\n",
       "      <td>67131807</td>\n",
       "      <td>473.800078</td>\n",
       "    </tr>\n",
       "  </tbody>\n",
       "</table>\n",
       "<p>1259 rows × 14 columns</p>\n",
       "</div>"
      ],
      "text/plain": [
       "                              AGG                                         \\\n",
       "                            close      high      low trade_count    open   \n",
       "timestamp                                                                  \n",
       "2018-12-24 05:00:00+00:00  105.86  105.9999  105.810       15729  105.95   \n",
       "2018-12-26 05:00:00+00:00  105.66  106.0000  105.630       22624  105.92   \n",
       "2018-12-27 05:00:00+00:00  105.83  106.0600  105.770       22340  105.95   \n",
       "2018-12-28 05:00:00+00:00  106.22  106.2200  105.940       20231  105.97   \n",
       "2018-12-31 05:00:00+00:00  106.49  106.5100  106.110       27920  106.12   \n",
       "...                           ...       ...      ...         ...     ...   \n",
       "2023-12-18 05:00:00+00:00   98.49   98.5800   98.420       28345   98.58   \n",
       "2023-12-19 05:00:00+00:00   98.61   98.7770   98.590       31532   98.63   \n",
       "2023-12-20 05:00:00+00:00   98.97   99.0400   98.690       29677   98.87   \n",
       "2023-12-21 05:00:00+00:00   98.96   99.2550   98.830       29962   99.22   \n",
       "2023-12-22 05:00:00+00:00   98.83   99.1350   98.805       33780   99.13   \n",
       "\n",
       "                                                      SPY                      \\\n",
       "                             volume        vwap     close      high       low   \n",
       "timestamp                                                                       \n",
       "2018-12-24 05:00:00+00:00   7596737  105.891184  234.3700  240.8355  234.2700   \n",
       "2018-12-26 05:00:00+00:00  10340660  105.773037  245.9095  246.1800  233.7600   \n",
       "2018-12-27 05:00:00+00:00  12277252  105.916624  248.2100  248.2900  238.9600   \n",
       "2018-12-28 05:00:00+00:00   7244473  106.097820  247.7300  251.4000  246.4500   \n",
       "2018-12-31 05:00:00+00:00  10613435  106.394350  250.0800  250.1900  247.4700   \n",
       "...                             ...         ...       ...       ...       ...   \n",
       "2023-12-18 05:00:00+00:00  11521007   98.483410  471.9700  472.9800  469.8929   \n",
       "2023-12-19 05:00:00+00:00  13787123   98.653839  474.8400  474.9200  472.4500   \n",
       "2023-12-20 05:00:00+00:00   9994103   98.858369  468.2600  475.8950  467.8200   \n",
       "2023-12-21 05:00:00+00:00   9099118   98.984754  472.7000  472.9750  468.8400   \n",
       "2023-12-22 05:00:00+00:00  13234679   98.888992  473.6500  475.3800  471.7000   \n",
       "\n",
       "                                                                      \n",
       "                          trade_count    open     volume        vwap  \n",
       "timestamp                                                             \n",
       "2018-12-24 05:00:00+00:00      683160  239.04  148557724  237.255995  \n",
       "2018-12-26 05:00:00+00:00     1032193  235.97  222380482  239.671178  \n",
       "2018-12-27 05:00:00+00:00      978537  242.57  190958804  243.591558  \n",
       "2018-12-28 05:00:00+00:00      799874  249.58  154974847  248.568742  \n",
       "2018-12-31 05:00:00+00:00      591024  249.56  147557713  249.158331  \n",
       "...                               ...     ...        ...         ...  \n",
       "2023-12-18 05:00:00+00:00      459241  470.98   70375385  471.855993  \n",
       "2023-12-19 05:00:00+00:00      416105  472.53   55762005  473.975693  \n",
       "2023-12-20 05:00:00+00:00      666863  473.96  102920959  471.674917  \n",
       "2023-12-21 05:00:00+00:00      600930  471.33   86679796  471.228177  \n",
       "2023-12-22 05:00:00+00:00      485465  473.86   67131807  473.800078  \n",
       "\n",
       "[1259 rows x 14 columns]"
      ]
     },
     "execution_count": 41,
     "metadata": {},
     "output_type": "execute_result"
    }
   ],
   "source": [
    "# Display sample data\n",
    "ticker_data_5"
   ]
  },
  {
   "cell_type": "code",
   "execution_count": 42,
   "metadata": {},
   "outputs": [
    {
     "data": {
      "text/html": [
       "<div>\n",
       "<style scoped>\n",
       "    .dataframe tbody tr th:only-of-type {\n",
       "        vertical-align: middle;\n",
       "    }\n",
       "\n",
       "    .dataframe tbody tr th {\n",
       "        vertical-align: top;\n",
       "    }\n",
       "\n",
       "    .dataframe thead tr th {\n",
       "        text-align: left;\n",
       "    }\n",
       "</style>\n",
       "<table border=\"1\" class=\"dataframe\">\n",
       "  <thead>\n",
       "    <tr>\n",
       "      <th></th>\n",
       "      <th colspan=\"7\" halign=\"left\">AGG</th>\n",
       "      <th colspan=\"7\" halign=\"left\">SPY</th>\n",
       "    </tr>\n",
       "    <tr>\n",
       "      <th></th>\n",
       "      <th>close</th>\n",
       "      <th>high</th>\n",
       "      <th>low</th>\n",
       "      <th>trade_count</th>\n",
       "      <th>open</th>\n",
       "      <th>volume</th>\n",
       "      <th>vwap</th>\n",
       "      <th>close</th>\n",
       "      <th>high</th>\n",
       "      <th>low</th>\n",
       "      <th>trade_count</th>\n",
       "      <th>open</th>\n",
       "      <th>volume</th>\n",
       "      <th>vwap</th>\n",
       "    </tr>\n",
       "  </thead>\n",
       "  <tbody>\n",
       "    <tr>\n",
       "      <th>2018-12-24</th>\n",
       "      <td>105.86</td>\n",
       "      <td>105.9999</td>\n",
       "      <td>105.810</td>\n",
       "      <td>15729</td>\n",
       "      <td>105.95</td>\n",
       "      <td>7596737</td>\n",
       "      <td>105.891184</td>\n",
       "      <td>234.3700</td>\n",
       "      <td>240.8355</td>\n",
       "      <td>234.2700</td>\n",
       "      <td>683160</td>\n",
       "      <td>239.04</td>\n",
       "      <td>148557724</td>\n",
       "      <td>237.255995</td>\n",
       "    </tr>\n",
       "    <tr>\n",
       "      <th>2018-12-26</th>\n",
       "      <td>105.66</td>\n",
       "      <td>106.0000</td>\n",
       "      <td>105.630</td>\n",
       "      <td>22624</td>\n",
       "      <td>105.92</td>\n",
       "      <td>10340660</td>\n",
       "      <td>105.773037</td>\n",
       "      <td>245.9095</td>\n",
       "      <td>246.1800</td>\n",
       "      <td>233.7600</td>\n",
       "      <td>1032193</td>\n",
       "      <td>235.97</td>\n",
       "      <td>222380482</td>\n",
       "      <td>239.671178</td>\n",
       "    </tr>\n",
       "    <tr>\n",
       "      <th>2018-12-27</th>\n",
       "      <td>105.83</td>\n",
       "      <td>106.0600</td>\n",
       "      <td>105.770</td>\n",
       "      <td>22340</td>\n",
       "      <td>105.95</td>\n",
       "      <td>12277252</td>\n",
       "      <td>105.916624</td>\n",
       "      <td>248.2100</td>\n",
       "      <td>248.2900</td>\n",
       "      <td>238.9600</td>\n",
       "      <td>978537</td>\n",
       "      <td>242.57</td>\n",
       "      <td>190958804</td>\n",
       "      <td>243.591558</td>\n",
       "    </tr>\n",
       "    <tr>\n",
       "      <th>2018-12-28</th>\n",
       "      <td>106.22</td>\n",
       "      <td>106.2200</td>\n",
       "      <td>105.940</td>\n",
       "      <td>20231</td>\n",
       "      <td>105.97</td>\n",
       "      <td>7244473</td>\n",
       "      <td>106.097820</td>\n",
       "      <td>247.7300</td>\n",
       "      <td>251.4000</td>\n",
       "      <td>246.4500</td>\n",
       "      <td>799874</td>\n",
       "      <td>249.58</td>\n",
       "      <td>154974847</td>\n",
       "      <td>248.568742</td>\n",
       "    </tr>\n",
       "    <tr>\n",
       "      <th>2018-12-31</th>\n",
       "      <td>106.49</td>\n",
       "      <td>106.5100</td>\n",
       "      <td>106.110</td>\n",
       "      <td>27920</td>\n",
       "      <td>106.12</td>\n",
       "      <td>10613435</td>\n",
       "      <td>106.394350</td>\n",
       "      <td>250.0800</td>\n",
       "      <td>250.1900</td>\n",
       "      <td>247.4700</td>\n",
       "      <td>591024</td>\n",
       "      <td>249.56</td>\n",
       "      <td>147557713</td>\n",
       "      <td>249.158331</td>\n",
       "    </tr>\n",
       "    <tr>\n",
       "      <th>...</th>\n",
       "      <td>...</td>\n",
       "      <td>...</td>\n",
       "      <td>...</td>\n",
       "      <td>...</td>\n",
       "      <td>...</td>\n",
       "      <td>...</td>\n",
       "      <td>...</td>\n",
       "      <td>...</td>\n",
       "      <td>...</td>\n",
       "      <td>...</td>\n",
       "      <td>...</td>\n",
       "      <td>...</td>\n",
       "      <td>...</td>\n",
       "      <td>...</td>\n",
       "    </tr>\n",
       "    <tr>\n",
       "      <th>2023-12-18</th>\n",
       "      <td>98.49</td>\n",
       "      <td>98.5800</td>\n",
       "      <td>98.420</td>\n",
       "      <td>28345</td>\n",
       "      <td>98.58</td>\n",
       "      <td>11521007</td>\n",
       "      <td>98.483410</td>\n",
       "      <td>471.9700</td>\n",
       "      <td>472.9800</td>\n",
       "      <td>469.8929</td>\n",
       "      <td>459241</td>\n",
       "      <td>470.98</td>\n",
       "      <td>70375385</td>\n",
       "      <td>471.855993</td>\n",
       "    </tr>\n",
       "    <tr>\n",
       "      <th>2023-12-19</th>\n",
       "      <td>98.61</td>\n",
       "      <td>98.7770</td>\n",
       "      <td>98.590</td>\n",
       "      <td>31532</td>\n",
       "      <td>98.63</td>\n",
       "      <td>13787123</td>\n",
       "      <td>98.653839</td>\n",
       "      <td>474.8400</td>\n",
       "      <td>474.9200</td>\n",
       "      <td>472.4500</td>\n",
       "      <td>416105</td>\n",
       "      <td>472.53</td>\n",
       "      <td>55762005</td>\n",
       "      <td>473.975693</td>\n",
       "    </tr>\n",
       "    <tr>\n",
       "      <th>2023-12-20</th>\n",
       "      <td>98.97</td>\n",
       "      <td>99.0400</td>\n",
       "      <td>98.690</td>\n",
       "      <td>29677</td>\n",
       "      <td>98.87</td>\n",
       "      <td>9994103</td>\n",
       "      <td>98.858369</td>\n",
       "      <td>468.2600</td>\n",
       "      <td>475.8950</td>\n",
       "      <td>467.8200</td>\n",
       "      <td>666863</td>\n",
       "      <td>473.96</td>\n",
       "      <td>102920959</td>\n",
       "      <td>471.674917</td>\n",
       "    </tr>\n",
       "    <tr>\n",
       "      <th>2023-12-21</th>\n",
       "      <td>98.96</td>\n",
       "      <td>99.2550</td>\n",
       "      <td>98.830</td>\n",
       "      <td>29962</td>\n",
       "      <td>99.22</td>\n",
       "      <td>9099118</td>\n",
       "      <td>98.984754</td>\n",
       "      <td>472.7000</td>\n",
       "      <td>472.9750</td>\n",
       "      <td>468.8400</td>\n",
       "      <td>600930</td>\n",
       "      <td>471.33</td>\n",
       "      <td>86679796</td>\n",
       "      <td>471.228177</td>\n",
       "    </tr>\n",
       "    <tr>\n",
       "      <th>2023-12-22</th>\n",
       "      <td>98.83</td>\n",
       "      <td>99.1350</td>\n",
       "      <td>98.805</td>\n",
       "      <td>33780</td>\n",
       "      <td>99.13</td>\n",
       "      <td>13234679</td>\n",
       "      <td>98.888992</td>\n",
       "      <td>473.6500</td>\n",
       "      <td>475.3800</td>\n",
       "      <td>471.7000</td>\n",
       "      <td>485465</td>\n",
       "      <td>473.86</td>\n",
       "      <td>67131807</td>\n",
       "      <td>473.800078</td>\n",
       "    </tr>\n",
       "  </tbody>\n",
       "</table>\n",
       "<p>1259 rows × 14 columns</p>\n",
       "</div>"
      ],
      "text/plain": [
       "               AGG                                                   \\\n",
       "             close      high      low trade_count    open    volume   \n",
       "2018-12-24  105.86  105.9999  105.810       15729  105.95   7596737   \n",
       "2018-12-26  105.66  106.0000  105.630       22624  105.92  10340660   \n",
       "2018-12-27  105.83  106.0600  105.770       22340  105.95  12277252   \n",
       "2018-12-28  106.22  106.2200  105.940       20231  105.97   7244473   \n",
       "2018-12-31  106.49  106.5100  106.110       27920  106.12  10613435   \n",
       "...            ...       ...      ...         ...     ...       ...   \n",
       "2023-12-18   98.49   98.5800   98.420       28345   98.58  11521007   \n",
       "2023-12-19   98.61   98.7770   98.590       31532   98.63  13787123   \n",
       "2023-12-20   98.97   99.0400   98.690       29677   98.87   9994103   \n",
       "2023-12-21   98.96   99.2550   98.830       29962   99.22   9099118   \n",
       "2023-12-22   98.83   99.1350   98.805       33780   99.13  13234679   \n",
       "\n",
       "                             SPY                                          \\\n",
       "                  vwap     close      high       low trade_count    open   \n",
       "2018-12-24  105.891184  234.3700  240.8355  234.2700      683160  239.04   \n",
       "2018-12-26  105.773037  245.9095  246.1800  233.7600     1032193  235.97   \n",
       "2018-12-27  105.916624  248.2100  248.2900  238.9600      978537  242.57   \n",
       "2018-12-28  106.097820  247.7300  251.4000  246.4500      799874  249.58   \n",
       "2018-12-31  106.394350  250.0800  250.1900  247.4700      591024  249.56   \n",
       "...                ...       ...       ...       ...         ...     ...   \n",
       "2023-12-18   98.483410  471.9700  472.9800  469.8929      459241  470.98   \n",
       "2023-12-19   98.653839  474.8400  474.9200  472.4500      416105  472.53   \n",
       "2023-12-20   98.858369  468.2600  475.8950  467.8200      666863  473.96   \n",
       "2023-12-21   98.984754  472.7000  472.9750  468.8400      600930  471.33   \n",
       "2023-12-22   98.888992  473.6500  475.3800  471.7000      485465  473.86   \n",
       "\n",
       "                                   \n",
       "               volume        vwap  \n",
       "2018-12-24  148557724  237.255995  \n",
       "2018-12-26  222380482  239.671178  \n",
       "2018-12-27  190958804  243.591558  \n",
       "2018-12-28  154974847  248.568742  \n",
       "2018-12-31  147557713  249.158331  \n",
       "...               ...         ...  \n",
       "2023-12-18   70375385  471.855993  \n",
       "2023-12-19   55762005  473.975693  \n",
       "2023-12-20  102920959  471.674917  \n",
       "2023-12-21   86679796  471.228177  \n",
       "2023-12-22   67131807  473.800078  \n",
       "\n",
       "[1259 rows x 14 columns]"
      ]
     },
     "execution_count": 42,
     "metadata": {},
     "output_type": "execute_result"
    }
   ],
   "source": [
    "# Drop the time component of the date\n",
    "ticker_data_5.index = pd.to_datetime(ticker_data_5.index)\n",
    "ticker_data_5.index = ticker_data_5.index.date\n",
    "ticker_data_5"
   ]
  },
  {
   "cell_type": "code",
   "execution_count": 43,
   "metadata": {
    "tags": []
   },
   "outputs": [
    {
     "data": {
      "text/plain": [
       "\u001b[1;31mInit signature:\u001b[0m\n",
       "\u001b[0mMCSimulation\u001b[0m\u001b[1;33m(\u001b[0m\u001b[1;33m\n",
       "\u001b[0m    \u001b[0mportfolio_data\u001b[0m\u001b[1;33m,\u001b[0m\u001b[1;33m\n",
       "\u001b[0m    \u001b[0mweights\u001b[0m\u001b[1;33m=\u001b[0m\u001b[1;34m''\u001b[0m\u001b[1;33m,\u001b[0m\u001b[1;33m\n",
       "\u001b[0m    \u001b[0mnum_simulation\u001b[0m\u001b[1;33m=\u001b[0m\u001b[1;36m1000\u001b[0m\u001b[1;33m,\u001b[0m\u001b[1;33m\n",
       "\u001b[0m    \u001b[0mnum_trading_days\u001b[0m\u001b[1;33m=\u001b[0m\u001b[1;36m252\u001b[0m\u001b[1;33m,\u001b[0m\u001b[1;33m\n",
       "\u001b[0m\u001b[1;33m)\u001b[0m\u001b[1;33m\u001b[0m\u001b[1;33m\u001b[0m\u001b[0m\n",
       "\u001b[1;31mDocstring:\u001b[0m     \n",
       "A Python class for runnning Monte Carlo simulation on portfolio price data. \n",
       "\n",
       "...\n",
       "\n",
       "Attributes\n",
       "----------\n",
       "portfolio_data : pandas.DataFrame\n",
       "    portfolio dataframe\n",
       "weights: list(float)\n",
       "    portfolio investment breakdown\n",
       "nSim: int\n",
       "    number of samples in simulation\n",
       "nTrading: int\n",
       "    number of trading days to simulate\n",
       "simulated_return : pandas.DataFrame\n",
       "    Simulated data from Monte Carlo\n",
       "confidence_interval : pandas.Series\n",
       "    the 95% confidence intervals for simulated final cumulative returns\n",
       "    \n",
       "\u001b[1;31mInit docstring:\u001b[0m\n",
       "Constructs all the necessary attributes for the MCSimulation object.\n",
       "\n",
       "Parameters\n",
       "----------\n",
       "portfolio_data: pandas.DataFrame\n",
       "    DataFrame containing stock price information from Alpaca API\n",
       "weights: list(float)\n",
       "    A list fractions representing percentage of total investment per stock. DEFAULT: Equal distribution\n",
       "num_simulation: int\n",
       "    Number of simulation samples. DEFAULT: 1000 simulation samples\n",
       "num_trading_days: int\n",
       "    Number of trading days to simulate. DEFAULT: 252 days (1 year of business days)\n",
       "\u001b[1;31mFile:\u001b[0m           c:\\users\\pc2\\downloads\\challange_5\\utor-virt-fin-pt-08-2023-u-lolc-main-05-apis-unit 5 homework\\05-apis\\unit 5 homework\\instructions\\starter_code\\mcforecasttools.py\n",
       "\u001b[1;31mType:\u001b[0m           type\n",
       "\u001b[1;31mSubclasses:\u001b[0m     "
      ]
     },
     "metadata": {},
     "output_type": "display_data"
    }
   ],
   "source": [
    "# Printing the simulation input data\n",
    "?MCSimulation"
   ]
  },
  {
   "cell_type": "code",
   "execution_count": 44,
   "metadata": {},
   "outputs": [],
   "source": [
    "# Configuring a Monte Carlo simulation to forecast 30 years cumulative returns\n",
    "\n",
    "# Set number of simulations\n",
    "num_sims = 500\n",
    "\n",
    "# Configure a Monte Carlo simulation to forecast one year daily returns\n",
    "MC_30 = MCSimulation(\n",
    "    portfolio_data = ticker_data_5,\n",
    "    weights = [.40,.60],\n",
    "    num_simulation = num_sims,\n",
    "    num_trading_days = 252 * 30\n",
    ")"
   ]
  },
  {
   "cell_type": "code",
   "execution_count": null,
   "metadata": {},
   "outputs": [],
   "source": []
  },
  {
   "cell_type": "code",
   "execution_count": 45,
   "metadata": {
    "tags": []
   },
   "outputs": [
    {
     "data": {
      "text/html": [
       "<div>\n",
       "<style scoped>\n",
       "    .dataframe tbody tr th:only-of-type {\n",
       "        vertical-align: middle;\n",
       "    }\n",
       "\n",
       "    .dataframe tbody tr th {\n",
       "        vertical-align: top;\n",
       "    }\n",
       "\n",
       "    .dataframe thead tr th {\n",
       "        text-align: left;\n",
       "    }\n",
       "</style>\n",
       "<table border=\"1\" class=\"dataframe\">\n",
       "  <thead>\n",
       "    <tr>\n",
       "      <th></th>\n",
       "      <th colspan=\"8\" halign=\"left\">AGG</th>\n",
       "      <th colspan=\"8\" halign=\"left\">SPY</th>\n",
       "    </tr>\n",
       "    <tr>\n",
       "      <th></th>\n",
       "      <th>close</th>\n",
       "      <th>high</th>\n",
       "      <th>low</th>\n",
       "      <th>trade_count</th>\n",
       "      <th>open</th>\n",
       "      <th>volume</th>\n",
       "      <th>vwap</th>\n",
       "      <th>daily_return</th>\n",
       "      <th>close</th>\n",
       "      <th>high</th>\n",
       "      <th>low</th>\n",
       "      <th>trade_count</th>\n",
       "      <th>open</th>\n",
       "      <th>volume</th>\n",
       "      <th>vwap</th>\n",
       "      <th>daily_return</th>\n",
       "    </tr>\n",
       "  </thead>\n",
       "  <tbody>\n",
       "    <tr>\n",
       "      <th>2018-12-24</th>\n",
       "      <td>105.86</td>\n",
       "      <td>105.9999</td>\n",
       "      <td>105.810</td>\n",
       "      <td>15729</td>\n",
       "      <td>105.95</td>\n",
       "      <td>7596737</td>\n",
       "      <td>105.891184</td>\n",
       "      <td>NaN</td>\n",
       "      <td>234.3700</td>\n",
       "      <td>240.8355</td>\n",
       "      <td>234.2700</td>\n",
       "      <td>683160</td>\n",
       "      <td>239.04</td>\n",
       "      <td>148557724</td>\n",
       "      <td>237.255995</td>\n",
       "      <td>NaN</td>\n",
       "    </tr>\n",
       "    <tr>\n",
       "      <th>2018-12-26</th>\n",
       "      <td>105.66</td>\n",
       "      <td>106.0000</td>\n",
       "      <td>105.630</td>\n",
       "      <td>22624</td>\n",
       "      <td>105.92</td>\n",
       "      <td>10340660</td>\n",
       "      <td>105.773037</td>\n",
       "      <td>-0.001889</td>\n",
       "      <td>245.9095</td>\n",
       "      <td>246.1800</td>\n",
       "      <td>233.7600</td>\n",
       "      <td>1032193</td>\n",
       "      <td>235.97</td>\n",
       "      <td>222380482</td>\n",
       "      <td>239.671178</td>\n",
       "      <td>0.049236</td>\n",
       "    </tr>\n",
       "    <tr>\n",
       "      <th>2018-12-27</th>\n",
       "      <td>105.83</td>\n",
       "      <td>106.0600</td>\n",
       "      <td>105.770</td>\n",
       "      <td>22340</td>\n",
       "      <td>105.95</td>\n",
       "      <td>12277252</td>\n",
       "      <td>105.916624</td>\n",
       "      <td>0.001609</td>\n",
       "      <td>248.2100</td>\n",
       "      <td>248.2900</td>\n",
       "      <td>238.9600</td>\n",
       "      <td>978537</td>\n",
       "      <td>242.57</td>\n",
       "      <td>190958804</td>\n",
       "      <td>243.591558</td>\n",
       "      <td>0.009355</td>\n",
       "    </tr>\n",
       "    <tr>\n",
       "      <th>2018-12-28</th>\n",
       "      <td>106.22</td>\n",
       "      <td>106.2200</td>\n",
       "      <td>105.940</td>\n",
       "      <td>20231</td>\n",
       "      <td>105.97</td>\n",
       "      <td>7244473</td>\n",
       "      <td>106.097820</td>\n",
       "      <td>0.003685</td>\n",
       "      <td>247.7300</td>\n",
       "      <td>251.4000</td>\n",
       "      <td>246.4500</td>\n",
       "      <td>799874</td>\n",
       "      <td>249.58</td>\n",
       "      <td>154974847</td>\n",
       "      <td>248.568742</td>\n",
       "      <td>-0.001934</td>\n",
       "    </tr>\n",
       "    <tr>\n",
       "      <th>2018-12-31</th>\n",
       "      <td>106.49</td>\n",
       "      <td>106.5100</td>\n",
       "      <td>106.110</td>\n",
       "      <td>27920</td>\n",
       "      <td>106.12</td>\n",
       "      <td>10613435</td>\n",
       "      <td>106.394350</td>\n",
       "      <td>0.002542</td>\n",
       "      <td>250.0800</td>\n",
       "      <td>250.1900</td>\n",
       "      <td>247.4700</td>\n",
       "      <td>591024</td>\n",
       "      <td>249.56</td>\n",
       "      <td>147557713</td>\n",
       "      <td>249.158331</td>\n",
       "      <td>0.009486</td>\n",
       "    </tr>\n",
       "    <tr>\n",
       "      <th>...</th>\n",
       "      <td>...</td>\n",
       "      <td>...</td>\n",
       "      <td>...</td>\n",
       "      <td>...</td>\n",
       "      <td>...</td>\n",
       "      <td>...</td>\n",
       "      <td>...</td>\n",
       "      <td>...</td>\n",
       "      <td>...</td>\n",
       "      <td>...</td>\n",
       "      <td>...</td>\n",
       "      <td>...</td>\n",
       "      <td>...</td>\n",
       "      <td>...</td>\n",
       "      <td>...</td>\n",
       "      <td>...</td>\n",
       "    </tr>\n",
       "    <tr>\n",
       "      <th>2023-12-18</th>\n",
       "      <td>98.49</td>\n",
       "      <td>98.5800</td>\n",
       "      <td>98.420</td>\n",
       "      <td>28345</td>\n",
       "      <td>98.58</td>\n",
       "      <td>11521007</td>\n",
       "      <td>98.483410</td>\n",
       "      <td>-0.002027</td>\n",
       "      <td>471.9700</td>\n",
       "      <td>472.9800</td>\n",
       "      <td>469.8929</td>\n",
       "      <td>459241</td>\n",
       "      <td>470.98</td>\n",
       "      <td>70375385</td>\n",
       "      <td>471.855993</td>\n",
       "      <td>0.005625</td>\n",
       "    </tr>\n",
       "    <tr>\n",
       "      <th>2023-12-19</th>\n",
       "      <td>98.61</td>\n",
       "      <td>98.7770</td>\n",
       "      <td>98.590</td>\n",
       "      <td>31532</td>\n",
       "      <td>98.63</td>\n",
       "      <td>13787123</td>\n",
       "      <td>98.653839</td>\n",
       "      <td>0.001218</td>\n",
       "      <td>474.8400</td>\n",
       "      <td>474.9200</td>\n",
       "      <td>472.4500</td>\n",
       "      <td>416105</td>\n",
       "      <td>472.53</td>\n",
       "      <td>55762005</td>\n",
       "      <td>473.975693</td>\n",
       "      <td>0.006081</td>\n",
       "    </tr>\n",
       "    <tr>\n",
       "      <th>2023-12-20</th>\n",
       "      <td>98.97</td>\n",
       "      <td>99.0400</td>\n",
       "      <td>98.690</td>\n",
       "      <td>29677</td>\n",
       "      <td>98.87</td>\n",
       "      <td>9994103</td>\n",
       "      <td>98.858369</td>\n",
       "      <td>0.003651</td>\n",
       "      <td>468.2600</td>\n",
       "      <td>475.8950</td>\n",
       "      <td>467.8200</td>\n",
       "      <td>666863</td>\n",
       "      <td>473.96</td>\n",
       "      <td>102920959</td>\n",
       "      <td>471.674917</td>\n",
       "      <td>-0.013857</td>\n",
       "    </tr>\n",
       "    <tr>\n",
       "      <th>2023-12-21</th>\n",
       "      <td>98.96</td>\n",
       "      <td>99.2550</td>\n",
       "      <td>98.830</td>\n",
       "      <td>29962</td>\n",
       "      <td>99.22</td>\n",
       "      <td>9099118</td>\n",
       "      <td>98.984754</td>\n",
       "      <td>-0.000101</td>\n",
       "      <td>472.7000</td>\n",
       "      <td>472.9750</td>\n",
       "      <td>468.8400</td>\n",
       "      <td>600930</td>\n",
       "      <td>471.33</td>\n",
       "      <td>86679796</td>\n",
       "      <td>471.228177</td>\n",
       "      <td>0.009482</td>\n",
       "    </tr>\n",
       "    <tr>\n",
       "      <th>2023-12-22</th>\n",
       "      <td>98.83</td>\n",
       "      <td>99.1350</td>\n",
       "      <td>98.805</td>\n",
       "      <td>33780</td>\n",
       "      <td>99.13</td>\n",
       "      <td>13234679</td>\n",
       "      <td>98.888992</td>\n",
       "      <td>-0.001314</td>\n",
       "      <td>473.6500</td>\n",
       "      <td>475.3800</td>\n",
       "      <td>471.7000</td>\n",
       "      <td>485465</td>\n",
       "      <td>473.86</td>\n",
       "      <td>67131807</td>\n",
       "      <td>473.800078</td>\n",
       "      <td>0.002010</td>\n",
       "    </tr>\n",
       "  </tbody>\n",
       "</table>\n",
       "<p>1259 rows × 16 columns</p>\n",
       "</div>"
      ],
      "text/plain": [
       "               AGG                                                   \\\n",
       "             close      high      low trade_count    open    volume   \n",
       "2018-12-24  105.86  105.9999  105.810       15729  105.95   7596737   \n",
       "2018-12-26  105.66  106.0000  105.630       22624  105.92  10340660   \n",
       "2018-12-27  105.83  106.0600  105.770       22340  105.95  12277252   \n",
       "2018-12-28  106.22  106.2200  105.940       20231  105.97   7244473   \n",
       "2018-12-31  106.49  106.5100  106.110       27920  106.12  10613435   \n",
       "...            ...       ...      ...         ...     ...       ...   \n",
       "2023-12-18   98.49   98.5800   98.420       28345   98.58  11521007   \n",
       "2023-12-19   98.61   98.7770   98.590       31532   98.63  13787123   \n",
       "2023-12-20   98.97   99.0400   98.690       29677   98.87   9994103   \n",
       "2023-12-21   98.96   99.2550   98.830       29962   99.22   9099118   \n",
       "2023-12-22   98.83   99.1350   98.805       33780   99.13  13234679   \n",
       "\n",
       "                                          SPY                                  \\\n",
       "                  vwap daily_return     close      high       low trade_count   \n",
       "2018-12-24  105.891184          NaN  234.3700  240.8355  234.2700      683160   \n",
       "2018-12-26  105.773037    -0.001889  245.9095  246.1800  233.7600     1032193   \n",
       "2018-12-27  105.916624     0.001609  248.2100  248.2900  238.9600      978537   \n",
       "2018-12-28  106.097820     0.003685  247.7300  251.4000  246.4500      799874   \n",
       "2018-12-31  106.394350     0.002542  250.0800  250.1900  247.4700      591024   \n",
       "...                ...          ...       ...       ...       ...         ...   \n",
       "2023-12-18   98.483410    -0.002027  471.9700  472.9800  469.8929      459241   \n",
       "2023-12-19   98.653839     0.001218  474.8400  474.9200  472.4500      416105   \n",
       "2023-12-20   98.858369     0.003651  468.2600  475.8950  467.8200      666863   \n",
       "2023-12-21   98.984754    -0.000101  472.7000  472.9750  468.8400      600930   \n",
       "2023-12-22   98.888992    -0.001314  473.6500  475.3800  471.7000      485465   \n",
       "\n",
       "                                                        \n",
       "              open     volume        vwap daily_return  \n",
       "2018-12-24  239.04  148557724  237.255995          NaN  \n",
       "2018-12-26  235.97  222380482  239.671178     0.049236  \n",
       "2018-12-27  242.57  190958804  243.591558     0.009355  \n",
       "2018-12-28  249.58  154974847  248.568742    -0.001934  \n",
       "2018-12-31  249.56  147557713  249.158331     0.009486  \n",
       "...            ...        ...         ...          ...  \n",
       "2023-12-18  470.98   70375385  471.855993     0.005625  \n",
       "2023-12-19  472.53   55762005  473.975693     0.006081  \n",
       "2023-12-20  473.96  102920959  471.674917    -0.013857  \n",
       "2023-12-21  471.33   86679796  471.228177     0.009482  \n",
       "2023-12-22  473.86   67131807  473.800078     0.002010  \n",
       "\n",
       "[1259 rows x 16 columns]"
      ]
     },
     "execution_count": 45,
     "metadata": {},
     "output_type": "execute_result"
    }
   ],
   "source": [
    "MC_30.portfolio_data"
   ]
  },
  {
   "cell_type": "code",
   "execution_count": 46,
   "metadata": {},
   "outputs": [
    {
     "name": "stdout",
     "output_type": "stream",
     "text": [
      "Running Monte Carlo simulation number 0.\n",
      "Running Monte Carlo simulation number 10.\n",
      "Running Monte Carlo simulation number 20.\n",
      "Running Monte Carlo simulation number 30.\n",
      "Running Monte Carlo simulation number 40.\n",
      "Running Monte Carlo simulation number 50.\n",
      "Running Monte Carlo simulation number 60.\n",
      "Running Monte Carlo simulation number 70.\n",
      "Running Monte Carlo simulation number 80.\n",
      "Running Monte Carlo simulation number 90.\n",
      "Running Monte Carlo simulation number 100.\n"
     ]
    },
    {
     "name": "stderr",
     "output_type": "stream",
     "text": [
      "C:\\Users\\PC2\\Downloads\\challange_5\\UTOR-VIRT-FIN-PT-08-2023-U-LOLC-main-05-APIs-Unit 5 Homework\\05-APIs\\Unit 5 Homework\\Instructions\\Starter_Code\\MCForecastTools.py:117: PerformanceWarning: DataFrame is highly fragmented.  This is usually the result of calling `frame.insert` many times, which has poor performance.  Consider joining all columns at once using pd.concat(axis=1) instead. To get a de-fragmented frame, use `newframe = frame.copy()`\n",
      "  portfolio_cumulative_returns[n] = (1 + sim_df.fillna(0)).cumprod()\n",
      "C:\\Users\\PC2\\Downloads\\challange_5\\UTOR-VIRT-FIN-PT-08-2023-U-LOLC-main-05-APIs-Unit 5 Homework\\05-APIs\\Unit 5 Homework\\Instructions\\Starter_Code\\MCForecastTools.py:117: PerformanceWarning: DataFrame is highly fragmented.  This is usually the result of calling `frame.insert` many times, which has poor performance.  Consider joining all columns at once using pd.concat(axis=1) instead. To get a de-fragmented frame, use `newframe = frame.copy()`\n",
      "  portfolio_cumulative_returns[n] = (1 + sim_df.fillna(0)).cumprod()\n",
      "C:\\Users\\PC2\\Downloads\\challange_5\\UTOR-VIRT-FIN-PT-08-2023-U-LOLC-main-05-APIs-Unit 5 Homework\\05-APIs\\Unit 5 Homework\\Instructions\\Starter_Code\\MCForecastTools.py:117: PerformanceWarning: DataFrame is highly fragmented.  This is usually the result of calling `frame.insert` many times, which has poor performance.  Consider joining all columns at once using pd.concat(axis=1) instead. To get a de-fragmented frame, use `newframe = frame.copy()`\n",
      "  portfolio_cumulative_returns[n] = (1 + sim_df.fillna(0)).cumprod()\n",
      "C:\\Users\\PC2\\Downloads\\challange_5\\UTOR-VIRT-FIN-PT-08-2023-U-LOLC-main-05-APIs-Unit 5 Homework\\05-APIs\\Unit 5 Homework\\Instructions\\Starter_Code\\MCForecastTools.py:117: PerformanceWarning: DataFrame is highly fragmented.  This is usually the result of calling `frame.insert` many times, which has poor performance.  Consider joining all columns at once using pd.concat(axis=1) instead. To get a de-fragmented frame, use `newframe = frame.copy()`\n",
      "  portfolio_cumulative_returns[n] = (1 + sim_df.fillna(0)).cumprod()\n",
      "C:\\Users\\PC2\\Downloads\\challange_5\\UTOR-VIRT-FIN-PT-08-2023-U-LOLC-main-05-APIs-Unit 5 Homework\\05-APIs\\Unit 5 Homework\\Instructions\\Starter_Code\\MCForecastTools.py:117: PerformanceWarning: DataFrame is highly fragmented.  This is usually the result of calling `frame.insert` many times, which has poor performance.  Consider joining all columns at once using pd.concat(axis=1) instead. To get a de-fragmented frame, use `newframe = frame.copy()`\n",
      "  portfolio_cumulative_returns[n] = (1 + sim_df.fillna(0)).cumprod()\n",
      "C:\\Users\\PC2\\Downloads\\challange_5\\UTOR-VIRT-FIN-PT-08-2023-U-LOLC-main-05-APIs-Unit 5 Homework\\05-APIs\\Unit 5 Homework\\Instructions\\Starter_Code\\MCForecastTools.py:117: PerformanceWarning: DataFrame is highly fragmented.  This is usually the result of calling `frame.insert` many times, which has poor performance.  Consider joining all columns at once using pd.concat(axis=1) instead. To get a de-fragmented frame, use `newframe = frame.copy()`\n",
      "  portfolio_cumulative_returns[n] = (1 + sim_df.fillna(0)).cumprod()\n",
      "C:\\Users\\PC2\\Downloads\\challange_5\\UTOR-VIRT-FIN-PT-08-2023-U-LOLC-main-05-APIs-Unit 5 Homework\\05-APIs\\Unit 5 Homework\\Instructions\\Starter_Code\\MCForecastTools.py:117: PerformanceWarning: DataFrame is highly fragmented.  This is usually the result of calling `frame.insert` many times, which has poor performance.  Consider joining all columns at once using pd.concat(axis=1) instead. To get a de-fragmented frame, use `newframe = frame.copy()`\n",
      "  portfolio_cumulative_returns[n] = (1 + sim_df.fillna(0)).cumprod()\n",
      "C:\\Users\\PC2\\Downloads\\challange_5\\UTOR-VIRT-FIN-PT-08-2023-U-LOLC-main-05-APIs-Unit 5 Homework\\05-APIs\\Unit 5 Homework\\Instructions\\Starter_Code\\MCForecastTools.py:117: PerformanceWarning: DataFrame is highly fragmented.  This is usually the result of calling `frame.insert` many times, which has poor performance.  Consider joining all columns at once using pd.concat(axis=1) instead. To get a de-fragmented frame, use `newframe = frame.copy()`\n",
      "  portfolio_cumulative_returns[n] = (1 + sim_df.fillna(0)).cumprod()\n",
      "C:\\Users\\PC2\\Downloads\\challange_5\\UTOR-VIRT-FIN-PT-08-2023-U-LOLC-main-05-APIs-Unit 5 Homework\\05-APIs\\Unit 5 Homework\\Instructions\\Starter_Code\\MCForecastTools.py:117: PerformanceWarning: DataFrame is highly fragmented.  This is usually the result of calling `frame.insert` many times, which has poor performance.  Consider joining all columns at once using pd.concat(axis=1) instead. To get a de-fragmented frame, use `newframe = frame.copy()`\n",
      "  portfolio_cumulative_returns[n] = (1 + sim_df.fillna(0)).cumprod()\n",
      "C:\\Users\\PC2\\Downloads\\challange_5\\UTOR-VIRT-FIN-PT-08-2023-U-LOLC-main-05-APIs-Unit 5 Homework\\05-APIs\\Unit 5 Homework\\Instructions\\Starter_Code\\MCForecastTools.py:117: PerformanceWarning: DataFrame is highly fragmented.  This is usually the result of calling `frame.insert` many times, which has poor performance.  Consider joining all columns at once using pd.concat(axis=1) instead. To get a de-fragmented frame, use `newframe = frame.copy()`\n",
      "  portfolio_cumulative_returns[n] = (1 + sim_df.fillna(0)).cumprod()\n"
     ]
    },
    {
     "name": "stdout",
     "output_type": "stream",
     "text": [
      "Running Monte Carlo simulation number 110.\n"
     ]
    },
    {
     "name": "stderr",
     "output_type": "stream",
     "text": [
      "C:\\Users\\PC2\\Downloads\\challange_5\\UTOR-VIRT-FIN-PT-08-2023-U-LOLC-main-05-APIs-Unit 5 Homework\\05-APIs\\Unit 5 Homework\\Instructions\\Starter_Code\\MCForecastTools.py:117: PerformanceWarning: DataFrame is highly fragmented.  This is usually the result of calling `frame.insert` many times, which has poor performance.  Consider joining all columns at once using pd.concat(axis=1) instead. To get a de-fragmented frame, use `newframe = frame.copy()`\n",
      "  portfolio_cumulative_returns[n] = (1 + sim_df.fillna(0)).cumprod()\n",
      "C:\\Users\\PC2\\Downloads\\challange_5\\UTOR-VIRT-FIN-PT-08-2023-U-LOLC-main-05-APIs-Unit 5 Homework\\05-APIs\\Unit 5 Homework\\Instructions\\Starter_Code\\MCForecastTools.py:117: PerformanceWarning: DataFrame is highly fragmented.  This is usually the result of calling `frame.insert` many times, which has poor performance.  Consider joining all columns at once using pd.concat(axis=1) instead. To get a de-fragmented frame, use `newframe = frame.copy()`\n",
      "  portfolio_cumulative_returns[n] = (1 + sim_df.fillna(0)).cumprod()\n",
      "C:\\Users\\PC2\\Downloads\\challange_5\\UTOR-VIRT-FIN-PT-08-2023-U-LOLC-main-05-APIs-Unit 5 Homework\\05-APIs\\Unit 5 Homework\\Instructions\\Starter_Code\\MCForecastTools.py:117: PerformanceWarning: DataFrame is highly fragmented.  This is usually the result of calling `frame.insert` many times, which has poor performance.  Consider joining all columns at once using pd.concat(axis=1) instead. To get a de-fragmented frame, use `newframe = frame.copy()`\n",
      "  portfolio_cumulative_returns[n] = (1 + sim_df.fillna(0)).cumprod()\n",
      "C:\\Users\\PC2\\Downloads\\challange_5\\UTOR-VIRT-FIN-PT-08-2023-U-LOLC-main-05-APIs-Unit 5 Homework\\05-APIs\\Unit 5 Homework\\Instructions\\Starter_Code\\MCForecastTools.py:117: PerformanceWarning: DataFrame is highly fragmented.  This is usually the result of calling `frame.insert` many times, which has poor performance.  Consider joining all columns at once using pd.concat(axis=1) instead. To get a de-fragmented frame, use `newframe = frame.copy()`\n",
      "  portfolio_cumulative_returns[n] = (1 + sim_df.fillna(0)).cumprod()\n",
      "C:\\Users\\PC2\\Downloads\\challange_5\\UTOR-VIRT-FIN-PT-08-2023-U-LOLC-main-05-APIs-Unit 5 Homework\\05-APIs\\Unit 5 Homework\\Instructions\\Starter_Code\\MCForecastTools.py:117: PerformanceWarning: DataFrame is highly fragmented.  This is usually the result of calling `frame.insert` many times, which has poor performance.  Consider joining all columns at once using pd.concat(axis=1) instead. To get a de-fragmented frame, use `newframe = frame.copy()`\n",
      "  portfolio_cumulative_returns[n] = (1 + sim_df.fillna(0)).cumprod()\n",
      "C:\\Users\\PC2\\Downloads\\challange_5\\UTOR-VIRT-FIN-PT-08-2023-U-LOLC-main-05-APIs-Unit 5 Homework\\05-APIs\\Unit 5 Homework\\Instructions\\Starter_Code\\MCForecastTools.py:117: PerformanceWarning: DataFrame is highly fragmented.  This is usually the result of calling `frame.insert` many times, which has poor performance.  Consider joining all columns at once using pd.concat(axis=1) instead. To get a de-fragmented frame, use `newframe = frame.copy()`\n",
      "  portfolio_cumulative_returns[n] = (1 + sim_df.fillna(0)).cumprod()\n",
      "C:\\Users\\PC2\\Downloads\\challange_5\\UTOR-VIRT-FIN-PT-08-2023-U-LOLC-main-05-APIs-Unit 5 Homework\\05-APIs\\Unit 5 Homework\\Instructions\\Starter_Code\\MCForecastTools.py:117: PerformanceWarning: DataFrame is highly fragmented.  This is usually the result of calling `frame.insert` many times, which has poor performance.  Consider joining all columns at once using pd.concat(axis=1) instead. To get a de-fragmented frame, use `newframe = frame.copy()`\n",
      "  portfolio_cumulative_returns[n] = (1 + sim_df.fillna(0)).cumprod()\n",
      "C:\\Users\\PC2\\Downloads\\challange_5\\UTOR-VIRT-FIN-PT-08-2023-U-LOLC-main-05-APIs-Unit 5 Homework\\05-APIs\\Unit 5 Homework\\Instructions\\Starter_Code\\MCForecastTools.py:117: PerformanceWarning: DataFrame is highly fragmented.  This is usually the result of calling `frame.insert` many times, which has poor performance.  Consider joining all columns at once using pd.concat(axis=1) instead. To get a de-fragmented frame, use `newframe = frame.copy()`\n",
      "  portfolio_cumulative_returns[n] = (1 + sim_df.fillna(0)).cumprod()\n",
      "C:\\Users\\PC2\\Downloads\\challange_5\\UTOR-VIRT-FIN-PT-08-2023-U-LOLC-main-05-APIs-Unit 5 Homework\\05-APIs\\Unit 5 Homework\\Instructions\\Starter_Code\\MCForecastTools.py:117: PerformanceWarning: DataFrame is highly fragmented.  This is usually the result of calling `frame.insert` many times, which has poor performance.  Consider joining all columns at once using pd.concat(axis=1) instead. To get a de-fragmented frame, use `newframe = frame.copy()`\n",
      "  portfolio_cumulative_returns[n] = (1 + sim_df.fillna(0)).cumprod()\n",
      "C:\\Users\\PC2\\Downloads\\challange_5\\UTOR-VIRT-FIN-PT-08-2023-U-LOLC-main-05-APIs-Unit 5 Homework\\05-APIs\\Unit 5 Homework\\Instructions\\Starter_Code\\MCForecastTools.py:117: PerformanceWarning: DataFrame is highly fragmented.  This is usually the result of calling `frame.insert` many times, which has poor performance.  Consider joining all columns at once using pd.concat(axis=1) instead. To get a de-fragmented frame, use `newframe = frame.copy()`\n",
      "  portfolio_cumulative_returns[n] = (1 + sim_df.fillna(0)).cumprod()\n"
     ]
    },
    {
     "name": "stdout",
     "output_type": "stream",
     "text": [
      "Running Monte Carlo simulation number 120.\n"
     ]
    },
    {
     "name": "stderr",
     "output_type": "stream",
     "text": [
      "C:\\Users\\PC2\\Downloads\\challange_5\\UTOR-VIRT-FIN-PT-08-2023-U-LOLC-main-05-APIs-Unit 5 Homework\\05-APIs\\Unit 5 Homework\\Instructions\\Starter_Code\\MCForecastTools.py:117: PerformanceWarning: DataFrame is highly fragmented.  This is usually the result of calling `frame.insert` many times, which has poor performance.  Consider joining all columns at once using pd.concat(axis=1) instead. To get a de-fragmented frame, use `newframe = frame.copy()`\n",
      "  portfolio_cumulative_returns[n] = (1 + sim_df.fillna(0)).cumprod()\n",
      "C:\\Users\\PC2\\Downloads\\challange_5\\UTOR-VIRT-FIN-PT-08-2023-U-LOLC-main-05-APIs-Unit 5 Homework\\05-APIs\\Unit 5 Homework\\Instructions\\Starter_Code\\MCForecastTools.py:117: PerformanceWarning: DataFrame is highly fragmented.  This is usually the result of calling `frame.insert` many times, which has poor performance.  Consider joining all columns at once using pd.concat(axis=1) instead. To get a de-fragmented frame, use `newframe = frame.copy()`\n",
      "  portfolio_cumulative_returns[n] = (1 + sim_df.fillna(0)).cumprod()\n",
      "C:\\Users\\PC2\\Downloads\\challange_5\\UTOR-VIRT-FIN-PT-08-2023-U-LOLC-main-05-APIs-Unit 5 Homework\\05-APIs\\Unit 5 Homework\\Instructions\\Starter_Code\\MCForecastTools.py:117: PerformanceWarning: DataFrame is highly fragmented.  This is usually the result of calling `frame.insert` many times, which has poor performance.  Consider joining all columns at once using pd.concat(axis=1) instead. To get a de-fragmented frame, use `newframe = frame.copy()`\n",
      "  portfolio_cumulative_returns[n] = (1 + sim_df.fillna(0)).cumprod()\n",
      "C:\\Users\\PC2\\Downloads\\challange_5\\UTOR-VIRT-FIN-PT-08-2023-U-LOLC-main-05-APIs-Unit 5 Homework\\05-APIs\\Unit 5 Homework\\Instructions\\Starter_Code\\MCForecastTools.py:117: PerformanceWarning: DataFrame is highly fragmented.  This is usually the result of calling `frame.insert` many times, which has poor performance.  Consider joining all columns at once using pd.concat(axis=1) instead. To get a de-fragmented frame, use `newframe = frame.copy()`\n",
      "  portfolio_cumulative_returns[n] = (1 + sim_df.fillna(0)).cumprod()\n",
      "C:\\Users\\PC2\\Downloads\\challange_5\\UTOR-VIRT-FIN-PT-08-2023-U-LOLC-main-05-APIs-Unit 5 Homework\\05-APIs\\Unit 5 Homework\\Instructions\\Starter_Code\\MCForecastTools.py:117: PerformanceWarning: DataFrame is highly fragmented.  This is usually the result of calling `frame.insert` many times, which has poor performance.  Consider joining all columns at once using pd.concat(axis=1) instead. To get a de-fragmented frame, use `newframe = frame.copy()`\n",
      "  portfolio_cumulative_returns[n] = (1 + sim_df.fillna(0)).cumprod()\n",
      "C:\\Users\\PC2\\Downloads\\challange_5\\UTOR-VIRT-FIN-PT-08-2023-U-LOLC-main-05-APIs-Unit 5 Homework\\05-APIs\\Unit 5 Homework\\Instructions\\Starter_Code\\MCForecastTools.py:117: PerformanceWarning: DataFrame is highly fragmented.  This is usually the result of calling `frame.insert` many times, which has poor performance.  Consider joining all columns at once using pd.concat(axis=1) instead. To get a de-fragmented frame, use `newframe = frame.copy()`\n",
      "  portfolio_cumulative_returns[n] = (1 + sim_df.fillna(0)).cumprod()\n",
      "C:\\Users\\PC2\\Downloads\\challange_5\\UTOR-VIRT-FIN-PT-08-2023-U-LOLC-main-05-APIs-Unit 5 Homework\\05-APIs\\Unit 5 Homework\\Instructions\\Starter_Code\\MCForecastTools.py:117: PerformanceWarning: DataFrame is highly fragmented.  This is usually the result of calling `frame.insert` many times, which has poor performance.  Consider joining all columns at once using pd.concat(axis=1) instead. To get a de-fragmented frame, use `newframe = frame.copy()`\n",
      "  portfolio_cumulative_returns[n] = (1 + sim_df.fillna(0)).cumprod()\n",
      "C:\\Users\\PC2\\Downloads\\challange_5\\UTOR-VIRT-FIN-PT-08-2023-U-LOLC-main-05-APIs-Unit 5 Homework\\05-APIs\\Unit 5 Homework\\Instructions\\Starter_Code\\MCForecastTools.py:117: PerformanceWarning: DataFrame is highly fragmented.  This is usually the result of calling `frame.insert` many times, which has poor performance.  Consider joining all columns at once using pd.concat(axis=1) instead. To get a de-fragmented frame, use `newframe = frame.copy()`\n",
      "  portfolio_cumulative_returns[n] = (1 + sim_df.fillna(0)).cumprod()\n",
      "C:\\Users\\PC2\\Downloads\\challange_5\\UTOR-VIRT-FIN-PT-08-2023-U-LOLC-main-05-APIs-Unit 5 Homework\\05-APIs\\Unit 5 Homework\\Instructions\\Starter_Code\\MCForecastTools.py:117: PerformanceWarning: DataFrame is highly fragmented.  This is usually the result of calling `frame.insert` many times, which has poor performance.  Consider joining all columns at once using pd.concat(axis=1) instead. To get a de-fragmented frame, use `newframe = frame.copy()`\n",
      "  portfolio_cumulative_returns[n] = (1 + sim_df.fillna(0)).cumprod()\n",
      "C:\\Users\\PC2\\Downloads\\challange_5\\UTOR-VIRT-FIN-PT-08-2023-U-LOLC-main-05-APIs-Unit 5 Homework\\05-APIs\\Unit 5 Homework\\Instructions\\Starter_Code\\MCForecastTools.py:117: PerformanceWarning: DataFrame is highly fragmented.  This is usually the result of calling `frame.insert` many times, which has poor performance.  Consider joining all columns at once using pd.concat(axis=1) instead. To get a de-fragmented frame, use `newframe = frame.copy()`\n",
      "  portfolio_cumulative_returns[n] = (1 + sim_df.fillna(0)).cumprod()\n"
     ]
    },
    {
     "name": "stdout",
     "output_type": "stream",
     "text": [
      "Running Monte Carlo simulation number 130.\n"
     ]
    },
    {
     "name": "stderr",
     "output_type": "stream",
     "text": [
      "C:\\Users\\PC2\\Downloads\\challange_5\\UTOR-VIRT-FIN-PT-08-2023-U-LOLC-main-05-APIs-Unit 5 Homework\\05-APIs\\Unit 5 Homework\\Instructions\\Starter_Code\\MCForecastTools.py:117: PerformanceWarning: DataFrame is highly fragmented.  This is usually the result of calling `frame.insert` many times, which has poor performance.  Consider joining all columns at once using pd.concat(axis=1) instead. To get a de-fragmented frame, use `newframe = frame.copy()`\n",
      "  portfolio_cumulative_returns[n] = (1 + sim_df.fillna(0)).cumprod()\n",
      "C:\\Users\\PC2\\Downloads\\challange_5\\UTOR-VIRT-FIN-PT-08-2023-U-LOLC-main-05-APIs-Unit 5 Homework\\05-APIs\\Unit 5 Homework\\Instructions\\Starter_Code\\MCForecastTools.py:117: PerformanceWarning: DataFrame is highly fragmented.  This is usually the result of calling `frame.insert` many times, which has poor performance.  Consider joining all columns at once using pd.concat(axis=1) instead. To get a de-fragmented frame, use `newframe = frame.copy()`\n",
      "  portfolio_cumulative_returns[n] = (1 + sim_df.fillna(0)).cumprod()\n",
      "C:\\Users\\PC2\\Downloads\\challange_5\\UTOR-VIRT-FIN-PT-08-2023-U-LOLC-main-05-APIs-Unit 5 Homework\\05-APIs\\Unit 5 Homework\\Instructions\\Starter_Code\\MCForecastTools.py:117: PerformanceWarning: DataFrame is highly fragmented.  This is usually the result of calling `frame.insert` many times, which has poor performance.  Consider joining all columns at once using pd.concat(axis=1) instead. To get a de-fragmented frame, use `newframe = frame.copy()`\n",
      "  portfolio_cumulative_returns[n] = (1 + sim_df.fillna(0)).cumprod()\n",
      "C:\\Users\\PC2\\Downloads\\challange_5\\UTOR-VIRT-FIN-PT-08-2023-U-LOLC-main-05-APIs-Unit 5 Homework\\05-APIs\\Unit 5 Homework\\Instructions\\Starter_Code\\MCForecastTools.py:117: PerformanceWarning: DataFrame is highly fragmented.  This is usually the result of calling `frame.insert` many times, which has poor performance.  Consider joining all columns at once using pd.concat(axis=1) instead. To get a de-fragmented frame, use `newframe = frame.copy()`\n",
      "  portfolio_cumulative_returns[n] = (1 + sim_df.fillna(0)).cumprod()\n",
      "C:\\Users\\PC2\\Downloads\\challange_5\\UTOR-VIRT-FIN-PT-08-2023-U-LOLC-main-05-APIs-Unit 5 Homework\\05-APIs\\Unit 5 Homework\\Instructions\\Starter_Code\\MCForecastTools.py:117: PerformanceWarning: DataFrame is highly fragmented.  This is usually the result of calling `frame.insert` many times, which has poor performance.  Consider joining all columns at once using pd.concat(axis=1) instead. To get a de-fragmented frame, use `newframe = frame.copy()`\n",
      "  portfolio_cumulative_returns[n] = (1 + sim_df.fillna(0)).cumprod()\n",
      "C:\\Users\\PC2\\Downloads\\challange_5\\UTOR-VIRT-FIN-PT-08-2023-U-LOLC-main-05-APIs-Unit 5 Homework\\05-APIs\\Unit 5 Homework\\Instructions\\Starter_Code\\MCForecastTools.py:117: PerformanceWarning: DataFrame is highly fragmented.  This is usually the result of calling `frame.insert` many times, which has poor performance.  Consider joining all columns at once using pd.concat(axis=1) instead. To get a de-fragmented frame, use `newframe = frame.copy()`\n",
      "  portfolio_cumulative_returns[n] = (1 + sim_df.fillna(0)).cumprod()\n",
      "C:\\Users\\PC2\\Downloads\\challange_5\\UTOR-VIRT-FIN-PT-08-2023-U-LOLC-main-05-APIs-Unit 5 Homework\\05-APIs\\Unit 5 Homework\\Instructions\\Starter_Code\\MCForecastTools.py:117: PerformanceWarning: DataFrame is highly fragmented.  This is usually the result of calling `frame.insert` many times, which has poor performance.  Consider joining all columns at once using pd.concat(axis=1) instead. To get a de-fragmented frame, use `newframe = frame.copy()`\n",
      "  portfolio_cumulative_returns[n] = (1 + sim_df.fillna(0)).cumprod()\n",
      "C:\\Users\\PC2\\Downloads\\challange_5\\UTOR-VIRT-FIN-PT-08-2023-U-LOLC-main-05-APIs-Unit 5 Homework\\05-APIs\\Unit 5 Homework\\Instructions\\Starter_Code\\MCForecastTools.py:117: PerformanceWarning: DataFrame is highly fragmented.  This is usually the result of calling `frame.insert` many times, which has poor performance.  Consider joining all columns at once using pd.concat(axis=1) instead. To get a de-fragmented frame, use `newframe = frame.copy()`\n",
      "  portfolio_cumulative_returns[n] = (1 + sim_df.fillna(0)).cumprod()\n",
      "C:\\Users\\PC2\\Downloads\\challange_5\\UTOR-VIRT-FIN-PT-08-2023-U-LOLC-main-05-APIs-Unit 5 Homework\\05-APIs\\Unit 5 Homework\\Instructions\\Starter_Code\\MCForecastTools.py:117: PerformanceWarning: DataFrame is highly fragmented.  This is usually the result of calling `frame.insert` many times, which has poor performance.  Consider joining all columns at once using pd.concat(axis=1) instead. To get a de-fragmented frame, use `newframe = frame.copy()`\n",
      "  portfolio_cumulative_returns[n] = (1 + sim_df.fillna(0)).cumprod()\n",
      "C:\\Users\\PC2\\Downloads\\challange_5\\UTOR-VIRT-FIN-PT-08-2023-U-LOLC-main-05-APIs-Unit 5 Homework\\05-APIs\\Unit 5 Homework\\Instructions\\Starter_Code\\MCForecastTools.py:117: PerformanceWarning: DataFrame is highly fragmented.  This is usually the result of calling `frame.insert` many times, which has poor performance.  Consider joining all columns at once using pd.concat(axis=1) instead. To get a de-fragmented frame, use `newframe = frame.copy()`\n",
      "  portfolio_cumulative_returns[n] = (1 + sim_df.fillna(0)).cumprod()\n"
     ]
    },
    {
     "name": "stdout",
     "output_type": "stream",
     "text": [
      "Running Monte Carlo simulation number 140.\n"
     ]
    },
    {
     "name": "stderr",
     "output_type": "stream",
     "text": [
      "C:\\Users\\PC2\\Downloads\\challange_5\\UTOR-VIRT-FIN-PT-08-2023-U-LOLC-main-05-APIs-Unit 5 Homework\\05-APIs\\Unit 5 Homework\\Instructions\\Starter_Code\\MCForecastTools.py:117: PerformanceWarning: DataFrame is highly fragmented.  This is usually the result of calling `frame.insert` many times, which has poor performance.  Consider joining all columns at once using pd.concat(axis=1) instead. To get a de-fragmented frame, use `newframe = frame.copy()`\n",
      "  portfolio_cumulative_returns[n] = (1 + sim_df.fillna(0)).cumprod()\n",
      "C:\\Users\\PC2\\Downloads\\challange_5\\UTOR-VIRT-FIN-PT-08-2023-U-LOLC-main-05-APIs-Unit 5 Homework\\05-APIs\\Unit 5 Homework\\Instructions\\Starter_Code\\MCForecastTools.py:117: PerformanceWarning: DataFrame is highly fragmented.  This is usually the result of calling `frame.insert` many times, which has poor performance.  Consider joining all columns at once using pd.concat(axis=1) instead. To get a de-fragmented frame, use `newframe = frame.copy()`\n",
      "  portfolio_cumulative_returns[n] = (1 + sim_df.fillna(0)).cumprod()\n",
      "C:\\Users\\PC2\\Downloads\\challange_5\\UTOR-VIRT-FIN-PT-08-2023-U-LOLC-main-05-APIs-Unit 5 Homework\\05-APIs\\Unit 5 Homework\\Instructions\\Starter_Code\\MCForecastTools.py:117: PerformanceWarning: DataFrame is highly fragmented.  This is usually the result of calling `frame.insert` many times, which has poor performance.  Consider joining all columns at once using pd.concat(axis=1) instead. To get a de-fragmented frame, use `newframe = frame.copy()`\n",
      "  portfolio_cumulative_returns[n] = (1 + sim_df.fillna(0)).cumprod()\n",
      "C:\\Users\\PC2\\Downloads\\challange_5\\UTOR-VIRT-FIN-PT-08-2023-U-LOLC-main-05-APIs-Unit 5 Homework\\05-APIs\\Unit 5 Homework\\Instructions\\Starter_Code\\MCForecastTools.py:117: PerformanceWarning: DataFrame is highly fragmented.  This is usually the result of calling `frame.insert` many times, which has poor performance.  Consider joining all columns at once using pd.concat(axis=1) instead. To get a de-fragmented frame, use `newframe = frame.copy()`\n",
      "  portfolio_cumulative_returns[n] = (1 + sim_df.fillna(0)).cumprod()\n",
      "C:\\Users\\PC2\\Downloads\\challange_5\\UTOR-VIRT-FIN-PT-08-2023-U-LOLC-main-05-APIs-Unit 5 Homework\\05-APIs\\Unit 5 Homework\\Instructions\\Starter_Code\\MCForecastTools.py:117: PerformanceWarning: DataFrame is highly fragmented.  This is usually the result of calling `frame.insert` many times, which has poor performance.  Consider joining all columns at once using pd.concat(axis=1) instead. To get a de-fragmented frame, use `newframe = frame.copy()`\n",
      "  portfolio_cumulative_returns[n] = (1 + sim_df.fillna(0)).cumprod()\n",
      "C:\\Users\\PC2\\Downloads\\challange_5\\UTOR-VIRT-FIN-PT-08-2023-U-LOLC-main-05-APIs-Unit 5 Homework\\05-APIs\\Unit 5 Homework\\Instructions\\Starter_Code\\MCForecastTools.py:117: PerformanceWarning: DataFrame is highly fragmented.  This is usually the result of calling `frame.insert` many times, which has poor performance.  Consider joining all columns at once using pd.concat(axis=1) instead. To get a de-fragmented frame, use `newframe = frame.copy()`\n",
      "  portfolio_cumulative_returns[n] = (1 + sim_df.fillna(0)).cumprod()\n",
      "C:\\Users\\PC2\\Downloads\\challange_5\\UTOR-VIRT-FIN-PT-08-2023-U-LOLC-main-05-APIs-Unit 5 Homework\\05-APIs\\Unit 5 Homework\\Instructions\\Starter_Code\\MCForecastTools.py:117: PerformanceWarning: DataFrame is highly fragmented.  This is usually the result of calling `frame.insert` many times, which has poor performance.  Consider joining all columns at once using pd.concat(axis=1) instead. To get a de-fragmented frame, use `newframe = frame.copy()`\n",
      "  portfolio_cumulative_returns[n] = (1 + sim_df.fillna(0)).cumprod()\n",
      "C:\\Users\\PC2\\Downloads\\challange_5\\UTOR-VIRT-FIN-PT-08-2023-U-LOLC-main-05-APIs-Unit 5 Homework\\05-APIs\\Unit 5 Homework\\Instructions\\Starter_Code\\MCForecastTools.py:117: PerformanceWarning: DataFrame is highly fragmented.  This is usually the result of calling `frame.insert` many times, which has poor performance.  Consider joining all columns at once using pd.concat(axis=1) instead. To get a de-fragmented frame, use `newframe = frame.copy()`\n",
      "  portfolio_cumulative_returns[n] = (1 + sim_df.fillna(0)).cumprod()\n",
      "C:\\Users\\PC2\\Downloads\\challange_5\\UTOR-VIRT-FIN-PT-08-2023-U-LOLC-main-05-APIs-Unit 5 Homework\\05-APIs\\Unit 5 Homework\\Instructions\\Starter_Code\\MCForecastTools.py:117: PerformanceWarning: DataFrame is highly fragmented.  This is usually the result of calling `frame.insert` many times, which has poor performance.  Consider joining all columns at once using pd.concat(axis=1) instead. To get a de-fragmented frame, use `newframe = frame.copy()`\n",
      "  portfolio_cumulative_returns[n] = (1 + sim_df.fillna(0)).cumprod()\n",
      "C:\\Users\\PC2\\Downloads\\challange_5\\UTOR-VIRT-FIN-PT-08-2023-U-LOLC-main-05-APIs-Unit 5 Homework\\05-APIs\\Unit 5 Homework\\Instructions\\Starter_Code\\MCForecastTools.py:117: PerformanceWarning: DataFrame is highly fragmented.  This is usually the result of calling `frame.insert` many times, which has poor performance.  Consider joining all columns at once using pd.concat(axis=1) instead. To get a de-fragmented frame, use `newframe = frame.copy()`\n",
      "  portfolio_cumulative_returns[n] = (1 + sim_df.fillna(0)).cumprod()\n"
     ]
    },
    {
     "name": "stdout",
     "output_type": "stream",
     "text": [
      "Running Monte Carlo simulation number 150.\n"
     ]
    },
    {
     "name": "stderr",
     "output_type": "stream",
     "text": [
      "C:\\Users\\PC2\\Downloads\\challange_5\\UTOR-VIRT-FIN-PT-08-2023-U-LOLC-main-05-APIs-Unit 5 Homework\\05-APIs\\Unit 5 Homework\\Instructions\\Starter_Code\\MCForecastTools.py:117: PerformanceWarning: DataFrame is highly fragmented.  This is usually the result of calling `frame.insert` many times, which has poor performance.  Consider joining all columns at once using pd.concat(axis=1) instead. To get a de-fragmented frame, use `newframe = frame.copy()`\n",
      "  portfolio_cumulative_returns[n] = (1 + sim_df.fillna(0)).cumprod()\n",
      "C:\\Users\\PC2\\Downloads\\challange_5\\UTOR-VIRT-FIN-PT-08-2023-U-LOLC-main-05-APIs-Unit 5 Homework\\05-APIs\\Unit 5 Homework\\Instructions\\Starter_Code\\MCForecastTools.py:117: PerformanceWarning: DataFrame is highly fragmented.  This is usually the result of calling `frame.insert` many times, which has poor performance.  Consider joining all columns at once using pd.concat(axis=1) instead. To get a de-fragmented frame, use `newframe = frame.copy()`\n",
      "  portfolio_cumulative_returns[n] = (1 + sim_df.fillna(0)).cumprod()\n",
      "C:\\Users\\PC2\\Downloads\\challange_5\\UTOR-VIRT-FIN-PT-08-2023-U-LOLC-main-05-APIs-Unit 5 Homework\\05-APIs\\Unit 5 Homework\\Instructions\\Starter_Code\\MCForecastTools.py:117: PerformanceWarning: DataFrame is highly fragmented.  This is usually the result of calling `frame.insert` many times, which has poor performance.  Consider joining all columns at once using pd.concat(axis=1) instead. To get a de-fragmented frame, use `newframe = frame.copy()`\n",
      "  portfolio_cumulative_returns[n] = (1 + sim_df.fillna(0)).cumprod()\n",
      "C:\\Users\\PC2\\Downloads\\challange_5\\UTOR-VIRT-FIN-PT-08-2023-U-LOLC-main-05-APIs-Unit 5 Homework\\05-APIs\\Unit 5 Homework\\Instructions\\Starter_Code\\MCForecastTools.py:117: PerformanceWarning: DataFrame is highly fragmented.  This is usually the result of calling `frame.insert` many times, which has poor performance.  Consider joining all columns at once using pd.concat(axis=1) instead. To get a de-fragmented frame, use `newframe = frame.copy()`\n",
      "  portfolio_cumulative_returns[n] = (1 + sim_df.fillna(0)).cumprod()\n",
      "C:\\Users\\PC2\\Downloads\\challange_5\\UTOR-VIRT-FIN-PT-08-2023-U-LOLC-main-05-APIs-Unit 5 Homework\\05-APIs\\Unit 5 Homework\\Instructions\\Starter_Code\\MCForecastTools.py:117: PerformanceWarning: DataFrame is highly fragmented.  This is usually the result of calling `frame.insert` many times, which has poor performance.  Consider joining all columns at once using pd.concat(axis=1) instead. To get a de-fragmented frame, use `newframe = frame.copy()`\n",
      "  portfolio_cumulative_returns[n] = (1 + sim_df.fillna(0)).cumprod()\n",
      "C:\\Users\\PC2\\Downloads\\challange_5\\UTOR-VIRT-FIN-PT-08-2023-U-LOLC-main-05-APIs-Unit 5 Homework\\05-APIs\\Unit 5 Homework\\Instructions\\Starter_Code\\MCForecastTools.py:117: PerformanceWarning: DataFrame is highly fragmented.  This is usually the result of calling `frame.insert` many times, which has poor performance.  Consider joining all columns at once using pd.concat(axis=1) instead. To get a de-fragmented frame, use `newframe = frame.copy()`\n",
      "  portfolio_cumulative_returns[n] = (1 + sim_df.fillna(0)).cumprod()\n",
      "C:\\Users\\PC2\\Downloads\\challange_5\\UTOR-VIRT-FIN-PT-08-2023-U-LOLC-main-05-APIs-Unit 5 Homework\\05-APIs\\Unit 5 Homework\\Instructions\\Starter_Code\\MCForecastTools.py:117: PerformanceWarning: DataFrame is highly fragmented.  This is usually the result of calling `frame.insert` many times, which has poor performance.  Consider joining all columns at once using pd.concat(axis=1) instead. To get a de-fragmented frame, use `newframe = frame.copy()`\n",
      "  portfolio_cumulative_returns[n] = (1 + sim_df.fillna(0)).cumprod()\n",
      "C:\\Users\\PC2\\Downloads\\challange_5\\UTOR-VIRT-FIN-PT-08-2023-U-LOLC-main-05-APIs-Unit 5 Homework\\05-APIs\\Unit 5 Homework\\Instructions\\Starter_Code\\MCForecastTools.py:117: PerformanceWarning: DataFrame is highly fragmented.  This is usually the result of calling `frame.insert` many times, which has poor performance.  Consider joining all columns at once using pd.concat(axis=1) instead. To get a de-fragmented frame, use `newframe = frame.copy()`\n",
      "  portfolio_cumulative_returns[n] = (1 + sim_df.fillna(0)).cumprod()\n",
      "C:\\Users\\PC2\\Downloads\\challange_5\\UTOR-VIRT-FIN-PT-08-2023-U-LOLC-main-05-APIs-Unit 5 Homework\\05-APIs\\Unit 5 Homework\\Instructions\\Starter_Code\\MCForecastTools.py:117: PerformanceWarning: DataFrame is highly fragmented.  This is usually the result of calling `frame.insert` many times, which has poor performance.  Consider joining all columns at once using pd.concat(axis=1) instead. To get a de-fragmented frame, use `newframe = frame.copy()`\n",
      "  portfolio_cumulative_returns[n] = (1 + sim_df.fillna(0)).cumprod()\n",
      "C:\\Users\\PC2\\Downloads\\challange_5\\UTOR-VIRT-FIN-PT-08-2023-U-LOLC-main-05-APIs-Unit 5 Homework\\05-APIs\\Unit 5 Homework\\Instructions\\Starter_Code\\MCForecastTools.py:117: PerformanceWarning: DataFrame is highly fragmented.  This is usually the result of calling `frame.insert` many times, which has poor performance.  Consider joining all columns at once using pd.concat(axis=1) instead. To get a de-fragmented frame, use `newframe = frame.copy()`\n",
      "  portfolio_cumulative_returns[n] = (1 + sim_df.fillna(0)).cumprod()\n"
     ]
    },
    {
     "name": "stdout",
     "output_type": "stream",
     "text": [
      "Running Monte Carlo simulation number 160.\n"
     ]
    },
    {
     "name": "stderr",
     "output_type": "stream",
     "text": [
      "C:\\Users\\PC2\\Downloads\\challange_5\\UTOR-VIRT-FIN-PT-08-2023-U-LOLC-main-05-APIs-Unit 5 Homework\\05-APIs\\Unit 5 Homework\\Instructions\\Starter_Code\\MCForecastTools.py:117: PerformanceWarning: DataFrame is highly fragmented.  This is usually the result of calling `frame.insert` many times, which has poor performance.  Consider joining all columns at once using pd.concat(axis=1) instead. To get a de-fragmented frame, use `newframe = frame.copy()`\n",
      "  portfolio_cumulative_returns[n] = (1 + sim_df.fillna(0)).cumprod()\n",
      "C:\\Users\\PC2\\Downloads\\challange_5\\UTOR-VIRT-FIN-PT-08-2023-U-LOLC-main-05-APIs-Unit 5 Homework\\05-APIs\\Unit 5 Homework\\Instructions\\Starter_Code\\MCForecastTools.py:117: PerformanceWarning: DataFrame is highly fragmented.  This is usually the result of calling `frame.insert` many times, which has poor performance.  Consider joining all columns at once using pd.concat(axis=1) instead. To get a de-fragmented frame, use `newframe = frame.copy()`\n",
      "  portfolio_cumulative_returns[n] = (1 + sim_df.fillna(0)).cumprod()\n",
      "C:\\Users\\PC2\\Downloads\\challange_5\\UTOR-VIRT-FIN-PT-08-2023-U-LOLC-main-05-APIs-Unit 5 Homework\\05-APIs\\Unit 5 Homework\\Instructions\\Starter_Code\\MCForecastTools.py:117: PerformanceWarning: DataFrame is highly fragmented.  This is usually the result of calling `frame.insert` many times, which has poor performance.  Consider joining all columns at once using pd.concat(axis=1) instead. To get a de-fragmented frame, use `newframe = frame.copy()`\n",
      "  portfolio_cumulative_returns[n] = (1 + sim_df.fillna(0)).cumprod()\n",
      "C:\\Users\\PC2\\Downloads\\challange_5\\UTOR-VIRT-FIN-PT-08-2023-U-LOLC-main-05-APIs-Unit 5 Homework\\05-APIs\\Unit 5 Homework\\Instructions\\Starter_Code\\MCForecastTools.py:117: PerformanceWarning: DataFrame is highly fragmented.  This is usually the result of calling `frame.insert` many times, which has poor performance.  Consider joining all columns at once using pd.concat(axis=1) instead. To get a de-fragmented frame, use `newframe = frame.copy()`\n",
      "  portfolio_cumulative_returns[n] = (1 + sim_df.fillna(0)).cumprod()\n",
      "C:\\Users\\PC2\\Downloads\\challange_5\\UTOR-VIRT-FIN-PT-08-2023-U-LOLC-main-05-APIs-Unit 5 Homework\\05-APIs\\Unit 5 Homework\\Instructions\\Starter_Code\\MCForecastTools.py:117: PerformanceWarning: DataFrame is highly fragmented.  This is usually the result of calling `frame.insert` many times, which has poor performance.  Consider joining all columns at once using pd.concat(axis=1) instead. To get a de-fragmented frame, use `newframe = frame.copy()`\n",
      "  portfolio_cumulative_returns[n] = (1 + sim_df.fillna(0)).cumprod()\n",
      "C:\\Users\\PC2\\Downloads\\challange_5\\UTOR-VIRT-FIN-PT-08-2023-U-LOLC-main-05-APIs-Unit 5 Homework\\05-APIs\\Unit 5 Homework\\Instructions\\Starter_Code\\MCForecastTools.py:117: PerformanceWarning: DataFrame is highly fragmented.  This is usually the result of calling `frame.insert` many times, which has poor performance.  Consider joining all columns at once using pd.concat(axis=1) instead. To get a de-fragmented frame, use `newframe = frame.copy()`\n",
      "  portfolio_cumulative_returns[n] = (1 + sim_df.fillna(0)).cumprod()\n",
      "C:\\Users\\PC2\\Downloads\\challange_5\\UTOR-VIRT-FIN-PT-08-2023-U-LOLC-main-05-APIs-Unit 5 Homework\\05-APIs\\Unit 5 Homework\\Instructions\\Starter_Code\\MCForecastTools.py:117: PerformanceWarning: DataFrame is highly fragmented.  This is usually the result of calling `frame.insert` many times, which has poor performance.  Consider joining all columns at once using pd.concat(axis=1) instead. To get a de-fragmented frame, use `newframe = frame.copy()`\n",
      "  portfolio_cumulative_returns[n] = (1 + sim_df.fillna(0)).cumprod()\n",
      "C:\\Users\\PC2\\Downloads\\challange_5\\UTOR-VIRT-FIN-PT-08-2023-U-LOLC-main-05-APIs-Unit 5 Homework\\05-APIs\\Unit 5 Homework\\Instructions\\Starter_Code\\MCForecastTools.py:117: PerformanceWarning: DataFrame is highly fragmented.  This is usually the result of calling `frame.insert` many times, which has poor performance.  Consider joining all columns at once using pd.concat(axis=1) instead. To get a de-fragmented frame, use `newframe = frame.copy()`\n",
      "  portfolio_cumulative_returns[n] = (1 + sim_df.fillna(0)).cumprod()\n",
      "C:\\Users\\PC2\\Downloads\\challange_5\\UTOR-VIRT-FIN-PT-08-2023-U-LOLC-main-05-APIs-Unit 5 Homework\\05-APIs\\Unit 5 Homework\\Instructions\\Starter_Code\\MCForecastTools.py:117: PerformanceWarning: DataFrame is highly fragmented.  This is usually the result of calling `frame.insert` many times, which has poor performance.  Consider joining all columns at once using pd.concat(axis=1) instead. To get a de-fragmented frame, use `newframe = frame.copy()`\n",
      "  portfolio_cumulative_returns[n] = (1 + sim_df.fillna(0)).cumprod()\n",
      "C:\\Users\\PC2\\Downloads\\challange_5\\UTOR-VIRT-FIN-PT-08-2023-U-LOLC-main-05-APIs-Unit 5 Homework\\05-APIs\\Unit 5 Homework\\Instructions\\Starter_Code\\MCForecastTools.py:117: PerformanceWarning: DataFrame is highly fragmented.  This is usually the result of calling `frame.insert` many times, which has poor performance.  Consider joining all columns at once using pd.concat(axis=1) instead. To get a de-fragmented frame, use `newframe = frame.copy()`\n",
      "  portfolio_cumulative_returns[n] = (1 + sim_df.fillna(0)).cumprod()\n"
     ]
    },
    {
     "name": "stdout",
     "output_type": "stream",
     "text": [
      "Running Monte Carlo simulation number 170.\n"
     ]
    },
    {
     "name": "stderr",
     "output_type": "stream",
     "text": [
      "C:\\Users\\PC2\\Downloads\\challange_5\\UTOR-VIRT-FIN-PT-08-2023-U-LOLC-main-05-APIs-Unit 5 Homework\\05-APIs\\Unit 5 Homework\\Instructions\\Starter_Code\\MCForecastTools.py:117: PerformanceWarning: DataFrame is highly fragmented.  This is usually the result of calling `frame.insert` many times, which has poor performance.  Consider joining all columns at once using pd.concat(axis=1) instead. To get a de-fragmented frame, use `newframe = frame.copy()`\n",
      "  portfolio_cumulative_returns[n] = (1 + sim_df.fillna(0)).cumprod()\n",
      "C:\\Users\\PC2\\Downloads\\challange_5\\UTOR-VIRT-FIN-PT-08-2023-U-LOLC-main-05-APIs-Unit 5 Homework\\05-APIs\\Unit 5 Homework\\Instructions\\Starter_Code\\MCForecastTools.py:117: PerformanceWarning: DataFrame is highly fragmented.  This is usually the result of calling `frame.insert` many times, which has poor performance.  Consider joining all columns at once using pd.concat(axis=1) instead. To get a de-fragmented frame, use `newframe = frame.copy()`\n",
      "  portfolio_cumulative_returns[n] = (1 + sim_df.fillna(0)).cumprod()\n",
      "C:\\Users\\PC2\\Downloads\\challange_5\\UTOR-VIRT-FIN-PT-08-2023-U-LOLC-main-05-APIs-Unit 5 Homework\\05-APIs\\Unit 5 Homework\\Instructions\\Starter_Code\\MCForecastTools.py:117: PerformanceWarning: DataFrame is highly fragmented.  This is usually the result of calling `frame.insert` many times, which has poor performance.  Consider joining all columns at once using pd.concat(axis=1) instead. To get a de-fragmented frame, use `newframe = frame.copy()`\n",
      "  portfolio_cumulative_returns[n] = (1 + sim_df.fillna(0)).cumprod()\n",
      "C:\\Users\\PC2\\Downloads\\challange_5\\UTOR-VIRT-FIN-PT-08-2023-U-LOLC-main-05-APIs-Unit 5 Homework\\05-APIs\\Unit 5 Homework\\Instructions\\Starter_Code\\MCForecastTools.py:117: PerformanceWarning: DataFrame is highly fragmented.  This is usually the result of calling `frame.insert` many times, which has poor performance.  Consider joining all columns at once using pd.concat(axis=1) instead. To get a de-fragmented frame, use `newframe = frame.copy()`\n",
      "  portfolio_cumulative_returns[n] = (1 + sim_df.fillna(0)).cumprod()\n",
      "C:\\Users\\PC2\\Downloads\\challange_5\\UTOR-VIRT-FIN-PT-08-2023-U-LOLC-main-05-APIs-Unit 5 Homework\\05-APIs\\Unit 5 Homework\\Instructions\\Starter_Code\\MCForecastTools.py:117: PerformanceWarning: DataFrame is highly fragmented.  This is usually the result of calling `frame.insert` many times, which has poor performance.  Consider joining all columns at once using pd.concat(axis=1) instead. To get a de-fragmented frame, use `newframe = frame.copy()`\n",
      "  portfolio_cumulative_returns[n] = (1 + sim_df.fillna(0)).cumprod()\n",
      "C:\\Users\\PC2\\Downloads\\challange_5\\UTOR-VIRT-FIN-PT-08-2023-U-LOLC-main-05-APIs-Unit 5 Homework\\05-APIs\\Unit 5 Homework\\Instructions\\Starter_Code\\MCForecastTools.py:117: PerformanceWarning: DataFrame is highly fragmented.  This is usually the result of calling `frame.insert` many times, which has poor performance.  Consider joining all columns at once using pd.concat(axis=1) instead. To get a de-fragmented frame, use `newframe = frame.copy()`\n",
      "  portfolio_cumulative_returns[n] = (1 + sim_df.fillna(0)).cumprod()\n",
      "C:\\Users\\PC2\\Downloads\\challange_5\\UTOR-VIRT-FIN-PT-08-2023-U-LOLC-main-05-APIs-Unit 5 Homework\\05-APIs\\Unit 5 Homework\\Instructions\\Starter_Code\\MCForecastTools.py:117: PerformanceWarning: DataFrame is highly fragmented.  This is usually the result of calling `frame.insert` many times, which has poor performance.  Consider joining all columns at once using pd.concat(axis=1) instead. To get a de-fragmented frame, use `newframe = frame.copy()`\n",
      "  portfolio_cumulative_returns[n] = (1 + sim_df.fillna(0)).cumprod()\n",
      "C:\\Users\\PC2\\Downloads\\challange_5\\UTOR-VIRT-FIN-PT-08-2023-U-LOLC-main-05-APIs-Unit 5 Homework\\05-APIs\\Unit 5 Homework\\Instructions\\Starter_Code\\MCForecastTools.py:117: PerformanceWarning: DataFrame is highly fragmented.  This is usually the result of calling `frame.insert` many times, which has poor performance.  Consider joining all columns at once using pd.concat(axis=1) instead. To get a de-fragmented frame, use `newframe = frame.copy()`\n",
      "  portfolio_cumulative_returns[n] = (1 + sim_df.fillna(0)).cumprod()\n",
      "C:\\Users\\PC2\\Downloads\\challange_5\\UTOR-VIRT-FIN-PT-08-2023-U-LOLC-main-05-APIs-Unit 5 Homework\\05-APIs\\Unit 5 Homework\\Instructions\\Starter_Code\\MCForecastTools.py:117: PerformanceWarning: DataFrame is highly fragmented.  This is usually the result of calling `frame.insert` many times, which has poor performance.  Consider joining all columns at once using pd.concat(axis=1) instead. To get a de-fragmented frame, use `newframe = frame.copy()`\n",
      "  portfolio_cumulative_returns[n] = (1 + sim_df.fillna(0)).cumprod()\n",
      "C:\\Users\\PC2\\Downloads\\challange_5\\UTOR-VIRT-FIN-PT-08-2023-U-LOLC-main-05-APIs-Unit 5 Homework\\05-APIs\\Unit 5 Homework\\Instructions\\Starter_Code\\MCForecastTools.py:117: PerformanceWarning: DataFrame is highly fragmented.  This is usually the result of calling `frame.insert` many times, which has poor performance.  Consider joining all columns at once using pd.concat(axis=1) instead. To get a de-fragmented frame, use `newframe = frame.copy()`\n",
      "  portfolio_cumulative_returns[n] = (1 + sim_df.fillna(0)).cumprod()\n"
     ]
    },
    {
     "name": "stdout",
     "output_type": "stream",
     "text": [
      "Running Monte Carlo simulation number 180.\n"
     ]
    },
    {
     "name": "stderr",
     "output_type": "stream",
     "text": [
      "C:\\Users\\PC2\\Downloads\\challange_5\\UTOR-VIRT-FIN-PT-08-2023-U-LOLC-main-05-APIs-Unit 5 Homework\\05-APIs\\Unit 5 Homework\\Instructions\\Starter_Code\\MCForecastTools.py:117: PerformanceWarning: DataFrame is highly fragmented.  This is usually the result of calling `frame.insert` many times, which has poor performance.  Consider joining all columns at once using pd.concat(axis=1) instead. To get a de-fragmented frame, use `newframe = frame.copy()`\n",
      "  portfolio_cumulative_returns[n] = (1 + sim_df.fillna(0)).cumprod()\n",
      "C:\\Users\\PC2\\Downloads\\challange_5\\UTOR-VIRT-FIN-PT-08-2023-U-LOLC-main-05-APIs-Unit 5 Homework\\05-APIs\\Unit 5 Homework\\Instructions\\Starter_Code\\MCForecastTools.py:117: PerformanceWarning: DataFrame is highly fragmented.  This is usually the result of calling `frame.insert` many times, which has poor performance.  Consider joining all columns at once using pd.concat(axis=1) instead. To get a de-fragmented frame, use `newframe = frame.copy()`\n",
      "  portfolio_cumulative_returns[n] = (1 + sim_df.fillna(0)).cumprod()\n",
      "C:\\Users\\PC2\\Downloads\\challange_5\\UTOR-VIRT-FIN-PT-08-2023-U-LOLC-main-05-APIs-Unit 5 Homework\\05-APIs\\Unit 5 Homework\\Instructions\\Starter_Code\\MCForecastTools.py:117: PerformanceWarning: DataFrame is highly fragmented.  This is usually the result of calling `frame.insert` many times, which has poor performance.  Consider joining all columns at once using pd.concat(axis=1) instead. To get a de-fragmented frame, use `newframe = frame.copy()`\n",
      "  portfolio_cumulative_returns[n] = (1 + sim_df.fillna(0)).cumprod()\n",
      "C:\\Users\\PC2\\Downloads\\challange_5\\UTOR-VIRT-FIN-PT-08-2023-U-LOLC-main-05-APIs-Unit 5 Homework\\05-APIs\\Unit 5 Homework\\Instructions\\Starter_Code\\MCForecastTools.py:117: PerformanceWarning: DataFrame is highly fragmented.  This is usually the result of calling `frame.insert` many times, which has poor performance.  Consider joining all columns at once using pd.concat(axis=1) instead. To get a de-fragmented frame, use `newframe = frame.copy()`\n",
      "  portfolio_cumulative_returns[n] = (1 + sim_df.fillna(0)).cumprod()\n",
      "C:\\Users\\PC2\\Downloads\\challange_5\\UTOR-VIRT-FIN-PT-08-2023-U-LOLC-main-05-APIs-Unit 5 Homework\\05-APIs\\Unit 5 Homework\\Instructions\\Starter_Code\\MCForecastTools.py:117: PerformanceWarning: DataFrame is highly fragmented.  This is usually the result of calling `frame.insert` many times, which has poor performance.  Consider joining all columns at once using pd.concat(axis=1) instead. To get a de-fragmented frame, use `newframe = frame.copy()`\n",
      "  portfolio_cumulative_returns[n] = (1 + sim_df.fillna(0)).cumprod()\n",
      "C:\\Users\\PC2\\Downloads\\challange_5\\UTOR-VIRT-FIN-PT-08-2023-U-LOLC-main-05-APIs-Unit 5 Homework\\05-APIs\\Unit 5 Homework\\Instructions\\Starter_Code\\MCForecastTools.py:117: PerformanceWarning: DataFrame is highly fragmented.  This is usually the result of calling `frame.insert` many times, which has poor performance.  Consider joining all columns at once using pd.concat(axis=1) instead. To get a de-fragmented frame, use `newframe = frame.copy()`\n",
      "  portfolio_cumulative_returns[n] = (1 + sim_df.fillna(0)).cumprod()\n",
      "C:\\Users\\PC2\\Downloads\\challange_5\\UTOR-VIRT-FIN-PT-08-2023-U-LOLC-main-05-APIs-Unit 5 Homework\\05-APIs\\Unit 5 Homework\\Instructions\\Starter_Code\\MCForecastTools.py:117: PerformanceWarning: DataFrame is highly fragmented.  This is usually the result of calling `frame.insert` many times, which has poor performance.  Consider joining all columns at once using pd.concat(axis=1) instead. To get a de-fragmented frame, use `newframe = frame.copy()`\n",
      "  portfolio_cumulative_returns[n] = (1 + sim_df.fillna(0)).cumprod()\n",
      "C:\\Users\\PC2\\Downloads\\challange_5\\UTOR-VIRT-FIN-PT-08-2023-U-LOLC-main-05-APIs-Unit 5 Homework\\05-APIs\\Unit 5 Homework\\Instructions\\Starter_Code\\MCForecastTools.py:117: PerformanceWarning: DataFrame is highly fragmented.  This is usually the result of calling `frame.insert` many times, which has poor performance.  Consider joining all columns at once using pd.concat(axis=1) instead. To get a de-fragmented frame, use `newframe = frame.copy()`\n",
      "  portfolio_cumulative_returns[n] = (1 + sim_df.fillna(0)).cumprod()\n",
      "C:\\Users\\PC2\\Downloads\\challange_5\\UTOR-VIRT-FIN-PT-08-2023-U-LOLC-main-05-APIs-Unit 5 Homework\\05-APIs\\Unit 5 Homework\\Instructions\\Starter_Code\\MCForecastTools.py:117: PerformanceWarning: DataFrame is highly fragmented.  This is usually the result of calling `frame.insert` many times, which has poor performance.  Consider joining all columns at once using pd.concat(axis=1) instead. To get a de-fragmented frame, use `newframe = frame.copy()`\n",
      "  portfolio_cumulative_returns[n] = (1 + sim_df.fillna(0)).cumprod()\n",
      "C:\\Users\\PC2\\Downloads\\challange_5\\UTOR-VIRT-FIN-PT-08-2023-U-LOLC-main-05-APIs-Unit 5 Homework\\05-APIs\\Unit 5 Homework\\Instructions\\Starter_Code\\MCForecastTools.py:117: PerformanceWarning: DataFrame is highly fragmented.  This is usually the result of calling `frame.insert` many times, which has poor performance.  Consider joining all columns at once using pd.concat(axis=1) instead. To get a de-fragmented frame, use `newframe = frame.copy()`\n",
      "  portfolio_cumulative_returns[n] = (1 + sim_df.fillna(0)).cumprod()\n"
     ]
    },
    {
     "name": "stdout",
     "output_type": "stream",
     "text": [
      "Running Monte Carlo simulation number 190.\n"
     ]
    },
    {
     "name": "stderr",
     "output_type": "stream",
     "text": [
      "C:\\Users\\PC2\\Downloads\\challange_5\\UTOR-VIRT-FIN-PT-08-2023-U-LOLC-main-05-APIs-Unit 5 Homework\\05-APIs\\Unit 5 Homework\\Instructions\\Starter_Code\\MCForecastTools.py:117: PerformanceWarning: DataFrame is highly fragmented.  This is usually the result of calling `frame.insert` many times, which has poor performance.  Consider joining all columns at once using pd.concat(axis=1) instead. To get a de-fragmented frame, use `newframe = frame.copy()`\n",
      "  portfolio_cumulative_returns[n] = (1 + sim_df.fillna(0)).cumprod()\n",
      "C:\\Users\\PC2\\Downloads\\challange_5\\UTOR-VIRT-FIN-PT-08-2023-U-LOLC-main-05-APIs-Unit 5 Homework\\05-APIs\\Unit 5 Homework\\Instructions\\Starter_Code\\MCForecastTools.py:117: PerformanceWarning: DataFrame is highly fragmented.  This is usually the result of calling `frame.insert` many times, which has poor performance.  Consider joining all columns at once using pd.concat(axis=1) instead. To get a de-fragmented frame, use `newframe = frame.copy()`\n",
      "  portfolio_cumulative_returns[n] = (1 + sim_df.fillna(0)).cumprod()\n",
      "C:\\Users\\PC2\\Downloads\\challange_5\\UTOR-VIRT-FIN-PT-08-2023-U-LOLC-main-05-APIs-Unit 5 Homework\\05-APIs\\Unit 5 Homework\\Instructions\\Starter_Code\\MCForecastTools.py:117: PerformanceWarning: DataFrame is highly fragmented.  This is usually the result of calling `frame.insert` many times, which has poor performance.  Consider joining all columns at once using pd.concat(axis=1) instead. To get a de-fragmented frame, use `newframe = frame.copy()`\n",
      "  portfolio_cumulative_returns[n] = (1 + sim_df.fillna(0)).cumprod()\n",
      "C:\\Users\\PC2\\Downloads\\challange_5\\UTOR-VIRT-FIN-PT-08-2023-U-LOLC-main-05-APIs-Unit 5 Homework\\05-APIs\\Unit 5 Homework\\Instructions\\Starter_Code\\MCForecastTools.py:117: PerformanceWarning: DataFrame is highly fragmented.  This is usually the result of calling `frame.insert` many times, which has poor performance.  Consider joining all columns at once using pd.concat(axis=1) instead. To get a de-fragmented frame, use `newframe = frame.copy()`\n",
      "  portfolio_cumulative_returns[n] = (1 + sim_df.fillna(0)).cumprod()\n",
      "C:\\Users\\PC2\\Downloads\\challange_5\\UTOR-VIRT-FIN-PT-08-2023-U-LOLC-main-05-APIs-Unit 5 Homework\\05-APIs\\Unit 5 Homework\\Instructions\\Starter_Code\\MCForecastTools.py:117: PerformanceWarning: DataFrame is highly fragmented.  This is usually the result of calling `frame.insert` many times, which has poor performance.  Consider joining all columns at once using pd.concat(axis=1) instead. To get a de-fragmented frame, use `newframe = frame.copy()`\n",
      "  portfolio_cumulative_returns[n] = (1 + sim_df.fillna(0)).cumprod()\n",
      "C:\\Users\\PC2\\Downloads\\challange_5\\UTOR-VIRT-FIN-PT-08-2023-U-LOLC-main-05-APIs-Unit 5 Homework\\05-APIs\\Unit 5 Homework\\Instructions\\Starter_Code\\MCForecastTools.py:117: PerformanceWarning: DataFrame is highly fragmented.  This is usually the result of calling `frame.insert` many times, which has poor performance.  Consider joining all columns at once using pd.concat(axis=1) instead. To get a de-fragmented frame, use `newframe = frame.copy()`\n",
      "  portfolio_cumulative_returns[n] = (1 + sim_df.fillna(0)).cumprod()\n",
      "C:\\Users\\PC2\\Downloads\\challange_5\\UTOR-VIRT-FIN-PT-08-2023-U-LOLC-main-05-APIs-Unit 5 Homework\\05-APIs\\Unit 5 Homework\\Instructions\\Starter_Code\\MCForecastTools.py:117: PerformanceWarning: DataFrame is highly fragmented.  This is usually the result of calling `frame.insert` many times, which has poor performance.  Consider joining all columns at once using pd.concat(axis=1) instead. To get a de-fragmented frame, use `newframe = frame.copy()`\n",
      "  portfolio_cumulative_returns[n] = (1 + sim_df.fillna(0)).cumprod()\n",
      "C:\\Users\\PC2\\Downloads\\challange_5\\UTOR-VIRT-FIN-PT-08-2023-U-LOLC-main-05-APIs-Unit 5 Homework\\05-APIs\\Unit 5 Homework\\Instructions\\Starter_Code\\MCForecastTools.py:117: PerformanceWarning: DataFrame is highly fragmented.  This is usually the result of calling `frame.insert` many times, which has poor performance.  Consider joining all columns at once using pd.concat(axis=1) instead. To get a de-fragmented frame, use `newframe = frame.copy()`\n",
      "  portfolio_cumulative_returns[n] = (1 + sim_df.fillna(0)).cumprod()\n",
      "C:\\Users\\PC2\\Downloads\\challange_5\\UTOR-VIRT-FIN-PT-08-2023-U-LOLC-main-05-APIs-Unit 5 Homework\\05-APIs\\Unit 5 Homework\\Instructions\\Starter_Code\\MCForecastTools.py:117: PerformanceWarning: DataFrame is highly fragmented.  This is usually the result of calling `frame.insert` many times, which has poor performance.  Consider joining all columns at once using pd.concat(axis=1) instead. To get a de-fragmented frame, use `newframe = frame.copy()`\n",
      "  portfolio_cumulative_returns[n] = (1 + sim_df.fillna(0)).cumprod()\n",
      "C:\\Users\\PC2\\Downloads\\challange_5\\UTOR-VIRT-FIN-PT-08-2023-U-LOLC-main-05-APIs-Unit 5 Homework\\05-APIs\\Unit 5 Homework\\Instructions\\Starter_Code\\MCForecastTools.py:117: PerformanceWarning: DataFrame is highly fragmented.  This is usually the result of calling `frame.insert` many times, which has poor performance.  Consider joining all columns at once using pd.concat(axis=1) instead. To get a de-fragmented frame, use `newframe = frame.copy()`\n",
      "  portfolio_cumulative_returns[n] = (1 + sim_df.fillna(0)).cumprod()\n"
     ]
    },
    {
     "name": "stdout",
     "output_type": "stream",
     "text": [
      "Running Monte Carlo simulation number 200.\n"
     ]
    },
    {
     "name": "stderr",
     "output_type": "stream",
     "text": [
      "C:\\Users\\PC2\\Downloads\\challange_5\\UTOR-VIRT-FIN-PT-08-2023-U-LOLC-main-05-APIs-Unit 5 Homework\\05-APIs\\Unit 5 Homework\\Instructions\\Starter_Code\\MCForecastTools.py:117: PerformanceWarning: DataFrame is highly fragmented.  This is usually the result of calling `frame.insert` many times, which has poor performance.  Consider joining all columns at once using pd.concat(axis=1) instead. To get a de-fragmented frame, use `newframe = frame.copy()`\n",
      "  portfolio_cumulative_returns[n] = (1 + sim_df.fillna(0)).cumprod()\n",
      "C:\\Users\\PC2\\Downloads\\challange_5\\UTOR-VIRT-FIN-PT-08-2023-U-LOLC-main-05-APIs-Unit 5 Homework\\05-APIs\\Unit 5 Homework\\Instructions\\Starter_Code\\MCForecastTools.py:117: PerformanceWarning: DataFrame is highly fragmented.  This is usually the result of calling `frame.insert` many times, which has poor performance.  Consider joining all columns at once using pd.concat(axis=1) instead. To get a de-fragmented frame, use `newframe = frame.copy()`\n",
      "  portfolio_cumulative_returns[n] = (1 + sim_df.fillna(0)).cumprod()\n",
      "C:\\Users\\PC2\\Downloads\\challange_5\\UTOR-VIRT-FIN-PT-08-2023-U-LOLC-main-05-APIs-Unit 5 Homework\\05-APIs\\Unit 5 Homework\\Instructions\\Starter_Code\\MCForecastTools.py:117: PerformanceWarning: DataFrame is highly fragmented.  This is usually the result of calling `frame.insert` many times, which has poor performance.  Consider joining all columns at once using pd.concat(axis=1) instead. To get a de-fragmented frame, use `newframe = frame.copy()`\n",
      "  portfolio_cumulative_returns[n] = (1 + sim_df.fillna(0)).cumprod()\n",
      "C:\\Users\\PC2\\Downloads\\challange_5\\UTOR-VIRT-FIN-PT-08-2023-U-LOLC-main-05-APIs-Unit 5 Homework\\05-APIs\\Unit 5 Homework\\Instructions\\Starter_Code\\MCForecastTools.py:117: PerformanceWarning: DataFrame is highly fragmented.  This is usually the result of calling `frame.insert` many times, which has poor performance.  Consider joining all columns at once using pd.concat(axis=1) instead. To get a de-fragmented frame, use `newframe = frame.copy()`\n",
      "  portfolio_cumulative_returns[n] = (1 + sim_df.fillna(0)).cumprod()\n",
      "C:\\Users\\PC2\\Downloads\\challange_5\\UTOR-VIRT-FIN-PT-08-2023-U-LOLC-main-05-APIs-Unit 5 Homework\\05-APIs\\Unit 5 Homework\\Instructions\\Starter_Code\\MCForecastTools.py:117: PerformanceWarning: DataFrame is highly fragmented.  This is usually the result of calling `frame.insert` many times, which has poor performance.  Consider joining all columns at once using pd.concat(axis=1) instead. To get a de-fragmented frame, use `newframe = frame.copy()`\n",
      "  portfolio_cumulative_returns[n] = (1 + sim_df.fillna(0)).cumprod()\n",
      "C:\\Users\\PC2\\Downloads\\challange_5\\UTOR-VIRT-FIN-PT-08-2023-U-LOLC-main-05-APIs-Unit 5 Homework\\05-APIs\\Unit 5 Homework\\Instructions\\Starter_Code\\MCForecastTools.py:117: PerformanceWarning: DataFrame is highly fragmented.  This is usually the result of calling `frame.insert` many times, which has poor performance.  Consider joining all columns at once using pd.concat(axis=1) instead. To get a de-fragmented frame, use `newframe = frame.copy()`\n",
      "  portfolio_cumulative_returns[n] = (1 + sim_df.fillna(0)).cumprod()\n",
      "C:\\Users\\PC2\\Downloads\\challange_5\\UTOR-VIRT-FIN-PT-08-2023-U-LOLC-main-05-APIs-Unit 5 Homework\\05-APIs\\Unit 5 Homework\\Instructions\\Starter_Code\\MCForecastTools.py:117: PerformanceWarning: DataFrame is highly fragmented.  This is usually the result of calling `frame.insert` many times, which has poor performance.  Consider joining all columns at once using pd.concat(axis=1) instead. To get a de-fragmented frame, use `newframe = frame.copy()`\n",
      "  portfolio_cumulative_returns[n] = (1 + sim_df.fillna(0)).cumprod()\n",
      "C:\\Users\\PC2\\Downloads\\challange_5\\UTOR-VIRT-FIN-PT-08-2023-U-LOLC-main-05-APIs-Unit 5 Homework\\05-APIs\\Unit 5 Homework\\Instructions\\Starter_Code\\MCForecastTools.py:117: PerformanceWarning: DataFrame is highly fragmented.  This is usually the result of calling `frame.insert` many times, which has poor performance.  Consider joining all columns at once using pd.concat(axis=1) instead. To get a de-fragmented frame, use `newframe = frame.copy()`\n",
      "  portfolio_cumulative_returns[n] = (1 + sim_df.fillna(0)).cumprod()\n",
      "C:\\Users\\PC2\\Downloads\\challange_5\\UTOR-VIRT-FIN-PT-08-2023-U-LOLC-main-05-APIs-Unit 5 Homework\\05-APIs\\Unit 5 Homework\\Instructions\\Starter_Code\\MCForecastTools.py:117: PerformanceWarning: DataFrame is highly fragmented.  This is usually the result of calling `frame.insert` many times, which has poor performance.  Consider joining all columns at once using pd.concat(axis=1) instead. To get a de-fragmented frame, use `newframe = frame.copy()`\n",
      "  portfolio_cumulative_returns[n] = (1 + sim_df.fillna(0)).cumprod()\n",
      "C:\\Users\\PC2\\Downloads\\challange_5\\UTOR-VIRT-FIN-PT-08-2023-U-LOLC-main-05-APIs-Unit 5 Homework\\05-APIs\\Unit 5 Homework\\Instructions\\Starter_Code\\MCForecastTools.py:117: PerformanceWarning: DataFrame is highly fragmented.  This is usually the result of calling `frame.insert` many times, which has poor performance.  Consider joining all columns at once using pd.concat(axis=1) instead. To get a de-fragmented frame, use `newframe = frame.copy()`\n",
      "  portfolio_cumulative_returns[n] = (1 + sim_df.fillna(0)).cumprod()\n"
     ]
    },
    {
     "name": "stdout",
     "output_type": "stream",
     "text": [
      "Running Monte Carlo simulation number 210.\n"
     ]
    },
    {
     "name": "stderr",
     "output_type": "stream",
     "text": [
      "C:\\Users\\PC2\\Downloads\\challange_5\\UTOR-VIRT-FIN-PT-08-2023-U-LOLC-main-05-APIs-Unit 5 Homework\\05-APIs\\Unit 5 Homework\\Instructions\\Starter_Code\\MCForecastTools.py:117: PerformanceWarning: DataFrame is highly fragmented.  This is usually the result of calling `frame.insert` many times, which has poor performance.  Consider joining all columns at once using pd.concat(axis=1) instead. To get a de-fragmented frame, use `newframe = frame.copy()`\n",
      "  portfolio_cumulative_returns[n] = (1 + sim_df.fillna(0)).cumprod()\n",
      "C:\\Users\\PC2\\Downloads\\challange_5\\UTOR-VIRT-FIN-PT-08-2023-U-LOLC-main-05-APIs-Unit 5 Homework\\05-APIs\\Unit 5 Homework\\Instructions\\Starter_Code\\MCForecastTools.py:117: PerformanceWarning: DataFrame is highly fragmented.  This is usually the result of calling `frame.insert` many times, which has poor performance.  Consider joining all columns at once using pd.concat(axis=1) instead. To get a de-fragmented frame, use `newframe = frame.copy()`\n",
      "  portfolio_cumulative_returns[n] = (1 + sim_df.fillna(0)).cumprod()\n",
      "C:\\Users\\PC2\\Downloads\\challange_5\\UTOR-VIRT-FIN-PT-08-2023-U-LOLC-main-05-APIs-Unit 5 Homework\\05-APIs\\Unit 5 Homework\\Instructions\\Starter_Code\\MCForecastTools.py:117: PerformanceWarning: DataFrame is highly fragmented.  This is usually the result of calling `frame.insert` many times, which has poor performance.  Consider joining all columns at once using pd.concat(axis=1) instead. To get a de-fragmented frame, use `newframe = frame.copy()`\n",
      "  portfolio_cumulative_returns[n] = (1 + sim_df.fillna(0)).cumprod()\n",
      "C:\\Users\\PC2\\Downloads\\challange_5\\UTOR-VIRT-FIN-PT-08-2023-U-LOLC-main-05-APIs-Unit 5 Homework\\05-APIs\\Unit 5 Homework\\Instructions\\Starter_Code\\MCForecastTools.py:117: PerformanceWarning: DataFrame is highly fragmented.  This is usually the result of calling `frame.insert` many times, which has poor performance.  Consider joining all columns at once using pd.concat(axis=1) instead. To get a de-fragmented frame, use `newframe = frame.copy()`\n",
      "  portfolio_cumulative_returns[n] = (1 + sim_df.fillna(0)).cumprod()\n",
      "C:\\Users\\PC2\\Downloads\\challange_5\\UTOR-VIRT-FIN-PT-08-2023-U-LOLC-main-05-APIs-Unit 5 Homework\\05-APIs\\Unit 5 Homework\\Instructions\\Starter_Code\\MCForecastTools.py:117: PerformanceWarning: DataFrame is highly fragmented.  This is usually the result of calling `frame.insert` many times, which has poor performance.  Consider joining all columns at once using pd.concat(axis=1) instead. To get a de-fragmented frame, use `newframe = frame.copy()`\n",
      "  portfolio_cumulative_returns[n] = (1 + sim_df.fillna(0)).cumprod()\n",
      "C:\\Users\\PC2\\Downloads\\challange_5\\UTOR-VIRT-FIN-PT-08-2023-U-LOLC-main-05-APIs-Unit 5 Homework\\05-APIs\\Unit 5 Homework\\Instructions\\Starter_Code\\MCForecastTools.py:117: PerformanceWarning: DataFrame is highly fragmented.  This is usually the result of calling `frame.insert` many times, which has poor performance.  Consider joining all columns at once using pd.concat(axis=1) instead. To get a de-fragmented frame, use `newframe = frame.copy()`\n",
      "  portfolio_cumulative_returns[n] = (1 + sim_df.fillna(0)).cumprod()\n",
      "C:\\Users\\PC2\\Downloads\\challange_5\\UTOR-VIRT-FIN-PT-08-2023-U-LOLC-main-05-APIs-Unit 5 Homework\\05-APIs\\Unit 5 Homework\\Instructions\\Starter_Code\\MCForecastTools.py:117: PerformanceWarning: DataFrame is highly fragmented.  This is usually the result of calling `frame.insert` many times, which has poor performance.  Consider joining all columns at once using pd.concat(axis=1) instead. To get a de-fragmented frame, use `newframe = frame.copy()`\n",
      "  portfolio_cumulative_returns[n] = (1 + sim_df.fillna(0)).cumprod()\n",
      "C:\\Users\\PC2\\Downloads\\challange_5\\UTOR-VIRT-FIN-PT-08-2023-U-LOLC-main-05-APIs-Unit 5 Homework\\05-APIs\\Unit 5 Homework\\Instructions\\Starter_Code\\MCForecastTools.py:117: PerformanceWarning: DataFrame is highly fragmented.  This is usually the result of calling `frame.insert` many times, which has poor performance.  Consider joining all columns at once using pd.concat(axis=1) instead. To get a de-fragmented frame, use `newframe = frame.copy()`\n",
      "  portfolio_cumulative_returns[n] = (1 + sim_df.fillna(0)).cumprod()\n",
      "C:\\Users\\PC2\\Downloads\\challange_5\\UTOR-VIRT-FIN-PT-08-2023-U-LOLC-main-05-APIs-Unit 5 Homework\\05-APIs\\Unit 5 Homework\\Instructions\\Starter_Code\\MCForecastTools.py:117: PerformanceWarning: DataFrame is highly fragmented.  This is usually the result of calling `frame.insert` many times, which has poor performance.  Consider joining all columns at once using pd.concat(axis=1) instead. To get a de-fragmented frame, use `newframe = frame.copy()`\n",
      "  portfolio_cumulative_returns[n] = (1 + sim_df.fillna(0)).cumprod()\n",
      "C:\\Users\\PC2\\Downloads\\challange_5\\UTOR-VIRT-FIN-PT-08-2023-U-LOLC-main-05-APIs-Unit 5 Homework\\05-APIs\\Unit 5 Homework\\Instructions\\Starter_Code\\MCForecastTools.py:117: PerformanceWarning: DataFrame is highly fragmented.  This is usually the result of calling `frame.insert` many times, which has poor performance.  Consider joining all columns at once using pd.concat(axis=1) instead. To get a de-fragmented frame, use `newframe = frame.copy()`\n",
      "  portfolio_cumulative_returns[n] = (1 + sim_df.fillna(0)).cumprod()\n"
     ]
    },
    {
     "name": "stdout",
     "output_type": "stream",
     "text": [
      "Running Monte Carlo simulation number 220.\n"
     ]
    },
    {
     "name": "stderr",
     "output_type": "stream",
     "text": [
      "C:\\Users\\PC2\\Downloads\\challange_5\\UTOR-VIRT-FIN-PT-08-2023-U-LOLC-main-05-APIs-Unit 5 Homework\\05-APIs\\Unit 5 Homework\\Instructions\\Starter_Code\\MCForecastTools.py:117: PerformanceWarning: DataFrame is highly fragmented.  This is usually the result of calling `frame.insert` many times, which has poor performance.  Consider joining all columns at once using pd.concat(axis=1) instead. To get a de-fragmented frame, use `newframe = frame.copy()`\n",
      "  portfolio_cumulative_returns[n] = (1 + sim_df.fillna(0)).cumprod()\n",
      "C:\\Users\\PC2\\Downloads\\challange_5\\UTOR-VIRT-FIN-PT-08-2023-U-LOLC-main-05-APIs-Unit 5 Homework\\05-APIs\\Unit 5 Homework\\Instructions\\Starter_Code\\MCForecastTools.py:117: PerformanceWarning: DataFrame is highly fragmented.  This is usually the result of calling `frame.insert` many times, which has poor performance.  Consider joining all columns at once using pd.concat(axis=1) instead. To get a de-fragmented frame, use `newframe = frame.copy()`\n",
      "  portfolio_cumulative_returns[n] = (1 + sim_df.fillna(0)).cumprod()\n",
      "C:\\Users\\PC2\\Downloads\\challange_5\\UTOR-VIRT-FIN-PT-08-2023-U-LOLC-main-05-APIs-Unit 5 Homework\\05-APIs\\Unit 5 Homework\\Instructions\\Starter_Code\\MCForecastTools.py:117: PerformanceWarning: DataFrame is highly fragmented.  This is usually the result of calling `frame.insert` many times, which has poor performance.  Consider joining all columns at once using pd.concat(axis=1) instead. To get a de-fragmented frame, use `newframe = frame.copy()`\n",
      "  portfolio_cumulative_returns[n] = (1 + sim_df.fillna(0)).cumprod()\n",
      "C:\\Users\\PC2\\Downloads\\challange_5\\UTOR-VIRT-FIN-PT-08-2023-U-LOLC-main-05-APIs-Unit 5 Homework\\05-APIs\\Unit 5 Homework\\Instructions\\Starter_Code\\MCForecastTools.py:117: PerformanceWarning: DataFrame is highly fragmented.  This is usually the result of calling `frame.insert` many times, which has poor performance.  Consider joining all columns at once using pd.concat(axis=1) instead. To get a de-fragmented frame, use `newframe = frame.copy()`\n",
      "  portfolio_cumulative_returns[n] = (1 + sim_df.fillna(0)).cumprod()\n",
      "C:\\Users\\PC2\\Downloads\\challange_5\\UTOR-VIRT-FIN-PT-08-2023-U-LOLC-main-05-APIs-Unit 5 Homework\\05-APIs\\Unit 5 Homework\\Instructions\\Starter_Code\\MCForecastTools.py:117: PerformanceWarning: DataFrame is highly fragmented.  This is usually the result of calling `frame.insert` many times, which has poor performance.  Consider joining all columns at once using pd.concat(axis=1) instead. To get a de-fragmented frame, use `newframe = frame.copy()`\n",
      "  portfolio_cumulative_returns[n] = (1 + sim_df.fillna(0)).cumprod()\n",
      "C:\\Users\\PC2\\Downloads\\challange_5\\UTOR-VIRT-FIN-PT-08-2023-U-LOLC-main-05-APIs-Unit 5 Homework\\05-APIs\\Unit 5 Homework\\Instructions\\Starter_Code\\MCForecastTools.py:117: PerformanceWarning: DataFrame is highly fragmented.  This is usually the result of calling `frame.insert` many times, which has poor performance.  Consider joining all columns at once using pd.concat(axis=1) instead. To get a de-fragmented frame, use `newframe = frame.copy()`\n",
      "  portfolio_cumulative_returns[n] = (1 + sim_df.fillna(0)).cumprod()\n",
      "C:\\Users\\PC2\\Downloads\\challange_5\\UTOR-VIRT-FIN-PT-08-2023-U-LOLC-main-05-APIs-Unit 5 Homework\\05-APIs\\Unit 5 Homework\\Instructions\\Starter_Code\\MCForecastTools.py:117: PerformanceWarning: DataFrame is highly fragmented.  This is usually the result of calling `frame.insert` many times, which has poor performance.  Consider joining all columns at once using pd.concat(axis=1) instead. To get a de-fragmented frame, use `newframe = frame.copy()`\n",
      "  portfolio_cumulative_returns[n] = (1 + sim_df.fillna(0)).cumprod()\n",
      "C:\\Users\\PC2\\Downloads\\challange_5\\UTOR-VIRT-FIN-PT-08-2023-U-LOLC-main-05-APIs-Unit 5 Homework\\05-APIs\\Unit 5 Homework\\Instructions\\Starter_Code\\MCForecastTools.py:117: PerformanceWarning: DataFrame is highly fragmented.  This is usually the result of calling `frame.insert` many times, which has poor performance.  Consider joining all columns at once using pd.concat(axis=1) instead. To get a de-fragmented frame, use `newframe = frame.copy()`\n",
      "  portfolio_cumulative_returns[n] = (1 + sim_df.fillna(0)).cumprod()\n",
      "C:\\Users\\PC2\\Downloads\\challange_5\\UTOR-VIRT-FIN-PT-08-2023-U-LOLC-main-05-APIs-Unit 5 Homework\\05-APIs\\Unit 5 Homework\\Instructions\\Starter_Code\\MCForecastTools.py:117: PerformanceWarning: DataFrame is highly fragmented.  This is usually the result of calling `frame.insert` many times, which has poor performance.  Consider joining all columns at once using pd.concat(axis=1) instead. To get a de-fragmented frame, use `newframe = frame.copy()`\n",
      "  portfolio_cumulative_returns[n] = (1 + sim_df.fillna(0)).cumprod()\n",
      "C:\\Users\\PC2\\Downloads\\challange_5\\UTOR-VIRT-FIN-PT-08-2023-U-LOLC-main-05-APIs-Unit 5 Homework\\05-APIs\\Unit 5 Homework\\Instructions\\Starter_Code\\MCForecastTools.py:117: PerformanceWarning: DataFrame is highly fragmented.  This is usually the result of calling `frame.insert` many times, which has poor performance.  Consider joining all columns at once using pd.concat(axis=1) instead. To get a de-fragmented frame, use `newframe = frame.copy()`\n",
      "  portfolio_cumulative_returns[n] = (1 + sim_df.fillna(0)).cumprod()\n"
     ]
    },
    {
     "name": "stdout",
     "output_type": "stream",
     "text": [
      "Running Monte Carlo simulation number 230.\n"
     ]
    },
    {
     "name": "stderr",
     "output_type": "stream",
     "text": [
      "C:\\Users\\PC2\\Downloads\\challange_5\\UTOR-VIRT-FIN-PT-08-2023-U-LOLC-main-05-APIs-Unit 5 Homework\\05-APIs\\Unit 5 Homework\\Instructions\\Starter_Code\\MCForecastTools.py:117: PerformanceWarning: DataFrame is highly fragmented.  This is usually the result of calling `frame.insert` many times, which has poor performance.  Consider joining all columns at once using pd.concat(axis=1) instead. To get a de-fragmented frame, use `newframe = frame.copy()`\n",
      "  portfolio_cumulative_returns[n] = (1 + sim_df.fillna(0)).cumprod()\n",
      "C:\\Users\\PC2\\Downloads\\challange_5\\UTOR-VIRT-FIN-PT-08-2023-U-LOLC-main-05-APIs-Unit 5 Homework\\05-APIs\\Unit 5 Homework\\Instructions\\Starter_Code\\MCForecastTools.py:117: PerformanceWarning: DataFrame is highly fragmented.  This is usually the result of calling `frame.insert` many times, which has poor performance.  Consider joining all columns at once using pd.concat(axis=1) instead. To get a de-fragmented frame, use `newframe = frame.copy()`\n",
      "  portfolio_cumulative_returns[n] = (1 + sim_df.fillna(0)).cumprod()\n",
      "C:\\Users\\PC2\\Downloads\\challange_5\\UTOR-VIRT-FIN-PT-08-2023-U-LOLC-main-05-APIs-Unit 5 Homework\\05-APIs\\Unit 5 Homework\\Instructions\\Starter_Code\\MCForecastTools.py:117: PerformanceWarning: DataFrame is highly fragmented.  This is usually the result of calling `frame.insert` many times, which has poor performance.  Consider joining all columns at once using pd.concat(axis=1) instead. To get a de-fragmented frame, use `newframe = frame.copy()`\n",
      "  portfolio_cumulative_returns[n] = (1 + sim_df.fillna(0)).cumprod()\n",
      "C:\\Users\\PC2\\Downloads\\challange_5\\UTOR-VIRT-FIN-PT-08-2023-U-LOLC-main-05-APIs-Unit 5 Homework\\05-APIs\\Unit 5 Homework\\Instructions\\Starter_Code\\MCForecastTools.py:117: PerformanceWarning: DataFrame is highly fragmented.  This is usually the result of calling `frame.insert` many times, which has poor performance.  Consider joining all columns at once using pd.concat(axis=1) instead. To get a de-fragmented frame, use `newframe = frame.copy()`\n",
      "  portfolio_cumulative_returns[n] = (1 + sim_df.fillna(0)).cumprod()\n",
      "C:\\Users\\PC2\\Downloads\\challange_5\\UTOR-VIRT-FIN-PT-08-2023-U-LOLC-main-05-APIs-Unit 5 Homework\\05-APIs\\Unit 5 Homework\\Instructions\\Starter_Code\\MCForecastTools.py:117: PerformanceWarning: DataFrame is highly fragmented.  This is usually the result of calling `frame.insert` many times, which has poor performance.  Consider joining all columns at once using pd.concat(axis=1) instead. To get a de-fragmented frame, use `newframe = frame.copy()`\n",
      "  portfolio_cumulative_returns[n] = (1 + sim_df.fillna(0)).cumprod()\n",
      "C:\\Users\\PC2\\Downloads\\challange_5\\UTOR-VIRT-FIN-PT-08-2023-U-LOLC-main-05-APIs-Unit 5 Homework\\05-APIs\\Unit 5 Homework\\Instructions\\Starter_Code\\MCForecastTools.py:117: PerformanceWarning: DataFrame is highly fragmented.  This is usually the result of calling `frame.insert` many times, which has poor performance.  Consider joining all columns at once using pd.concat(axis=1) instead. To get a de-fragmented frame, use `newframe = frame.copy()`\n",
      "  portfolio_cumulative_returns[n] = (1 + sim_df.fillna(0)).cumprod()\n",
      "C:\\Users\\PC2\\Downloads\\challange_5\\UTOR-VIRT-FIN-PT-08-2023-U-LOLC-main-05-APIs-Unit 5 Homework\\05-APIs\\Unit 5 Homework\\Instructions\\Starter_Code\\MCForecastTools.py:117: PerformanceWarning: DataFrame is highly fragmented.  This is usually the result of calling `frame.insert` many times, which has poor performance.  Consider joining all columns at once using pd.concat(axis=1) instead. To get a de-fragmented frame, use `newframe = frame.copy()`\n",
      "  portfolio_cumulative_returns[n] = (1 + sim_df.fillna(0)).cumprod()\n",
      "C:\\Users\\PC2\\Downloads\\challange_5\\UTOR-VIRT-FIN-PT-08-2023-U-LOLC-main-05-APIs-Unit 5 Homework\\05-APIs\\Unit 5 Homework\\Instructions\\Starter_Code\\MCForecastTools.py:117: PerformanceWarning: DataFrame is highly fragmented.  This is usually the result of calling `frame.insert` many times, which has poor performance.  Consider joining all columns at once using pd.concat(axis=1) instead. To get a de-fragmented frame, use `newframe = frame.copy()`\n",
      "  portfolio_cumulative_returns[n] = (1 + sim_df.fillna(0)).cumprod()\n",
      "C:\\Users\\PC2\\Downloads\\challange_5\\UTOR-VIRT-FIN-PT-08-2023-U-LOLC-main-05-APIs-Unit 5 Homework\\05-APIs\\Unit 5 Homework\\Instructions\\Starter_Code\\MCForecastTools.py:117: PerformanceWarning: DataFrame is highly fragmented.  This is usually the result of calling `frame.insert` many times, which has poor performance.  Consider joining all columns at once using pd.concat(axis=1) instead. To get a de-fragmented frame, use `newframe = frame.copy()`\n",
      "  portfolio_cumulative_returns[n] = (1 + sim_df.fillna(0)).cumprod()\n",
      "C:\\Users\\PC2\\Downloads\\challange_5\\UTOR-VIRT-FIN-PT-08-2023-U-LOLC-main-05-APIs-Unit 5 Homework\\05-APIs\\Unit 5 Homework\\Instructions\\Starter_Code\\MCForecastTools.py:117: PerformanceWarning: DataFrame is highly fragmented.  This is usually the result of calling `frame.insert` many times, which has poor performance.  Consider joining all columns at once using pd.concat(axis=1) instead. To get a de-fragmented frame, use `newframe = frame.copy()`\n",
      "  portfolio_cumulative_returns[n] = (1 + sim_df.fillna(0)).cumprod()\n"
     ]
    },
    {
     "name": "stdout",
     "output_type": "stream",
     "text": [
      "Running Monte Carlo simulation number 240.\n"
     ]
    },
    {
     "name": "stderr",
     "output_type": "stream",
     "text": [
      "C:\\Users\\PC2\\Downloads\\challange_5\\UTOR-VIRT-FIN-PT-08-2023-U-LOLC-main-05-APIs-Unit 5 Homework\\05-APIs\\Unit 5 Homework\\Instructions\\Starter_Code\\MCForecastTools.py:117: PerformanceWarning: DataFrame is highly fragmented.  This is usually the result of calling `frame.insert` many times, which has poor performance.  Consider joining all columns at once using pd.concat(axis=1) instead. To get a de-fragmented frame, use `newframe = frame.copy()`\n",
      "  portfolio_cumulative_returns[n] = (1 + sim_df.fillna(0)).cumprod()\n",
      "C:\\Users\\PC2\\Downloads\\challange_5\\UTOR-VIRT-FIN-PT-08-2023-U-LOLC-main-05-APIs-Unit 5 Homework\\05-APIs\\Unit 5 Homework\\Instructions\\Starter_Code\\MCForecastTools.py:117: PerformanceWarning: DataFrame is highly fragmented.  This is usually the result of calling `frame.insert` many times, which has poor performance.  Consider joining all columns at once using pd.concat(axis=1) instead. To get a de-fragmented frame, use `newframe = frame.copy()`\n",
      "  portfolio_cumulative_returns[n] = (1 + sim_df.fillna(0)).cumprod()\n",
      "C:\\Users\\PC2\\Downloads\\challange_5\\UTOR-VIRT-FIN-PT-08-2023-U-LOLC-main-05-APIs-Unit 5 Homework\\05-APIs\\Unit 5 Homework\\Instructions\\Starter_Code\\MCForecastTools.py:117: PerformanceWarning: DataFrame is highly fragmented.  This is usually the result of calling `frame.insert` many times, which has poor performance.  Consider joining all columns at once using pd.concat(axis=1) instead. To get a de-fragmented frame, use `newframe = frame.copy()`\n",
      "  portfolio_cumulative_returns[n] = (1 + sim_df.fillna(0)).cumprod()\n",
      "C:\\Users\\PC2\\Downloads\\challange_5\\UTOR-VIRT-FIN-PT-08-2023-U-LOLC-main-05-APIs-Unit 5 Homework\\05-APIs\\Unit 5 Homework\\Instructions\\Starter_Code\\MCForecastTools.py:117: PerformanceWarning: DataFrame is highly fragmented.  This is usually the result of calling `frame.insert` many times, which has poor performance.  Consider joining all columns at once using pd.concat(axis=1) instead. To get a de-fragmented frame, use `newframe = frame.copy()`\n",
      "  portfolio_cumulative_returns[n] = (1 + sim_df.fillna(0)).cumprod()\n",
      "C:\\Users\\PC2\\Downloads\\challange_5\\UTOR-VIRT-FIN-PT-08-2023-U-LOLC-main-05-APIs-Unit 5 Homework\\05-APIs\\Unit 5 Homework\\Instructions\\Starter_Code\\MCForecastTools.py:117: PerformanceWarning: DataFrame is highly fragmented.  This is usually the result of calling `frame.insert` many times, which has poor performance.  Consider joining all columns at once using pd.concat(axis=1) instead. To get a de-fragmented frame, use `newframe = frame.copy()`\n",
      "  portfolio_cumulative_returns[n] = (1 + sim_df.fillna(0)).cumprod()\n",
      "C:\\Users\\PC2\\Downloads\\challange_5\\UTOR-VIRT-FIN-PT-08-2023-U-LOLC-main-05-APIs-Unit 5 Homework\\05-APIs\\Unit 5 Homework\\Instructions\\Starter_Code\\MCForecastTools.py:117: PerformanceWarning: DataFrame is highly fragmented.  This is usually the result of calling `frame.insert` many times, which has poor performance.  Consider joining all columns at once using pd.concat(axis=1) instead. To get a de-fragmented frame, use `newframe = frame.copy()`\n",
      "  portfolio_cumulative_returns[n] = (1 + sim_df.fillna(0)).cumprod()\n",
      "C:\\Users\\PC2\\Downloads\\challange_5\\UTOR-VIRT-FIN-PT-08-2023-U-LOLC-main-05-APIs-Unit 5 Homework\\05-APIs\\Unit 5 Homework\\Instructions\\Starter_Code\\MCForecastTools.py:117: PerformanceWarning: DataFrame is highly fragmented.  This is usually the result of calling `frame.insert` many times, which has poor performance.  Consider joining all columns at once using pd.concat(axis=1) instead. To get a de-fragmented frame, use `newframe = frame.copy()`\n",
      "  portfolio_cumulative_returns[n] = (1 + sim_df.fillna(0)).cumprod()\n",
      "C:\\Users\\PC2\\Downloads\\challange_5\\UTOR-VIRT-FIN-PT-08-2023-U-LOLC-main-05-APIs-Unit 5 Homework\\05-APIs\\Unit 5 Homework\\Instructions\\Starter_Code\\MCForecastTools.py:117: PerformanceWarning: DataFrame is highly fragmented.  This is usually the result of calling `frame.insert` many times, which has poor performance.  Consider joining all columns at once using pd.concat(axis=1) instead. To get a de-fragmented frame, use `newframe = frame.copy()`\n",
      "  portfolio_cumulative_returns[n] = (1 + sim_df.fillna(0)).cumprod()\n",
      "C:\\Users\\PC2\\Downloads\\challange_5\\UTOR-VIRT-FIN-PT-08-2023-U-LOLC-main-05-APIs-Unit 5 Homework\\05-APIs\\Unit 5 Homework\\Instructions\\Starter_Code\\MCForecastTools.py:117: PerformanceWarning: DataFrame is highly fragmented.  This is usually the result of calling `frame.insert` many times, which has poor performance.  Consider joining all columns at once using pd.concat(axis=1) instead. To get a de-fragmented frame, use `newframe = frame.copy()`\n",
      "  portfolio_cumulative_returns[n] = (1 + sim_df.fillna(0)).cumprod()\n",
      "C:\\Users\\PC2\\Downloads\\challange_5\\UTOR-VIRT-FIN-PT-08-2023-U-LOLC-main-05-APIs-Unit 5 Homework\\05-APIs\\Unit 5 Homework\\Instructions\\Starter_Code\\MCForecastTools.py:117: PerformanceWarning: DataFrame is highly fragmented.  This is usually the result of calling `frame.insert` many times, which has poor performance.  Consider joining all columns at once using pd.concat(axis=1) instead. To get a de-fragmented frame, use `newframe = frame.copy()`\n",
      "  portfolio_cumulative_returns[n] = (1 + sim_df.fillna(0)).cumprod()\n"
     ]
    },
    {
     "name": "stdout",
     "output_type": "stream",
     "text": [
      "Running Monte Carlo simulation number 250.\n"
     ]
    },
    {
     "name": "stderr",
     "output_type": "stream",
     "text": [
      "C:\\Users\\PC2\\Downloads\\challange_5\\UTOR-VIRT-FIN-PT-08-2023-U-LOLC-main-05-APIs-Unit 5 Homework\\05-APIs\\Unit 5 Homework\\Instructions\\Starter_Code\\MCForecastTools.py:117: PerformanceWarning: DataFrame is highly fragmented.  This is usually the result of calling `frame.insert` many times, which has poor performance.  Consider joining all columns at once using pd.concat(axis=1) instead. To get a de-fragmented frame, use `newframe = frame.copy()`\n",
      "  portfolio_cumulative_returns[n] = (1 + sim_df.fillna(0)).cumprod()\n",
      "C:\\Users\\PC2\\Downloads\\challange_5\\UTOR-VIRT-FIN-PT-08-2023-U-LOLC-main-05-APIs-Unit 5 Homework\\05-APIs\\Unit 5 Homework\\Instructions\\Starter_Code\\MCForecastTools.py:117: PerformanceWarning: DataFrame is highly fragmented.  This is usually the result of calling `frame.insert` many times, which has poor performance.  Consider joining all columns at once using pd.concat(axis=1) instead. To get a de-fragmented frame, use `newframe = frame.copy()`\n",
      "  portfolio_cumulative_returns[n] = (1 + sim_df.fillna(0)).cumprod()\n",
      "C:\\Users\\PC2\\Downloads\\challange_5\\UTOR-VIRT-FIN-PT-08-2023-U-LOLC-main-05-APIs-Unit 5 Homework\\05-APIs\\Unit 5 Homework\\Instructions\\Starter_Code\\MCForecastTools.py:117: PerformanceWarning: DataFrame is highly fragmented.  This is usually the result of calling `frame.insert` many times, which has poor performance.  Consider joining all columns at once using pd.concat(axis=1) instead. To get a de-fragmented frame, use `newframe = frame.copy()`\n",
      "  portfolio_cumulative_returns[n] = (1 + sim_df.fillna(0)).cumprod()\n",
      "C:\\Users\\PC2\\Downloads\\challange_5\\UTOR-VIRT-FIN-PT-08-2023-U-LOLC-main-05-APIs-Unit 5 Homework\\05-APIs\\Unit 5 Homework\\Instructions\\Starter_Code\\MCForecastTools.py:117: PerformanceWarning: DataFrame is highly fragmented.  This is usually the result of calling `frame.insert` many times, which has poor performance.  Consider joining all columns at once using pd.concat(axis=1) instead. To get a de-fragmented frame, use `newframe = frame.copy()`\n",
      "  portfolio_cumulative_returns[n] = (1 + sim_df.fillna(0)).cumprod()\n",
      "C:\\Users\\PC2\\Downloads\\challange_5\\UTOR-VIRT-FIN-PT-08-2023-U-LOLC-main-05-APIs-Unit 5 Homework\\05-APIs\\Unit 5 Homework\\Instructions\\Starter_Code\\MCForecastTools.py:117: PerformanceWarning: DataFrame is highly fragmented.  This is usually the result of calling `frame.insert` many times, which has poor performance.  Consider joining all columns at once using pd.concat(axis=1) instead. To get a de-fragmented frame, use `newframe = frame.copy()`\n",
      "  portfolio_cumulative_returns[n] = (1 + sim_df.fillna(0)).cumprod()\n",
      "C:\\Users\\PC2\\Downloads\\challange_5\\UTOR-VIRT-FIN-PT-08-2023-U-LOLC-main-05-APIs-Unit 5 Homework\\05-APIs\\Unit 5 Homework\\Instructions\\Starter_Code\\MCForecastTools.py:117: PerformanceWarning: DataFrame is highly fragmented.  This is usually the result of calling `frame.insert` many times, which has poor performance.  Consider joining all columns at once using pd.concat(axis=1) instead. To get a de-fragmented frame, use `newframe = frame.copy()`\n",
      "  portfolio_cumulative_returns[n] = (1 + sim_df.fillna(0)).cumprod()\n",
      "C:\\Users\\PC2\\Downloads\\challange_5\\UTOR-VIRT-FIN-PT-08-2023-U-LOLC-main-05-APIs-Unit 5 Homework\\05-APIs\\Unit 5 Homework\\Instructions\\Starter_Code\\MCForecastTools.py:117: PerformanceWarning: DataFrame is highly fragmented.  This is usually the result of calling `frame.insert` many times, which has poor performance.  Consider joining all columns at once using pd.concat(axis=1) instead. To get a de-fragmented frame, use `newframe = frame.copy()`\n",
      "  portfolio_cumulative_returns[n] = (1 + sim_df.fillna(0)).cumprod()\n",
      "C:\\Users\\PC2\\Downloads\\challange_5\\UTOR-VIRT-FIN-PT-08-2023-U-LOLC-main-05-APIs-Unit 5 Homework\\05-APIs\\Unit 5 Homework\\Instructions\\Starter_Code\\MCForecastTools.py:117: PerformanceWarning: DataFrame is highly fragmented.  This is usually the result of calling `frame.insert` many times, which has poor performance.  Consider joining all columns at once using pd.concat(axis=1) instead. To get a de-fragmented frame, use `newframe = frame.copy()`\n",
      "  portfolio_cumulative_returns[n] = (1 + sim_df.fillna(0)).cumprod()\n",
      "C:\\Users\\PC2\\Downloads\\challange_5\\UTOR-VIRT-FIN-PT-08-2023-U-LOLC-main-05-APIs-Unit 5 Homework\\05-APIs\\Unit 5 Homework\\Instructions\\Starter_Code\\MCForecastTools.py:117: PerformanceWarning: DataFrame is highly fragmented.  This is usually the result of calling `frame.insert` many times, which has poor performance.  Consider joining all columns at once using pd.concat(axis=1) instead. To get a de-fragmented frame, use `newframe = frame.copy()`\n",
      "  portfolio_cumulative_returns[n] = (1 + sim_df.fillna(0)).cumprod()\n",
      "C:\\Users\\PC2\\Downloads\\challange_5\\UTOR-VIRT-FIN-PT-08-2023-U-LOLC-main-05-APIs-Unit 5 Homework\\05-APIs\\Unit 5 Homework\\Instructions\\Starter_Code\\MCForecastTools.py:117: PerformanceWarning: DataFrame is highly fragmented.  This is usually the result of calling `frame.insert` many times, which has poor performance.  Consider joining all columns at once using pd.concat(axis=1) instead. To get a de-fragmented frame, use `newframe = frame.copy()`\n",
      "  portfolio_cumulative_returns[n] = (1 + sim_df.fillna(0)).cumprod()\n"
     ]
    },
    {
     "name": "stdout",
     "output_type": "stream",
     "text": [
      "Running Monte Carlo simulation number 260.\n"
     ]
    },
    {
     "name": "stderr",
     "output_type": "stream",
     "text": [
      "C:\\Users\\PC2\\Downloads\\challange_5\\UTOR-VIRT-FIN-PT-08-2023-U-LOLC-main-05-APIs-Unit 5 Homework\\05-APIs\\Unit 5 Homework\\Instructions\\Starter_Code\\MCForecastTools.py:117: PerformanceWarning: DataFrame is highly fragmented.  This is usually the result of calling `frame.insert` many times, which has poor performance.  Consider joining all columns at once using pd.concat(axis=1) instead. To get a de-fragmented frame, use `newframe = frame.copy()`\n",
      "  portfolio_cumulative_returns[n] = (1 + sim_df.fillna(0)).cumprod()\n",
      "C:\\Users\\PC2\\Downloads\\challange_5\\UTOR-VIRT-FIN-PT-08-2023-U-LOLC-main-05-APIs-Unit 5 Homework\\05-APIs\\Unit 5 Homework\\Instructions\\Starter_Code\\MCForecastTools.py:117: PerformanceWarning: DataFrame is highly fragmented.  This is usually the result of calling `frame.insert` many times, which has poor performance.  Consider joining all columns at once using pd.concat(axis=1) instead. To get a de-fragmented frame, use `newframe = frame.copy()`\n",
      "  portfolio_cumulative_returns[n] = (1 + sim_df.fillna(0)).cumprod()\n",
      "C:\\Users\\PC2\\Downloads\\challange_5\\UTOR-VIRT-FIN-PT-08-2023-U-LOLC-main-05-APIs-Unit 5 Homework\\05-APIs\\Unit 5 Homework\\Instructions\\Starter_Code\\MCForecastTools.py:117: PerformanceWarning: DataFrame is highly fragmented.  This is usually the result of calling `frame.insert` many times, which has poor performance.  Consider joining all columns at once using pd.concat(axis=1) instead. To get a de-fragmented frame, use `newframe = frame.copy()`\n",
      "  portfolio_cumulative_returns[n] = (1 + sim_df.fillna(0)).cumprod()\n",
      "C:\\Users\\PC2\\Downloads\\challange_5\\UTOR-VIRT-FIN-PT-08-2023-U-LOLC-main-05-APIs-Unit 5 Homework\\05-APIs\\Unit 5 Homework\\Instructions\\Starter_Code\\MCForecastTools.py:117: PerformanceWarning: DataFrame is highly fragmented.  This is usually the result of calling `frame.insert` many times, which has poor performance.  Consider joining all columns at once using pd.concat(axis=1) instead. To get a de-fragmented frame, use `newframe = frame.copy()`\n",
      "  portfolio_cumulative_returns[n] = (1 + sim_df.fillna(0)).cumprod()\n",
      "C:\\Users\\PC2\\Downloads\\challange_5\\UTOR-VIRT-FIN-PT-08-2023-U-LOLC-main-05-APIs-Unit 5 Homework\\05-APIs\\Unit 5 Homework\\Instructions\\Starter_Code\\MCForecastTools.py:117: PerformanceWarning: DataFrame is highly fragmented.  This is usually the result of calling `frame.insert` many times, which has poor performance.  Consider joining all columns at once using pd.concat(axis=1) instead. To get a de-fragmented frame, use `newframe = frame.copy()`\n",
      "  portfolio_cumulative_returns[n] = (1 + sim_df.fillna(0)).cumprod()\n",
      "C:\\Users\\PC2\\Downloads\\challange_5\\UTOR-VIRT-FIN-PT-08-2023-U-LOLC-main-05-APIs-Unit 5 Homework\\05-APIs\\Unit 5 Homework\\Instructions\\Starter_Code\\MCForecastTools.py:117: PerformanceWarning: DataFrame is highly fragmented.  This is usually the result of calling `frame.insert` many times, which has poor performance.  Consider joining all columns at once using pd.concat(axis=1) instead. To get a de-fragmented frame, use `newframe = frame.copy()`\n",
      "  portfolio_cumulative_returns[n] = (1 + sim_df.fillna(0)).cumprod()\n",
      "C:\\Users\\PC2\\Downloads\\challange_5\\UTOR-VIRT-FIN-PT-08-2023-U-LOLC-main-05-APIs-Unit 5 Homework\\05-APIs\\Unit 5 Homework\\Instructions\\Starter_Code\\MCForecastTools.py:117: PerformanceWarning: DataFrame is highly fragmented.  This is usually the result of calling `frame.insert` many times, which has poor performance.  Consider joining all columns at once using pd.concat(axis=1) instead. To get a de-fragmented frame, use `newframe = frame.copy()`\n",
      "  portfolio_cumulative_returns[n] = (1 + sim_df.fillna(0)).cumprod()\n",
      "C:\\Users\\PC2\\Downloads\\challange_5\\UTOR-VIRT-FIN-PT-08-2023-U-LOLC-main-05-APIs-Unit 5 Homework\\05-APIs\\Unit 5 Homework\\Instructions\\Starter_Code\\MCForecastTools.py:117: PerformanceWarning: DataFrame is highly fragmented.  This is usually the result of calling `frame.insert` many times, which has poor performance.  Consider joining all columns at once using pd.concat(axis=1) instead. To get a de-fragmented frame, use `newframe = frame.copy()`\n",
      "  portfolio_cumulative_returns[n] = (1 + sim_df.fillna(0)).cumprod()\n",
      "C:\\Users\\PC2\\Downloads\\challange_5\\UTOR-VIRT-FIN-PT-08-2023-U-LOLC-main-05-APIs-Unit 5 Homework\\05-APIs\\Unit 5 Homework\\Instructions\\Starter_Code\\MCForecastTools.py:117: PerformanceWarning: DataFrame is highly fragmented.  This is usually the result of calling `frame.insert` many times, which has poor performance.  Consider joining all columns at once using pd.concat(axis=1) instead. To get a de-fragmented frame, use `newframe = frame.copy()`\n",
      "  portfolio_cumulative_returns[n] = (1 + sim_df.fillna(0)).cumprod()\n",
      "C:\\Users\\PC2\\Downloads\\challange_5\\UTOR-VIRT-FIN-PT-08-2023-U-LOLC-main-05-APIs-Unit 5 Homework\\05-APIs\\Unit 5 Homework\\Instructions\\Starter_Code\\MCForecastTools.py:117: PerformanceWarning: DataFrame is highly fragmented.  This is usually the result of calling `frame.insert` many times, which has poor performance.  Consider joining all columns at once using pd.concat(axis=1) instead. To get a de-fragmented frame, use `newframe = frame.copy()`\n",
      "  portfolio_cumulative_returns[n] = (1 + sim_df.fillna(0)).cumprod()\n"
     ]
    },
    {
     "name": "stdout",
     "output_type": "stream",
     "text": [
      "Running Monte Carlo simulation number 270.\n"
     ]
    },
    {
     "name": "stderr",
     "output_type": "stream",
     "text": [
      "C:\\Users\\PC2\\Downloads\\challange_5\\UTOR-VIRT-FIN-PT-08-2023-U-LOLC-main-05-APIs-Unit 5 Homework\\05-APIs\\Unit 5 Homework\\Instructions\\Starter_Code\\MCForecastTools.py:117: PerformanceWarning: DataFrame is highly fragmented.  This is usually the result of calling `frame.insert` many times, which has poor performance.  Consider joining all columns at once using pd.concat(axis=1) instead. To get a de-fragmented frame, use `newframe = frame.copy()`\n",
      "  portfolio_cumulative_returns[n] = (1 + sim_df.fillna(0)).cumprod()\n",
      "C:\\Users\\PC2\\Downloads\\challange_5\\UTOR-VIRT-FIN-PT-08-2023-U-LOLC-main-05-APIs-Unit 5 Homework\\05-APIs\\Unit 5 Homework\\Instructions\\Starter_Code\\MCForecastTools.py:117: PerformanceWarning: DataFrame is highly fragmented.  This is usually the result of calling `frame.insert` many times, which has poor performance.  Consider joining all columns at once using pd.concat(axis=1) instead. To get a de-fragmented frame, use `newframe = frame.copy()`\n",
      "  portfolio_cumulative_returns[n] = (1 + sim_df.fillna(0)).cumprod()\n",
      "C:\\Users\\PC2\\Downloads\\challange_5\\UTOR-VIRT-FIN-PT-08-2023-U-LOLC-main-05-APIs-Unit 5 Homework\\05-APIs\\Unit 5 Homework\\Instructions\\Starter_Code\\MCForecastTools.py:117: PerformanceWarning: DataFrame is highly fragmented.  This is usually the result of calling `frame.insert` many times, which has poor performance.  Consider joining all columns at once using pd.concat(axis=1) instead. To get a de-fragmented frame, use `newframe = frame.copy()`\n",
      "  portfolio_cumulative_returns[n] = (1 + sim_df.fillna(0)).cumprod()\n",
      "C:\\Users\\PC2\\Downloads\\challange_5\\UTOR-VIRT-FIN-PT-08-2023-U-LOLC-main-05-APIs-Unit 5 Homework\\05-APIs\\Unit 5 Homework\\Instructions\\Starter_Code\\MCForecastTools.py:117: PerformanceWarning: DataFrame is highly fragmented.  This is usually the result of calling `frame.insert` many times, which has poor performance.  Consider joining all columns at once using pd.concat(axis=1) instead. To get a de-fragmented frame, use `newframe = frame.copy()`\n",
      "  portfolio_cumulative_returns[n] = (1 + sim_df.fillna(0)).cumprod()\n",
      "C:\\Users\\PC2\\Downloads\\challange_5\\UTOR-VIRT-FIN-PT-08-2023-U-LOLC-main-05-APIs-Unit 5 Homework\\05-APIs\\Unit 5 Homework\\Instructions\\Starter_Code\\MCForecastTools.py:117: PerformanceWarning: DataFrame is highly fragmented.  This is usually the result of calling `frame.insert` many times, which has poor performance.  Consider joining all columns at once using pd.concat(axis=1) instead. To get a de-fragmented frame, use `newframe = frame.copy()`\n",
      "  portfolio_cumulative_returns[n] = (1 + sim_df.fillna(0)).cumprod()\n",
      "C:\\Users\\PC2\\Downloads\\challange_5\\UTOR-VIRT-FIN-PT-08-2023-U-LOLC-main-05-APIs-Unit 5 Homework\\05-APIs\\Unit 5 Homework\\Instructions\\Starter_Code\\MCForecastTools.py:117: PerformanceWarning: DataFrame is highly fragmented.  This is usually the result of calling `frame.insert` many times, which has poor performance.  Consider joining all columns at once using pd.concat(axis=1) instead. To get a de-fragmented frame, use `newframe = frame.copy()`\n",
      "  portfolio_cumulative_returns[n] = (1 + sim_df.fillna(0)).cumprod()\n",
      "C:\\Users\\PC2\\Downloads\\challange_5\\UTOR-VIRT-FIN-PT-08-2023-U-LOLC-main-05-APIs-Unit 5 Homework\\05-APIs\\Unit 5 Homework\\Instructions\\Starter_Code\\MCForecastTools.py:117: PerformanceWarning: DataFrame is highly fragmented.  This is usually the result of calling `frame.insert` many times, which has poor performance.  Consider joining all columns at once using pd.concat(axis=1) instead. To get a de-fragmented frame, use `newframe = frame.copy()`\n",
      "  portfolio_cumulative_returns[n] = (1 + sim_df.fillna(0)).cumprod()\n",
      "C:\\Users\\PC2\\Downloads\\challange_5\\UTOR-VIRT-FIN-PT-08-2023-U-LOLC-main-05-APIs-Unit 5 Homework\\05-APIs\\Unit 5 Homework\\Instructions\\Starter_Code\\MCForecastTools.py:117: PerformanceWarning: DataFrame is highly fragmented.  This is usually the result of calling `frame.insert` many times, which has poor performance.  Consider joining all columns at once using pd.concat(axis=1) instead. To get a de-fragmented frame, use `newframe = frame.copy()`\n",
      "  portfolio_cumulative_returns[n] = (1 + sim_df.fillna(0)).cumprod()\n",
      "C:\\Users\\PC2\\Downloads\\challange_5\\UTOR-VIRT-FIN-PT-08-2023-U-LOLC-main-05-APIs-Unit 5 Homework\\05-APIs\\Unit 5 Homework\\Instructions\\Starter_Code\\MCForecastTools.py:117: PerformanceWarning: DataFrame is highly fragmented.  This is usually the result of calling `frame.insert` many times, which has poor performance.  Consider joining all columns at once using pd.concat(axis=1) instead. To get a de-fragmented frame, use `newframe = frame.copy()`\n",
      "  portfolio_cumulative_returns[n] = (1 + sim_df.fillna(0)).cumprod()\n",
      "C:\\Users\\PC2\\Downloads\\challange_5\\UTOR-VIRT-FIN-PT-08-2023-U-LOLC-main-05-APIs-Unit 5 Homework\\05-APIs\\Unit 5 Homework\\Instructions\\Starter_Code\\MCForecastTools.py:117: PerformanceWarning: DataFrame is highly fragmented.  This is usually the result of calling `frame.insert` many times, which has poor performance.  Consider joining all columns at once using pd.concat(axis=1) instead. To get a de-fragmented frame, use `newframe = frame.copy()`\n",
      "  portfolio_cumulative_returns[n] = (1 + sim_df.fillna(0)).cumprod()\n"
     ]
    },
    {
     "name": "stdout",
     "output_type": "stream",
     "text": [
      "Running Monte Carlo simulation number 280.\n"
     ]
    },
    {
     "name": "stderr",
     "output_type": "stream",
     "text": [
      "C:\\Users\\PC2\\Downloads\\challange_5\\UTOR-VIRT-FIN-PT-08-2023-U-LOLC-main-05-APIs-Unit 5 Homework\\05-APIs\\Unit 5 Homework\\Instructions\\Starter_Code\\MCForecastTools.py:117: PerformanceWarning: DataFrame is highly fragmented.  This is usually the result of calling `frame.insert` many times, which has poor performance.  Consider joining all columns at once using pd.concat(axis=1) instead. To get a de-fragmented frame, use `newframe = frame.copy()`\n",
      "  portfolio_cumulative_returns[n] = (1 + sim_df.fillna(0)).cumprod()\n",
      "C:\\Users\\PC2\\Downloads\\challange_5\\UTOR-VIRT-FIN-PT-08-2023-U-LOLC-main-05-APIs-Unit 5 Homework\\05-APIs\\Unit 5 Homework\\Instructions\\Starter_Code\\MCForecastTools.py:117: PerformanceWarning: DataFrame is highly fragmented.  This is usually the result of calling `frame.insert` many times, which has poor performance.  Consider joining all columns at once using pd.concat(axis=1) instead. To get a de-fragmented frame, use `newframe = frame.copy()`\n",
      "  portfolio_cumulative_returns[n] = (1 + sim_df.fillna(0)).cumprod()\n",
      "C:\\Users\\PC2\\Downloads\\challange_5\\UTOR-VIRT-FIN-PT-08-2023-U-LOLC-main-05-APIs-Unit 5 Homework\\05-APIs\\Unit 5 Homework\\Instructions\\Starter_Code\\MCForecastTools.py:117: PerformanceWarning: DataFrame is highly fragmented.  This is usually the result of calling `frame.insert` many times, which has poor performance.  Consider joining all columns at once using pd.concat(axis=1) instead. To get a de-fragmented frame, use `newframe = frame.copy()`\n",
      "  portfolio_cumulative_returns[n] = (1 + sim_df.fillna(0)).cumprod()\n",
      "C:\\Users\\PC2\\Downloads\\challange_5\\UTOR-VIRT-FIN-PT-08-2023-U-LOLC-main-05-APIs-Unit 5 Homework\\05-APIs\\Unit 5 Homework\\Instructions\\Starter_Code\\MCForecastTools.py:117: PerformanceWarning: DataFrame is highly fragmented.  This is usually the result of calling `frame.insert` many times, which has poor performance.  Consider joining all columns at once using pd.concat(axis=1) instead. To get a de-fragmented frame, use `newframe = frame.copy()`\n",
      "  portfolio_cumulative_returns[n] = (1 + sim_df.fillna(0)).cumprod()\n",
      "C:\\Users\\PC2\\Downloads\\challange_5\\UTOR-VIRT-FIN-PT-08-2023-U-LOLC-main-05-APIs-Unit 5 Homework\\05-APIs\\Unit 5 Homework\\Instructions\\Starter_Code\\MCForecastTools.py:117: PerformanceWarning: DataFrame is highly fragmented.  This is usually the result of calling `frame.insert` many times, which has poor performance.  Consider joining all columns at once using pd.concat(axis=1) instead. To get a de-fragmented frame, use `newframe = frame.copy()`\n",
      "  portfolio_cumulative_returns[n] = (1 + sim_df.fillna(0)).cumprod()\n",
      "C:\\Users\\PC2\\Downloads\\challange_5\\UTOR-VIRT-FIN-PT-08-2023-U-LOLC-main-05-APIs-Unit 5 Homework\\05-APIs\\Unit 5 Homework\\Instructions\\Starter_Code\\MCForecastTools.py:117: PerformanceWarning: DataFrame is highly fragmented.  This is usually the result of calling `frame.insert` many times, which has poor performance.  Consider joining all columns at once using pd.concat(axis=1) instead. To get a de-fragmented frame, use `newframe = frame.copy()`\n",
      "  portfolio_cumulative_returns[n] = (1 + sim_df.fillna(0)).cumprod()\n",
      "C:\\Users\\PC2\\Downloads\\challange_5\\UTOR-VIRT-FIN-PT-08-2023-U-LOLC-main-05-APIs-Unit 5 Homework\\05-APIs\\Unit 5 Homework\\Instructions\\Starter_Code\\MCForecastTools.py:117: PerformanceWarning: DataFrame is highly fragmented.  This is usually the result of calling `frame.insert` many times, which has poor performance.  Consider joining all columns at once using pd.concat(axis=1) instead. To get a de-fragmented frame, use `newframe = frame.copy()`\n",
      "  portfolio_cumulative_returns[n] = (1 + sim_df.fillna(0)).cumprod()\n",
      "C:\\Users\\PC2\\Downloads\\challange_5\\UTOR-VIRT-FIN-PT-08-2023-U-LOLC-main-05-APIs-Unit 5 Homework\\05-APIs\\Unit 5 Homework\\Instructions\\Starter_Code\\MCForecastTools.py:117: PerformanceWarning: DataFrame is highly fragmented.  This is usually the result of calling `frame.insert` many times, which has poor performance.  Consider joining all columns at once using pd.concat(axis=1) instead. To get a de-fragmented frame, use `newframe = frame.copy()`\n",
      "  portfolio_cumulative_returns[n] = (1 + sim_df.fillna(0)).cumprod()\n",
      "C:\\Users\\PC2\\Downloads\\challange_5\\UTOR-VIRT-FIN-PT-08-2023-U-LOLC-main-05-APIs-Unit 5 Homework\\05-APIs\\Unit 5 Homework\\Instructions\\Starter_Code\\MCForecastTools.py:117: PerformanceWarning: DataFrame is highly fragmented.  This is usually the result of calling `frame.insert` many times, which has poor performance.  Consider joining all columns at once using pd.concat(axis=1) instead. To get a de-fragmented frame, use `newframe = frame.copy()`\n",
      "  portfolio_cumulative_returns[n] = (1 + sim_df.fillna(0)).cumprod()\n",
      "C:\\Users\\PC2\\Downloads\\challange_5\\UTOR-VIRT-FIN-PT-08-2023-U-LOLC-main-05-APIs-Unit 5 Homework\\05-APIs\\Unit 5 Homework\\Instructions\\Starter_Code\\MCForecastTools.py:117: PerformanceWarning: DataFrame is highly fragmented.  This is usually the result of calling `frame.insert` many times, which has poor performance.  Consider joining all columns at once using pd.concat(axis=1) instead. To get a de-fragmented frame, use `newframe = frame.copy()`\n",
      "  portfolio_cumulative_returns[n] = (1 + sim_df.fillna(0)).cumprod()\n"
     ]
    },
    {
     "name": "stdout",
     "output_type": "stream",
     "text": [
      "Running Monte Carlo simulation number 290.\n"
     ]
    },
    {
     "name": "stderr",
     "output_type": "stream",
     "text": [
      "C:\\Users\\PC2\\Downloads\\challange_5\\UTOR-VIRT-FIN-PT-08-2023-U-LOLC-main-05-APIs-Unit 5 Homework\\05-APIs\\Unit 5 Homework\\Instructions\\Starter_Code\\MCForecastTools.py:117: PerformanceWarning: DataFrame is highly fragmented.  This is usually the result of calling `frame.insert` many times, which has poor performance.  Consider joining all columns at once using pd.concat(axis=1) instead. To get a de-fragmented frame, use `newframe = frame.copy()`\n",
      "  portfolio_cumulative_returns[n] = (1 + sim_df.fillna(0)).cumprod()\n",
      "C:\\Users\\PC2\\Downloads\\challange_5\\UTOR-VIRT-FIN-PT-08-2023-U-LOLC-main-05-APIs-Unit 5 Homework\\05-APIs\\Unit 5 Homework\\Instructions\\Starter_Code\\MCForecastTools.py:117: PerformanceWarning: DataFrame is highly fragmented.  This is usually the result of calling `frame.insert` many times, which has poor performance.  Consider joining all columns at once using pd.concat(axis=1) instead. To get a de-fragmented frame, use `newframe = frame.copy()`\n",
      "  portfolio_cumulative_returns[n] = (1 + sim_df.fillna(0)).cumprod()\n",
      "C:\\Users\\PC2\\Downloads\\challange_5\\UTOR-VIRT-FIN-PT-08-2023-U-LOLC-main-05-APIs-Unit 5 Homework\\05-APIs\\Unit 5 Homework\\Instructions\\Starter_Code\\MCForecastTools.py:117: PerformanceWarning: DataFrame is highly fragmented.  This is usually the result of calling `frame.insert` many times, which has poor performance.  Consider joining all columns at once using pd.concat(axis=1) instead. To get a de-fragmented frame, use `newframe = frame.copy()`\n",
      "  portfolio_cumulative_returns[n] = (1 + sim_df.fillna(0)).cumprod()\n",
      "C:\\Users\\PC2\\Downloads\\challange_5\\UTOR-VIRT-FIN-PT-08-2023-U-LOLC-main-05-APIs-Unit 5 Homework\\05-APIs\\Unit 5 Homework\\Instructions\\Starter_Code\\MCForecastTools.py:117: PerformanceWarning: DataFrame is highly fragmented.  This is usually the result of calling `frame.insert` many times, which has poor performance.  Consider joining all columns at once using pd.concat(axis=1) instead. To get a de-fragmented frame, use `newframe = frame.copy()`\n",
      "  portfolio_cumulative_returns[n] = (1 + sim_df.fillna(0)).cumprod()\n",
      "C:\\Users\\PC2\\Downloads\\challange_5\\UTOR-VIRT-FIN-PT-08-2023-U-LOLC-main-05-APIs-Unit 5 Homework\\05-APIs\\Unit 5 Homework\\Instructions\\Starter_Code\\MCForecastTools.py:117: PerformanceWarning: DataFrame is highly fragmented.  This is usually the result of calling `frame.insert` many times, which has poor performance.  Consider joining all columns at once using pd.concat(axis=1) instead. To get a de-fragmented frame, use `newframe = frame.copy()`\n",
      "  portfolio_cumulative_returns[n] = (1 + sim_df.fillna(0)).cumprod()\n",
      "C:\\Users\\PC2\\Downloads\\challange_5\\UTOR-VIRT-FIN-PT-08-2023-U-LOLC-main-05-APIs-Unit 5 Homework\\05-APIs\\Unit 5 Homework\\Instructions\\Starter_Code\\MCForecastTools.py:117: PerformanceWarning: DataFrame is highly fragmented.  This is usually the result of calling `frame.insert` many times, which has poor performance.  Consider joining all columns at once using pd.concat(axis=1) instead. To get a de-fragmented frame, use `newframe = frame.copy()`\n",
      "  portfolio_cumulative_returns[n] = (1 + sim_df.fillna(0)).cumprod()\n",
      "C:\\Users\\PC2\\Downloads\\challange_5\\UTOR-VIRT-FIN-PT-08-2023-U-LOLC-main-05-APIs-Unit 5 Homework\\05-APIs\\Unit 5 Homework\\Instructions\\Starter_Code\\MCForecastTools.py:117: PerformanceWarning: DataFrame is highly fragmented.  This is usually the result of calling `frame.insert` many times, which has poor performance.  Consider joining all columns at once using pd.concat(axis=1) instead. To get a de-fragmented frame, use `newframe = frame.copy()`\n",
      "  portfolio_cumulative_returns[n] = (1 + sim_df.fillna(0)).cumprod()\n",
      "C:\\Users\\PC2\\Downloads\\challange_5\\UTOR-VIRT-FIN-PT-08-2023-U-LOLC-main-05-APIs-Unit 5 Homework\\05-APIs\\Unit 5 Homework\\Instructions\\Starter_Code\\MCForecastTools.py:117: PerformanceWarning: DataFrame is highly fragmented.  This is usually the result of calling `frame.insert` many times, which has poor performance.  Consider joining all columns at once using pd.concat(axis=1) instead. To get a de-fragmented frame, use `newframe = frame.copy()`\n",
      "  portfolio_cumulative_returns[n] = (1 + sim_df.fillna(0)).cumprod()\n",
      "C:\\Users\\PC2\\Downloads\\challange_5\\UTOR-VIRT-FIN-PT-08-2023-U-LOLC-main-05-APIs-Unit 5 Homework\\05-APIs\\Unit 5 Homework\\Instructions\\Starter_Code\\MCForecastTools.py:117: PerformanceWarning: DataFrame is highly fragmented.  This is usually the result of calling `frame.insert` many times, which has poor performance.  Consider joining all columns at once using pd.concat(axis=1) instead. To get a de-fragmented frame, use `newframe = frame.copy()`\n",
      "  portfolio_cumulative_returns[n] = (1 + sim_df.fillna(0)).cumprod()\n",
      "C:\\Users\\PC2\\Downloads\\challange_5\\UTOR-VIRT-FIN-PT-08-2023-U-LOLC-main-05-APIs-Unit 5 Homework\\05-APIs\\Unit 5 Homework\\Instructions\\Starter_Code\\MCForecastTools.py:117: PerformanceWarning: DataFrame is highly fragmented.  This is usually the result of calling `frame.insert` many times, which has poor performance.  Consider joining all columns at once using pd.concat(axis=1) instead. To get a de-fragmented frame, use `newframe = frame.copy()`\n",
      "  portfolio_cumulative_returns[n] = (1 + sim_df.fillna(0)).cumprod()\n"
     ]
    },
    {
     "name": "stdout",
     "output_type": "stream",
     "text": [
      "Running Monte Carlo simulation number 300.\n"
     ]
    },
    {
     "name": "stderr",
     "output_type": "stream",
     "text": [
      "C:\\Users\\PC2\\Downloads\\challange_5\\UTOR-VIRT-FIN-PT-08-2023-U-LOLC-main-05-APIs-Unit 5 Homework\\05-APIs\\Unit 5 Homework\\Instructions\\Starter_Code\\MCForecastTools.py:117: PerformanceWarning: DataFrame is highly fragmented.  This is usually the result of calling `frame.insert` many times, which has poor performance.  Consider joining all columns at once using pd.concat(axis=1) instead. To get a de-fragmented frame, use `newframe = frame.copy()`\n",
      "  portfolio_cumulative_returns[n] = (1 + sim_df.fillna(0)).cumprod()\n",
      "C:\\Users\\PC2\\Downloads\\challange_5\\UTOR-VIRT-FIN-PT-08-2023-U-LOLC-main-05-APIs-Unit 5 Homework\\05-APIs\\Unit 5 Homework\\Instructions\\Starter_Code\\MCForecastTools.py:117: PerformanceWarning: DataFrame is highly fragmented.  This is usually the result of calling `frame.insert` many times, which has poor performance.  Consider joining all columns at once using pd.concat(axis=1) instead. To get a de-fragmented frame, use `newframe = frame.copy()`\n",
      "  portfolio_cumulative_returns[n] = (1 + sim_df.fillna(0)).cumprod()\n",
      "C:\\Users\\PC2\\Downloads\\challange_5\\UTOR-VIRT-FIN-PT-08-2023-U-LOLC-main-05-APIs-Unit 5 Homework\\05-APIs\\Unit 5 Homework\\Instructions\\Starter_Code\\MCForecastTools.py:117: PerformanceWarning: DataFrame is highly fragmented.  This is usually the result of calling `frame.insert` many times, which has poor performance.  Consider joining all columns at once using pd.concat(axis=1) instead. To get a de-fragmented frame, use `newframe = frame.copy()`\n",
      "  portfolio_cumulative_returns[n] = (1 + sim_df.fillna(0)).cumprod()\n",
      "C:\\Users\\PC2\\Downloads\\challange_5\\UTOR-VIRT-FIN-PT-08-2023-U-LOLC-main-05-APIs-Unit 5 Homework\\05-APIs\\Unit 5 Homework\\Instructions\\Starter_Code\\MCForecastTools.py:117: PerformanceWarning: DataFrame is highly fragmented.  This is usually the result of calling `frame.insert` many times, which has poor performance.  Consider joining all columns at once using pd.concat(axis=1) instead. To get a de-fragmented frame, use `newframe = frame.copy()`\n",
      "  portfolio_cumulative_returns[n] = (1 + sim_df.fillna(0)).cumprod()\n",
      "C:\\Users\\PC2\\Downloads\\challange_5\\UTOR-VIRT-FIN-PT-08-2023-U-LOLC-main-05-APIs-Unit 5 Homework\\05-APIs\\Unit 5 Homework\\Instructions\\Starter_Code\\MCForecastTools.py:117: PerformanceWarning: DataFrame is highly fragmented.  This is usually the result of calling `frame.insert` many times, which has poor performance.  Consider joining all columns at once using pd.concat(axis=1) instead. To get a de-fragmented frame, use `newframe = frame.copy()`\n",
      "  portfolio_cumulative_returns[n] = (1 + sim_df.fillna(0)).cumprod()\n",
      "C:\\Users\\PC2\\Downloads\\challange_5\\UTOR-VIRT-FIN-PT-08-2023-U-LOLC-main-05-APIs-Unit 5 Homework\\05-APIs\\Unit 5 Homework\\Instructions\\Starter_Code\\MCForecastTools.py:117: PerformanceWarning: DataFrame is highly fragmented.  This is usually the result of calling `frame.insert` many times, which has poor performance.  Consider joining all columns at once using pd.concat(axis=1) instead. To get a de-fragmented frame, use `newframe = frame.copy()`\n",
      "  portfolio_cumulative_returns[n] = (1 + sim_df.fillna(0)).cumprod()\n",
      "C:\\Users\\PC2\\Downloads\\challange_5\\UTOR-VIRT-FIN-PT-08-2023-U-LOLC-main-05-APIs-Unit 5 Homework\\05-APIs\\Unit 5 Homework\\Instructions\\Starter_Code\\MCForecastTools.py:117: PerformanceWarning: DataFrame is highly fragmented.  This is usually the result of calling `frame.insert` many times, which has poor performance.  Consider joining all columns at once using pd.concat(axis=1) instead. To get a de-fragmented frame, use `newframe = frame.copy()`\n",
      "  portfolio_cumulative_returns[n] = (1 + sim_df.fillna(0)).cumprod()\n",
      "C:\\Users\\PC2\\Downloads\\challange_5\\UTOR-VIRT-FIN-PT-08-2023-U-LOLC-main-05-APIs-Unit 5 Homework\\05-APIs\\Unit 5 Homework\\Instructions\\Starter_Code\\MCForecastTools.py:117: PerformanceWarning: DataFrame is highly fragmented.  This is usually the result of calling `frame.insert` many times, which has poor performance.  Consider joining all columns at once using pd.concat(axis=1) instead. To get a de-fragmented frame, use `newframe = frame.copy()`\n",
      "  portfolio_cumulative_returns[n] = (1 + sim_df.fillna(0)).cumprod()\n",
      "C:\\Users\\PC2\\Downloads\\challange_5\\UTOR-VIRT-FIN-PT-08-2023-U-LOLC-main-05-APIs-Unit 5 Homework\\05-APIs\\Unit 5 Homework\\Instructions\\Starter_Code\\MCForecastTools.py:117: PerformanceWarning: DataFrame is highly fragmented.  This is usually the result of calling `frame.insert` many times, which has poor performance.  Consider joining all columns at once using pd.concat(axis=1) instead. To get a de-fragmented frame, use `newframe = frame.copy()`\n",
      "  portfolio_cumulative_returns[n] = (1 + sim_df.fillna(0)).cumprod()\n",
      "C:\\Users\\PC2\\Downloads\\challange_5\\UTOR-VIRT-FIN-PT-08-2023-U-LOLC-main-05-APIs-Unit 5 Homework\\05-APIs\\Unit 5 Homework\\Instructions\\Starter_Code\\MCForecastTools.py:117: PerformanceWarning: DataFrame is highly fragmented.  This is usually the result of calling `frame.insert` many times, which has poor performance.  Consider joining all columns at once using pd.concat(axis=1) instead. To get a de-fragmented frame, use `newframe = frame.copy()`\n",
      "  portfolio_cumulative_returns[n] = (1 + sim_df.fillna(0)).cumprod()\n"
     ]
    },
    {
     "name": "stdout",
     "output_type": "stream",
     "text": [
      "Running Monte Carlo simulation number 310.\n"
     ]
    },
    {
     "name": "stderr",
     "output_type": "stream",
     "text": [
      "C:\\Users\\PC2\\Downloads\\challange_5\\UTOR-VIRT-FIN-PT-08-2023-U-LOLC-main-05-APIs-Unit 5 Homework\\05-APIs\\Unit 5 Homework\\Instructions\\Starter_Code\\MCForecastTools.py:117: PerformanceWarning: DataFrame is highly fragmented.  This is usually the result of calling `frame.insert` many times, which has poor performance.  Consider joining all columns at once using pd.concat(axis=1) instead. To get a de-fragmented frame, use `newframe = frame.copy()`\n",
      "  portfolio_cumulative_returns[n] = (1 + sim_df.fillna(0)).cumprod()\n",
      "C:\\Users\\PC2\\Downloads\\challange_5\\UTOR-VIRT-FIN-PT-08-2023-U-LOLC-main-05-APIs-Unit 5 Homework\\05-APIs\\Unit 5 Homework\\Instructions\\Starter_Code\\MCForecastTools.py:117: PerformanceWarning: DataFrame is highly fragmented.  This is usually the result of calling `frame.insert` many times, which has poor performance.  Consider joining all columns at once using pd.concat(axis=1) instead. To get a de-fragmented frame, use `newframe = frame.copy()`\n",
      "  portfolio_cumulative_returns[n] = (1 + sim_df.fillna(0)).cumprod()\n",
      "C:\\Users\\PC2\\Downloads\\challange_5\\UTOR-VIRT-FIN-PT-08-2023-U-LOLC-main-05-APIs-Unit 5 Homework\\05-APIs\\Unit 5 Homework\\Instructions\\Starter_Code\\MCForecastTools.py:117: PerformanceWarning: DataFrame is highly fragmented.  This is usually the result of calling `frame.insert` many times, which has poor performance.  Consider joining all columns at once using pd.concat(axis=1) instead. To get a de-fragmented frame, use `newframe = frame.copy()`\n",
      "  portfolio_cumulative_returns[n] = (1 + sim_df.fillna(0)).cumprod()\n",
      "C:\\Users\\PC2\\Downloads\\challange_5\\UTOR-VIRT-FIN-PT-08-2023-U-LOLC-main-05-APIs-Unit 5 Homework\\05-APIs\\Unit 5 Homework\\Instructions\\Starter_Code\\MCForecastTools.py:117: PerformanceWarning: DataFrame is highly fragmented.  This is usually the result of calling `frame.insert` many times, which has poor performance.  Consider joining all columns at once using pd.concat(axis=1) instead. To get a de-fragmented frame, use `newframe = frame.copy()`\n",
      "  portfolio_cumulative_returns[n] = (1 + sim_df.fillna(0)).cumprod()\n",
      "C:\\Users\\PC2\\Downloads\\challange_5\\UTOR-VIRT-FIN-PT-08-2023-U-LOLC-main-05-APIs-Unit 5 Homework\\05-APIs\\Unit 5 Homework\\Instructions\\Starter_Code\\MCForecastTools.py:117: PerformanceWarning: DataFrame is highly fragmented.  This is usually the result of calling `frame.insert` many times, which has poor performance.  Consider joining all columns at once using pd.concat(axis=1) instead. To get a de-fragmented frame, use `newframe = frame.copy()`\n",
      "  portfolio_cumulative_returns[n] = (1 + sim_df.fillna(0)).cumprod()\n",
      "C:\\Users\\PC2\\Downloads\\challange_5\\UTOR-VIRT-FIN-PT-08-2023-U-LOLC-main-05-APIs-Unit 5 Homework\\05-APIs\\Unit 5 Homework\\Instructions\\Starter_Code\\MCForecastTools.py:117: PerformanceWarning: DataFrame is highly fragmented.  This is usually the result of calling `frame.insert` many times, which has poor performance.  Consider joining all columns at once using pd.concat(axis=1) instead. To get a de-fragmented frame, use `newframe = frame.copy()`\n",
      "  portfolio_cumulative_returns[n] = (1 + sim_df.fillna(0)).cumprod()\n",
      "C:\\Users\\PC2\\Downloads\\challange_5\\UTOR-VIRT-FIN-PT-08-2023-U-LOLC-main-05-APIs-Unit 5 Homework\\05-APIs\\Unit 5 Homework\\Instructions\\Starter_Code\\MCForecastTools.py:117: PerformanceWarning: DataFrame is highly fragmented.  This is usually the result of calling `frame.insert` many times, which has poor performance.  Consider joining all columns at once using pd.concat(axis=1) instead. To get a de-fragmented frame, use `newframe = frame.copy()`\n",
      "  portfolio_cumulative_returns[n] = (1 + sim_df.fillna(0)).cumprod()\n",
      "C:\\Users\\PC2\\Downloads\\challange_5\\UTOR-VIRT-FIN-PT-08-2023-U-LOLC-main-05-APIs-Unit 5 Homework\\05-APIs\\Unit 5 Homework\\Instructions\\Starter_Code\\MCForecastTools.py:117: PerformanceWarning: DataFrame is highly fragmented.  This is usually the result of calling `frame.insert` many times, which has poor performance.  Consider joining all columns at once using pd.concat(axis=1) instead. To get a de-fragmented frame, use `newframe = frame.copy()`\n",
      "  portfolio_cumulative_returns[n] = (1 + sim_df.fillna(0)).cumprod()\n",
      "C:\\Users\\PC2\\Downloads\\challange_5\\UTOR-VIRT-FIN-PT-08-2023-U-LOLC-main-05-APIs-Unit 5 Homework\\05-APIs\\Unit 5 Homework\\Instructions\\Starter_Code\\MCForecastTools.py:117: PerformanceWarning: DataFrame is highly fragmented.  This is usually the result of calling `frame.insert` many times, which has poor performance.  Consider joining all columns at once using pd.concat(axis=1) instead. To get a de-fragmented frame, use `newframe = frame.copy()`\n",
      "  portfolio_cumulative_returns[n] = (1 + sim_df.fillna(0)).cumprod()\n",
      "C:\\Users\\PC2\\Downloads\\challange_5\\UTOR-VIRT-FIN-PT-08-2023-U-LOLC-main-05-APIs-Unit 5 Homework\\05-APIs\\Unit 5 Homework\\Instructions\\Starter_Code\\MCForecastTools.py:117: PerformanceWarning: DataFrame is highly fragmented.  This is usually the result of calling `frame.insert` many times, which has poor performance.  Consider joining all columns at once using pd.concat(axis=1) instead. To get a de-fragmented frame, use `newframe = frame.copy()`\n",
      "  portfolio_cumulative_returns[n] = (1 + sim_df.fillna(0)).cumprod()\n"
     ]
    },
    {
     "name": "stdout",
     "output_type": "stream",
     "text": [
      "Running Monte Carlo simulation number 320.\n"
     ]
    },
    {
     "name": "stderr",
     "output_type": "stream",
     "text": [
      "C:\\Users\\PC2\\Downloads\\challange_5\\UTOR-VIRT-FIN-PT-08-2023-U-LOLC-main-05-APIs-Unit 5 Homework\\05-APIs\\Unit 5 Homework\\Instructions\\Starter_Code\\MCForecastTools.py:117: PerformanceWarning: DataFrame is highly fragmented.  This is usually the result of calling `frame.insert` many times, which has poor performance.  Consider joining all columns at once using pd.concat(axis=1) instead. To get a de-fragmented frame, use `newframe = frame.copy()`\n",
      "  portfolio_cumulative_returns[n] = (1 + sim_df.fillna(0)).cumprod()\n",
      "C:\\Users\\PC2\\Downloads\\challange_5\\UTOR-VIRT-FIN-PT-08-2023-U-LOLC-main-05-APIs-Unit 5 Homework\\05-APIs\\Unit 5 Homework\\Instructions\\Starter_Code\\MCForecastTools.py:117: PerformanceWarning: DataFrame is highly fragmented.  This is usually the result of calling `frame.insert` many times, which has poor performance.  Consider joining all columns at once using pd.concat(axis=1) instead. To get a de-fragmented frame, use `newframe = frame.copy()`\n",
      "  portfolio_cumulative_returns[n] = (1 + sim_df.fillna(0)).cumprod()\n",
      "C:\\Users\\PC2\\Downloads\\challange_5\\UTOR-VIRT-FIN-PT-08-2023-U-LOLC-main-05-APIs-Unit 5 Homework\\05-APIs\\Unit 5 Homework\\Instructions\\Starter_Code\\MCForecastTools.py:117: PerformanceWarning: DataFrame is highly fragmented.  This is usually the result of calling `frame.insert` many times, which has poor performance.  Consider joining all columns at once using pd.concat(axis=1) instead. To get a de-fragmented frame, use `newframe = frame.copy()`\n",
      "  portfolio_cumulative_returns[n] = (1 + sim_df.fillna(0)).cumprod()\n",
      "C:\\Users\\PC2\\Downloads\\challange_5\\UTOR-VIRT-FIN-PT-08-2023-U-LOLC-main-05-APIs-Unit 5 Homework\\05-APIs\\Unit 5 Homework\\Instructions\\Starter_Code\\MCForecastTools.py:117: PerformanceWarning: DataFrame is highly fragmented.  This is usually the result of calling `frame.insert` many times, which has poor performance.  Consider joining all columns at once using pd.concat(axis=1) instead. To get a de-fragmented frame, use `newframe = frame.copy()`\n",
      "  portfolio_cumulative_returns[n] = (1 + sim_df.fillna(0)).cumprod()\n",
      "C:\\Users\\PC2\\Downloads\\challange_5\\UTOR-VIRT-FIN-PT-08-2023-U-LOLC-main-05-APIs-Unit 5 Homework\\05-APIs\\Unit 5 Homework\\Instructions\\Starter_Code\\MCForecastTools.py:117: PerformanceWarning: DataFrame is highly fragmented.  This is usually the result of calling `frame.insert` many times, which has poor performance.  Consider joining all columns at once using pd.concat(axis=1) instead. To get a de-fragmented frame, use `newframe = frame.copy()`\n",
      "  portfolio_cumulative_returns[n] = (1 + sim_df.fillna(0)).cumprod()\n",
      "C:\\Users\\PC2\\Downloads\\challange_5\\UTOR-VIRT-FIN-PT-08-2023-U-LOLC-main-05-APIs-Unit 5 Homework\\05-APIs\\Unit 5 Homework\\Instructions\\Starter_Code\\MCForecastTools.py:117: PerformanceWarning: DataFrame is highly fragmented.  This is usually the result of calling `frame.insert` many times, which has poor performance.  Consider joining all columns at once using pd.concat(axis=1) instead. To get a de-fragmented frame, use `newframe = frame.copy()`\n",
      "  portfolio_cumulative_returns[n] = (1 + sim_df.fillna(0)).cumprod()\n",
      "C:\\Users\\PC2\\Downloads\\challange_5\\UTOR-VIRT-FIN-PT-08-2023-U-LOLC-main-05-APIs-Unit 5 Homework\\05-APIs\\Unit 5 Homework\\Instructions\\Starter_Code\\MCForecastTools.py:117: PerformanceWarning: DataFrame is highly fragmented.  This is usually the result of calling `frame.insert` many times, which has poor performance.  Consider joining all columns at once using pd.concat(axis=1) instead. To get a de-fragmented frame, use `newframe = frame.copy()`\n",
      "  portfolio_cumulative_returns[n] = (1 + sim_df.fillna(0)).cumprod()\n",
      "C:\\Users\\PC2\\Downloads\\challange_5\\UTOR-VIRT-FIN-PT-08-2023-U-LOLC-main-05-APIs-Unit 5 Homework\\05-APIs\\Unit 5 Homework\\Instructions\\Starter_Code\\MCForecastTools.py:117: PerformanceWarning: DataFrame is highly fragmented.  This is usually the result of calling `frame.insert` many times, which has poor performance.  Consider joining all columns at once using pd.concat(axis=1) instead. To get a de-fragmented frame, use `newframe = frame.copy()`\n",
      "  portfolio_cumulative_returns[n] = (1 + sim_df.fillna(0)).cumprod()\n",
      "C:\\Users\\PC2\\Downloads\\challange_5\\UTOR-VIRT-FIN-PT-08-2023-U-LOLC-main-05-APIs-Unit 5 Homework\\05-APIs\\Unit 5 Homework\\Instructions\\Starter_Code\\MCForecastTools.py:117: PerformanceWarning: DataFrame is highly fragmented.  This is usually the result of calling `frame.insert` many times, which has poor performance.  Consider joining all columns at once using pd.concat(axis=1) instead. To get a de-fragmented frame, use `newframe = frame.copy()`\n",
      "  portfolio_cumulative_returns[n] = (1 + sim_df.fillna(0)).cumprod()\n",
      "C:\\Users\\PC2\\Downloads\\challange_5\\UTOR-VIRT-FIN-PT-08-2023-U-LOLC-main-05-APIs-Unit 5 Homework\\05-APIs\\Unit 5 Homework\\Instructions\\Starter_Code\\MCForecastTools.py:117: PerformanceWarning: DataFrame is highly fragmented.  This is usually the result of calling `frame.insert` many times, which has poor performance.  Consider joining all columns at once using pd.concat(axis=1) instead. To get a de-fragmented frame, use `newframe = frame.copy()`\n",
      "  portfolio_cumulative_returns[n] = (1 + sim_df.fillna(0)).cumprod()\n"
     ]
    },
    {
     "name": "stdout",
     "output_type": "stream",
     "text": [
      "Running Monte Carlo simulation number 330.\n"
     ]
    },
    {
     "name": "stderr",
     "output_type": "stream",
     "text": [
      "C:\\Users\\PC2\\Downloads\\challange_5\\UTOR-VIRT-FIN-PT-08-2023-U-LOLC-main-05-APIs-Unit 5 Homework\\05-APIs\\Unit 5 Homework\\Instructions\\Starter_Code\\MCForecastTools.py:117: PerformanceWarning: DataFrame is highly fragmented.  This is usually the result of calling `frame.insert` many times, which has poor performance.  Consider joining all columns at once using pd.concat(axis=1) instead. To get a de-fragmented frame, use `newframe = frame.copy()`\n",
      "  portfolio_cumulative_returns[n] = (1 + sim_df.fillna(0)).cumprod()\n",
      "C:\\Users\\PC2\\Downloads\\challange_5\\UTOR-VIRT-FIN-PT-08-2023-U-LOLC-main-05-APIs-Unit 5 Homework\\05-APIs\\Unit 5 Homework\\Instructions\\Starter_Code\\MCForecastTools.py:117: PerformanceWarning: DataFrame is highly fragmented.  This is usually the result of calling `frame.insert` many times, which has poor performance.  Consider joining all columns at once using pd.concat(axis=1) instead. To get a de-fragmented frame, use `newframe = frame.copy()`\n",
      "  portfolio_cumulative_returns[n] = (1 + sim_df.fillna(0)).cumprod()\n",
      "C:\\Users\\PC2\\Downloads\\challange_5\\UTOR-VIRT-FIN-PT-08-2023-U-LOLC-main-05-APIs-Unit 5 Homework\\05-APIs\\Unit 5 Homework\\Instructions\\Starter_Code\\MCForecastTools.py:117: PerformanceWarning: DataFrame is highly fragmented.  This is usually the result of calling `frame.insert` many times, which has poor performance.  Consider joining all columns at once using pd.concat(axis=1) instead. To get a de-fragmented frame, use `newframe = frame.copy()`\n",
      "  portfolio_cumulative_returns[n] = (1 + sim_df.fillna(0)).cumprod()\n",
      "C:\\Users\\PC2\\Downloads\\challange_5\\UTOR-VIRT-FIN-PT-08-2023-U-LOLC-main-05-APIs-Unit 5 Homework\\05-APIs\\Unit 5 Homework\\Instructions\\Starter_Code\\MCForecastTools.py:117: PerformanceWarning: DataFrame is highly fragmented.  This is usually the result of calling `frame.insert` many times, which has poor performance.  Consider joining all columns at once using pd.concat(axis=1) instead. To get a de-fragmented frame, use `newframe = frame.copy()`\n",
      "  portfolio_cumulative_returns[n] = (1 + sim_df.fillna(0)).cumprod()\n",
      "C:\\Users\\PC2\\Downloads\\challange_5\\UTOR-VIRT-FIN-PT-08-2023-U-LOLC-main-05-APIs-Unit 5 Homework\\05-APIs\\Unit 5 Homework\\Instructions\\Starter_Code\\MCForecastTools.py:117: PerformanceWarning: DataFrame is highly fragmented.  This is usually the result of calling `frame.insert` many times, which has poor performance.  Consider joining all columns at once using pd.concat(axis=1) instead. To get a de-fragmented frame, use `newframe = frame.copy()`\n",
      "  portfolio_cumulative_returns[n] = (1 + sim_df.fillna(0)).cumprod()\n",
      "C:\\Users\\PC2\\Downloads\\challange_5\\UTOR-VIRT-FIN-PT-08-2023-U-LOLC-main-05-APIs-Unit 5 Homework\\05-APIs\\Unit 5 Homework\\Instructions\\Starter_Code\\MCForecastTools.py:117: PerformanceWarning: DataFrame is highly fragmented.  This is usually the result of calling `frame.insert` many times, which has poor performance.  Consider joining all columns at once using pd.concat(axis=1) instead. To get a de-fragmented frame, use `newframe = frame.copy()`\n",
      "  portfolio_cumulative_returns[n] = (1 + sim_df.fillna(0)).cumprod()\n",
      "C:\\Users\\PC2\\Downloads\\challange_5\\UTOR-VIRT-FIN-PT-08-2023-U-LOLC-main-05-APIs-Unit 5 Homework\\05-APIs\\Unit 5 Homework\\Instructions\\Starter_Code\\MCForecastTools.py:117: PerformanceWarning: DataFrame is highly fragmented.  This is usually the result of calling `frame.insert` many times, which has poor performance.  Consider joining all columns at once using pd.concat(axis=1) instead. To get a de-fragmented frame, use `newframe = frame.copy()`\n",
      "  portfolio_cumulative_returns[n] = (1 + sim_df.fillna(0)).cumprod()\n",
      "C:\\Users\\PC2\\Downloads\\challange_5\\UTOR-VIRT-FIN-PT-08-2023-U-LOLC-main-05-APIs-Unit 5 Homework\\05-APIs\\Unit 5 Homework\\Instructions\\Starter_Code\\MCForecastTools.py:117: PerformanceWarning: DataFrame is highly fragmented.  This is usually the result of calling `frame.insert` many times, which has poor performance.  Consider joining all columns at once using pd.concat(axis=1) instead. To get a de-fragmented frame, use `newframe = frame.copy()`\n",
      "  portfolio_cumulative_returns[n] = (1 + sim_df.fillna(0)).cumprod()\n",
      "C:\\Users\\PC2\\Downloads\\challange_5\\UTOR-VIRT-FIN-PT-08-2023-U-LOLC-main-05-APIs-Unit 5 Homework\\05-APIs\\Unit 5 Homework\\Instructions\\Starter_Code\\MCForecastTools.py:117: PerformanceWarning: DataFrame is highly fragmented.  This is usually the result of calling `frame.insert` many times, which has poor performance.  Consider joining all columns at once using pd.concat(axis=1) instead. To get a de-fragmented frame, use `newframe = frame.copy()`\n",
      "  portfolio_cumulative_returns[n] = (1 + sim_df.fillna(0)).cumprod()\n",
      "C:\\Users\\PC2\\Downloads\\challange_5\\UTOR-VIRT-FIN-PT-08-2023-U-LOLC-main-05-APIs-Unit 5 Homework\\05-APIs\\Unit 5 Homework\\Instructions\\Starter_Code\\MCForecastTools.py:117: PerformanceWarning: DataFrame is highly fragmented.  This is usually the result of calling `frame.insert` many times, which has poor performance.  Consider joining all columns at once using pd.concat(axis=1) instead. To get a de-fragmented frame, use `newframe = frame.copy()`\n",
      "  portfolio_cumulative_returns[n] = (1 + sim_df.fillna(0)).cumprod()\n"
     ]
    },
    {
     "name": "stdout",
     "output_type": "stream",
     "text": [
      "Running Monte Carlo simulation number 340.\n"
     ]
    },
    {
     "name": "stderr",
     "output_type": "stream",
     "text": [
      "C:\\Users\\PC2\\Downloads\\challange_5\\UTOR-VIRT-FIN-PT-08-2023-U-LOLC-main-05-APIs-Unit 5 Homework\\05-APIs\\Unit 5 Homework\\Instructions\\Starter_Code\\MCForecastTools.py:117: PerformanceWarning: DataFrame is highly fragmented.  This is usually the result of calling `frame.insert` many times, which has poor performance.  Consider joining all columns at once using pd.concat(axis=1) instead. To get a de-fragmented frame, use `newframe = frame.copy()`\n",
      "  portfolio_cumulative_returns[n] = (1 + sim_df.fillna(0)).cumprod()\n",
      "C:\\Users\\PC2\\Downloads\\challange_5\\UTOR-VIRT-FIN-PT-08-2023-U-LOLC-main-05-APIs-Unit 5 Homework\\05-APIs\\Unit 5 Homework\\Instructions\\Starter_Code\\MCForecastTools.py:117: PerformanceWarning: DataFrame is highly fragmented.  This is usually the result of calling `frame.insert` many times, which has poor performance.  Consider joining all columns at once using pd.concat(axis=1) instead. To get a de-fragmented frame, use `newframe = frame.copy()`\n",
      "  portfolio_cumulative_returns[n] = (1 + sim_df.fillna(0)).cumprod()\n",
      "C:\\Users\\PC2\\Downloads\\challange_5\\UTOR-VIRT-FIN-PT-08-2023-U-LOLC-main-05-APIs-Unit 5 Homework\\05-APIs\\Unit 5 Homework\\Instructions\\Starter_Code\\MCForecastTools.py:117: PerformanceWarning: DataFrame is highly fragmented.  This is usually the result of calling `frame.insert` many times, which has poor performance.  Consider joining all columns at once using pd.concat(axis=1) instead. To get a de-fragmented frame, use `newframe = frame.copy()`\n",
      "  portfolio_cumulative_returns[n] = (1 + sim_df.fillna(0)).cumprod()\n",
      "C:\\Users\\PC2\\Downloads\\challange_5\\UTOR-VIRT-FIN-PT-08-2023-U-LOLC-main-05-APIs-Unit 5 Homework\\05-APIs\\Unit 5 Homework\\Instructions\\Starter_Code\\MCForecastTools.py:117: PerformanceWarning: DataFrame is highly fragmented.  This is usually the result of calling `frame.insert` many times, which has poor performance.  Consider joining all columns at once using pd.concat(axis=1) instead. To get a de-fragmented frame, use `newframe = frame.copy()`\n",
      "  portfolio_cumulative_returns[n] = (1 + sim_df.fillna(0)).cumprod()\n",
      "C:\\Users\\PC2\\Downloads\\challange_5\\UTOR-VIRT-FIN-PT-08-2023-U-LOLC-main-05-APIs-Unit 5 Homework\\05-APIs\\Unit 5 Homework\\Instructions\\Starter_Code\\MCForecastTools.py:117: PerformanceWarning: DataFrame is highly fragmented.  This is usually the result of calling `frame.insert` many times, which has poor performance.  Consider joining all columns at once using pd.concat(axis=1) instead. To get a de-fragmented frame, use `newframe = frame.copy()`\n",
      "  portfolio_cumulative_returns[n] = (1 + sim_df.fillna(0)).cumprod()\n",
      "C:\\Users\\PC2\\Downloads\\challange_5\\UTOR-VIRT-FIN-PT-08-2023-U-LOLC-main-05-APIs-Unit 5 Homework\\05-APIs\\Unit 5 Homework\\Instructions\\Starter_Code\\MCForecastTools.py:117: PerformanceWarning: DataFrame is highly fragmented.  This is usually the result of calling `frame.insert` many times, which has poor performance.  Consider joining all columns at once using pd.concat(axis=1) instead. To get a de-fragmented frame, use `newframe = frame.copy()`\n",
      "  portfolio_cumulative_returns[n] = (1 + sim_df.fillna(0)).cumprod()\n",
      "C:\\Users\\PC2\\Downloads\\challange_5\\UTOR-VIRT-FIN-PT-08-2023-U-LOLC-main-05-APIs-Unit 5 Homework\\05-APIs\\Unit 5 Homework\\Instructions\\Starter_Code\\MCForecastTools.py:117: PerformanceWarning: DataFrame is highly fragmented.  This is usually the result of calling `frame.insert` many times, which has poor performance.  Consider joining all columns at once using pd.concat(axis=1) instead. To get a de-fragmented frame, use `newframe = frame.copy()`\n",
      "  portfolio_cumulative_returns[n] = (1 + sim_df.fillna(0)).cumprod()\n",
      "C:\\Users\\PC2\\Downloads\\challange_5\\UTOR-VIRT-FIN-PT-08-2023-U-LOLC-main-05-APIs-Unit 5 Homework\\05-APIs\\Unit 5 Homework\\Instructions\\Starter_Code\\MCForecastTools.py:117: PerformanceWarning: DataFrame is highly fragmented.  This is usually the result of calling `frame.insert` many times, which has poor performance.  Consider joining all columns at once using pd.concat(axis=1) instead. To get a de-fragmented frame, use `newframe = frame.copy()`\n",
      "  portfolio_cumulative_returns[n] = (1 + sim_df.fillna(0)).cumprod()\n",
      "C:\\Users\\PC2\\Downloads\\challange_5\\UTOR-VIRT-FIN-PT-08-2023-U-LOLC-main-05-APIs-Unit 5 Homework\\05-APIs\\Unit 5 Homework\\Instructions\\Starter_Code\\MCForecastTools.py:117: PerformanceWarning: DataFrame is highly fragmented.  This is usually the result of calling `frame.insert` many times, which has poor performance.  Consider joining all columns at once using pd.concat(axis=1) instead. To get a de-fragmented frame, use `newframe = frame.copy()`\n",
      "  portfolio_cumulative_returns[n] = (1 + sim_df.fillna(0)).cumprod()\n",
      "C:\\Users\\PC2\\Downloads\\challange_5\\UTOR-VIRT-FIN-PT-08-2023-U-LOLC-main-05-APIs-Unit 5 Homework\\05-APIs\\Unit 5 Homework\\Instructions\\Starter_Code\\MCForecastTools.py:117: PerformanceWarning: DataFrame is highly fragmented.  This is usually the result of calling `frame.insert` many times, which has poor performance.  Consider joining all columns at once using pd.concat(axis=1) instead. To get a de-fragmented frame, use `newframe = frame.copy()`\n",
      "  portfolio_cumulative_returns[n] = (1 + sim_df.fillna(0)).cumprod()\n"
     ]
    },
    {
     "name": "stdout",
     "output_type": "stream",
     "text": [
      "Running Monte Carlo simulation number 350.\n"
     ]
    },
    {
     "name": "stderr",
     "output_type": "stream",
     "text": [
      "C:\\Users\\PC2\\Downloads\\challange_5\\UTOR-VIRT-FIN-PT-08-2023-U-LOLC-main-05-APIs-Unit 5 Homework\\05-APIs\\Unit 5 Homework\\Instructions\\Starter_Code\\MCForecastTools.py:117: PerformanceWarning: DataFrame is highly fragmented.  This is usually the result of calling `frame.insert` many times, which has poor performance.  Consider joining all columns at once using pd.concat(axis=1) instead. To get a de-fragmented frame, use `newframe = frame.copy()`\n",
      "  portfolio_cumulative_returns[n] = (1 + sim_df.fillna(0)).cumprod()\n",
      "C:\\Users\\PC2\\Downloads\\challange_5\\UTOR-VIRT-FIN-PT-08-2023-U-LOLC-main-05-APIs-Unit 5 Homework\\05-APIs\\Unit 5 Homework\\Instructions\\Starter_Code\\MCForecastTools.py:117: PerformanceWarning: DataFrame is highly fragmented.  This is usually the result of calling `frame.insert` many times, which has poor performance.  Consider joining all columns at once using pd.concat(axis=1) instead. To get a de-fragmented frame, use `newframe = frame.copy()`\n",
      "  portfolio_cumulative_returns[n] = (1 + sim_df.fillna(0)).cumprod()\n",
      "C:\\Users\\PC2\\Downloads\\challange_5\\UTOR-VIRT-FIN-PT-08-2023-U-LOLC-main-05-APIs-Unit 5 Homework\\05-APIs\\Unit 5 Homework\\Instructions\\Starter_Code\\MCForecastTools.py:117: PerformanceWarning: DataFrame is highly fragmented.  This is usually the result of calling `frame.insert` many times, which has poor performance.  Consider joining all columns at once using pd.concat(axis=1) instead. To get a de-fragmented frame, use `newframe = frame.copy()`\n",
      "  portfolio_cumulative_returns[n] = (1 + sim_df.fillna(0)).cumprod()\n",
      "C:\\Users\\PC2\\Downloads\\challange_5\\UTOR-VIRT-FIN-PT-08-2023-U-LOLC-main-05-APIs-Unit 5 Homework\\05-APIs\\Unit 5 Homework\\Instructions\\Starter_Code\\MCForecastTools.py:117: PerformanceWarning: DataFrame is highly fragmented.  This is usually the result of calling `frame.insert` many times, which has poor performance.  Consider joining all columns at once using pd.concat(axis=1) instead. To get a de-fragmented frame, use `newframe = frame.copy()`\n",
      "  portfolio_cumulative_returns[n] = (1 + sim_df.fillna(0)).cumprod()\n",
      "C:\\Users\\PC2\\Downloads\\challange_5\\UTOR-VIRT-FIN-PT-08-2023-U-LOLC-main-05-APIs-Unit 5 Homework\\05-APIs\\Unit 5 Homework\\Instructions\\Starter_Code\\MCForecastTools.py:117: PerformanceWarning: DataFrame is highly fragmented.  This is usually the result of calling `frame.insert` many times, which has poor performance.  Consider joining all columns at once using pd.concat(axis=1) instead. To get a de-fragmented frame, use `newframe = frame.copy()`\n",
      "  portfolio_cumulative_returns[n] = (1 + sim_df.fillna(0)).cumprod()\n",
      "C:\\Users\\PC2\\Downloads\\challange_5\\UTOR-VIRT-FIN-PT-08-2023-U-LOLC-main-05-APIs-Unit 5 Homework\\05-APIs\\Unit 5 Homework\\Instructions\\Starter_Code\\MCForecastTools.py:117: PerformanceWarning: DataFrame is highly fragmented.  This is usually the result of calling `frame.insert` many times, which has poor performance.  Consider joining all columns at once using pd.concat(axis=1) instead. To get a de-fragmented frame, use `newframe = frame.copy()`\n",
      "  portfolio_cumulative_returns[n] = (1 + sim_df.fillna(0)).cumprod()\n",
      "C:\\Users\\PC2\\Downloads\\challange_5\\UTOR-VIRT-FIN-PT-08-2023-U-LOLC-main-05-APIs-Unit 5 Homework\\05-APIs\\Unit 5 Homework\\Instructions\\Starter_Code\\MCForecastTools.py:117: PerformanceWarning: DataFrame is highly fragmented.  This is usually the result of calling `frame.insert` many times, which has poor performance.  Consider joining all columns at once using pd.concat(axis=1) instead. To get a de-fragmented frame, use `newframe = frame.copy()`\n",
      "  portfolio_cumulative_returns[n] = (1 + sim_df.fillna(0)).cumprod()\n",
      "C:\\Users\\PC2\\Downloads\\challange_5\\UTOR-VIRT-FIN-PT-08-2023-U-LOLC-main-05-APIs-Unit 5 Homework\\05-APIs\\Unit 5 Homework\\Instructions\\Starter_Code\\MCForecastTools.py:117: PerformanceWarning: DataFrame is highly fragmented.  This is usually the result of calling `frame.insert` many times, which has poor performance.  Consider joining all columns at once using pd.concat(axis=1) instead. To get a de-fragmented frame, use `newframe = frame.copy()`\n",
      "  portfolio_cumulative_returns[n] = (1 + sim_df.fillna(0)).cumprod()\n",
      "C:\\Users\\PC2\\Downloads\\challange_5\\UTOR-VIRT-FIN-PT-08-2023-U-LOLC-main-05-APIs-Unit 5 Homework\\05-APIs\\Unit 5 Homework\\Instructions\\Starter_Code\\MCForecastTools.py:117: PerformanceWarning: DataFrame is highly fragmented.  This is usually the result of calling `frame.insert` many times, which has poor performance.  Consider joining all columns at once using pd.concat(axis=1) instead. To get a de-fragmented frame, use `newframe = frame.copy()`\n",
      "  portfolio_cumulative_returns[n] = (1 + sim_df.fillna(0)).cumprod()\n",
      "C:\\Users\\PC2\\Downloads\\challange_5\\UTOR-VIRT-FIN-PT-08-2023-U-LOLC-main-05-APIs-Unit 5 Homework\\05-APIs\\Unit 5 Homework\\Instructions\\Starter_Code\\MCForecastTools.py:117: PerformanceWarning: DataFrame is highly fragmented.  This is usually the result of calling `frame.insert` many times, which has poor performance.  Consider joining all columns at once using pd.concat(axis=1) instead. To get a de-fragmented frame, use `newframe = frame.copy()`\n",
      "  portfolio_cumulative_returns[n] = (1 + sim_df.fillna(0)).cumprod()\n"
     ]
    },
    {
     "name": "stdout",
     "output_type": "stream",
     "text": [
      "Running Monte Carlo simulation number 360.\n"
     ]
    },
    {
     "name": "stderr",
     "output_type": "stream",
     "text": [
      "C:\\Users\\PC2\\Downloads\\challange_5\\UTOR-VIRT-FIN-PT-08-2023-U-LOLC-main-05-APIs-Unit 5 Homework\\05-APIs\\Unit 5 Homework\\Instructions\\Starter_Code\\MCForecastTools.py:117: PerformanceWarning: DataFrame is highly fragmented.  This is usually the result of calling `frame.insert` many times, which has poor performance.  Consider joining all columns at once using pd.concat(axis=1) instead. To get a de-fragmented frame, use `newframe = frame.copy()`\n",
      "  portfolio_cumulative_returns[n] = (1 + sim_df.fillna(0)).cumprod()\n",
      "C:\\Users\\PC2\\Downloads\\challange_5\\UTOR-VIRT-FIN-PT-08-2023-U-LOLC-main-05-APIs-Unit 5 Homework\\05-APIs\\Unit 5 Homework\\Instructions\\Starter_Code\\MCForecastTools.py:117: PerformanceWarning: DataFrame is highly fragmented.  This is usually the result of calling `frame.insert` many times, which has poor performance.  Consider joining all columns at once using pd.concat(axis=1) instead. To get a de-fragmented frame, use `newframe = frame.copy()`\n",
      "  portfolio_cumulative_returns[n] = (1 + sim_df.fillna(0)).cumprod()\n",
      "C:\\Users\\PC2\\Downloads\\challange_5\\UTOR-VIRT-FIN-PT-08-2023-U-LOLC-main-05-APIs-Unit 5 Homework\\05-APIs\\Unit 5 Homework\\Instructions\\Starter_Code\\MCForecastTools.py:117: PerformanceWarning: DataFrame is highly fragmented.  This is usually the result of calling `frame.insert` many times, which has poor performance.  Consider joining all columns at once using pd.concat(axis=1) instead. To get a de-fragmented frame, use `newframe = frame.copy()`\n",
      "  portfolio_cumulative_returns[n] = (1 + sim_df.fillna(0)).cumprod()\n",
      "C:\\Users\\PC2\\Downloads\\challange_5\\UTOR-VIRT-FIN-PT-08-2023-U-LOLC-main-05-APIs-Unit 5 Homework\\05-APIs\\Unit 5 Homework\\Instructions\\Starter_Code\\MCForecastTools.py:117: PerformanceWarning: DataFrame is highly fragmented.  This is usually the result of calling `frame.insert` many times, which has poor performance.  Consider joining all columns at once using pd.concat(axis=1) instead. To get a de-fragmented frame, use `newframe = frame.copy()`\n",
      "  portfolio_cumulative_returns[n] = (1 + sim_df.fillna(0)).cumprod()\n",
      "C:\\Users\\PC2\\Downloads\\challange_5\\UTOR-VIRT-FIN-PT-08-2023-U-LOLC-main-05-APIs-Unit 5 Homework\\05-APIs\\Unit 5 Homework\\Instructions\\Starter_Code\\MCForecastTools.py:117: PerformanceWarning: DataFrame is highly fragmented.  This is usually the result of calling `frame.insert` many times, which has poor performance.  Consider joining all columns at once using pd.concat(axis=1) instead. To get a de-fragmented frame, use `newframe = frame.copy()`\n",
      "  portfolio_cumulative_returns[n] = (1 + sim_df.fillna(0)).cumprod()\n",
      "C:\\Users\\PC2\\Downloads\\challange_5\\UTOR-VIRT-FIN-PT-08-2023-U-LOLC-main-05-APIs-Unit 5 Homework\\05-APIs\\Unit 5 Homework\\Instructions\\Starter_Code\\MCForecastTools.py:117: PerformanceWarning: DataFrame is highly fragmented.  This is usually the result of calling `frame.insert` many times, which has poor performance.  Consider joining all columns at once using pd.concat(axis=1) instead. To get a de-fragmented frame, use `newframe = frame.copy()`\n",
      "  portfolio_cumulative_returns[n] = (1 + sim_df.fillna(0)).cumprod()\n",
      "C:\\Users\\PC2\\Downloads\\challange_5\\UTOR-VIRT-FIN-PT-08-2023-U-LOLC-main-05-APIs-Unit 5 Homework\\05-APIs\\Unit 5 Homework\\Instructions\\Starter_Code\\MCForecastTools.py:117: PerformanceWarning: DataFrame is highly fragmented.  This is usually the result of calling `frame.insert` many times, which has poor performance.  Consider joining all columns at once using pd.concat(axis=1) instead. To get a de-fragmented frame, use `newframe = frame.copy()`\n",
      "  portfolio_cumulative_returns[n] = (1 + sim_df.fillna(0)).cumprod()\n",
      "C:\\Users\\PC2\\Downloads\\challange_5\\UTOR-VIRT-FIN-PT-08-2023-U-LOLC-main-05-APIs-Unit 5 Homework\\05-APIs\\Unit 5 Homework\\Instructions\\Starter_Code\\MCForecastTools.py:117: PerformanceWarning: DataFrame is highly fragmented.  This is usually the result of calling `frame.insert` many times, which has poor performance.  Consider joining all columns at once using pd.concat(axis=1) instead. To get a de-fragmented frame, use `newframe = frame.copy()`\n",
      "  portfolio_cumulative_returns[n] = (1 + sim_df.fillna(0)).cumprod()\n",
      "C:\\Users\\PC2\\Downloads\\challange_5\\UTOR-VIRT-FIN-PT-08-2023-U-LOLC-main-05-APIs-Unit 5 Homework\\05-APIs\\Unit 5 Homework\\Instructions\\Starter_Code\\MCForecastTools.py:117: PerformanceWarning: DataFrame is highly fragmented.  This is usually the result of calling `frame.insert` many times, which has poor performance.  Consider joining all columns at once using pd.concat(axis=1) instead. To get a de-fragmented frame, use `newframe = frame.copy()`\n",
      "  portfolio_cumulative_returns[n] = (1 + sim_df.fillna(0)).cumprod()\n",
      "C:\\Users\\PC2\\Downloads\\challange_5\\UTOR-VIRT-FIN-PT-08-2023-U-LOLC-main-05-APIs-Unit 5 Homework\\05-APIs\\Unit 5 Homework\\Instructions\\Starter_Code\\MCForecastTools.py:117: PerformanceWarning: DataFrame is highly fragmented.  This is usually the result of calling `frame.insert` many times, which has poor performance.  Consider joining all columns at once using pd.concat(axis=1) instead. To get a de-fragmented frame, use `newframe = frame.copy()`\n",
      "  portfolio_cumulative_returns[n] = (1 + sim_df.fillna(0)).cumprod()\n"
     ]
    },
    {
     "name": "stdout",
     "output_type": "stream",
     "text": [
      "Running Monte Carlo simulation number 370.\n"
     ]
    },
    {
     "name": "stderr",
     "output_type": "stream",
     "text": [
      "C:\\Users\\PC2\\Downloads\\challange_5\\UTOR-VIRT-FIN-PT-08-2023-U-LOLC-main-05-APIs-Unit 5 Homework\\05-APIs\\Unit 5 Homework\\Instructions\\Starter_Code\\MCForecastTools.py:117: PerformanceWarning: DataFrame is highly fragmented.  This is usually the result of calling `frame.insert` many times, which has poor performance.  Consider joining all columns at once using pd.concat(axis=1) instead. To get a de-fragmented frame, use `newframe = frame.copy()`\n",
      "  portfolio_cumulative_returns[n] = (1 + sim_df.fillna(0)).cumprod()\n",
      "C:\\Users\\PC2\\Downloads\\challange_5\\UTOR-VIRT-FIN-PT-08-2023-U-LOLC-main-05-APIs-Unit 5 Homework\\05-APIs\\Unit 5 Homework\\Instructions\\Starter_Code\\MCForecastTools.py:117: PerformanceWarning: DataFrame is highly fragmented.  This is usually the result of calling `frame.insert` many times, which has poor performance.  Consider joining all columns at once using pd.concat(axis=1) instead. To get a de-fragmented frame, use `newframe = frame.copy()`\n",
      "  portfolio_cumulative_returns[n] = (1 + sim_df.fillna(0)).cumprod()\n",
      "C:\\Users\\PC2\\Downloads\\challange_5\\UTOR-VIRT-FIN-PT-08-2023-U-LOLC-main-05-APIs-Unit 5 Homework\\05-APIs\\Unit 5 Homework\\Instructions\\Starter_Code\\MCForecastTools.py:117: PerformanceWarning: DataFrame is highly fragmented.  This is usually the result of calling `frame.insert` many times, which has poor performance.  Consider joining all columns at once using pd.concat(axis=1) instead. To get a de-fragmented frame, use `newframe = frame.copy()`\n",
      "  portfolio_cumulative_returns[n] = (1 + sim_df.fillna(0)).cumprod()\n",
      "C:\\Users\\PC2\\Downloads\\challange_5\\UTOR-VIRT-FIN-PT-08-2023-U-LOLC-main-05-APIs-Unit 5 Homework\\05-APIs\\Unit 5 Homework\\Instructions\\Starter_Code\\MCForecastTools.py:117: PerformanceWarning: DataFrame is highly fragmented.  This is usually the result of calling `frame.insert` many times, which has poor performance.  Consider joining all columns at once using pd.concat(axis=1) instead. To get a de-fragmented frame, use `newframe = frame.copy()`\n",
      "  portfolio_cumulative_returns[n] = (1 + sim_df.fillna(0)).cumprod()\n",
      "C:\\Users\\PC2\\Downloads\\challange_5\\UTOR-VIRT-FIN-PT-08-2023-U-LOLC-main-05-APIs-Unit 5 Homework\\05-APIs\\Unit 5 Homework\\Instructions\\Starter_Code\\MCForecastTools.py:117: PerformanceWarning: DataFrame is highly fragmented.  This is usually the result of calling `frame.insert` many times, which has poor performance.  Consider joining all columns at once using pd.concat(axis=1) instead. To get a de-fragmented frame, use `newframe = frame.copy()`\n",
      "  portfolio_cumulative_returns[n] = (1 + sim_df.fillna(0)).cumprod()\n",
      "C:\\Users\\PC2\\Downloads\\challange_5\\UTOR-VIRT-FIN-PT-08-2023-U-LOLC-main-05-APIs-Unit 5 Homework\\05-APIs\\Unit 5 Homework\\Instructions\\Starter_Code\\MCForecastTools.py:117: PerformanceWarning: DataFrame is highly fragmented.  This is usually the result of calling `frame.insert` many times, which has poor performance.  Consider joining all columns at once using pd.concat(axis=1) instead. To get a de-fragmented frame, use `newframe = frame.copy()`\n",
      "  portfolio_cumulative_returns[n] = (1 + sim_df.fillna(0)).cumprod()\n",
      "C:\\Users\\PC2\\Downloads\\challange_5\\UTOR-VIRT-FIN-PT-08-2023-U-LOLC-main-05-APIs-Unit 5 Homework\\05-APIs\\Unit 5 Homework\\Instructions\\Starter_Code\\MCForecastTools.py:117: PerformanceWarning: DataFrame is highly fragmented.  This is usually the result of calling `frame.insert` many times, which has poor performance.  Consider joining all columns at once using pd.concat(axis=1) instead. To get a de-fragmented frame, use `newframe = frame.copy()`\n",
      "  portfolio_cumulative_returns[n] = (1 + sim_df.fillna(0)).cumprod()\n",
      "C:\\Users\\PC2\\Downloads\\challange_5\\UTOR-VIRT-FIN-PT-08-2023-U-LOLC-main-05-APIs-Unit 5 Homework\\05-APIs\\Unit 5 Homework\\Instructions\\Starter_Code\\MCForecastTools.py:117: PerformanceWarning: DataFrame is highly fragmented.  This is usually the result of calling `frame.insert` many times, which has poor performance.  Consider joining all columns at once using pd.concat(axis=1) instead. To get a de-fragmented frame, use `newframe = frame.copy()`\n",
      "  portfolio_cumulative_returns[n] = (1 + sim_df.fillna(0)).cumprod()\n",
      "C:\\Users\\PC2\\Downloads\\challange_5\\UTOR-VIRT-FIN-PT-08-2023-U-LOLC-main-05-APIs-Unit 5 Homework\\05-APIs\\Unit 5 Homework\\Instructions\\Starter_Code\\MCForecastTools.py:117: PerformanceWarning: DataFrame is highly fragmented.  This is usually the result of calling `frame.insert` many times, which has poor performance.  Consider joining all columns at once using pd.concat(axis=1) instead. To get a de-fragmented frame, use `newframe = frame.copy()`\n",
      "  portfolio_cumulative_returns[n] = (1 + sim_df.fillna(0)).cumprod()\n",
      "C:\\Users\\PC2\\Downloads\\challange_5\\UTOR-VIRT-FIN-PT-08-2023-U-LOLC-main-05-APIs-Unit 5 Homework\\05-APIs\\Unit 5 Homework\\Instructions\\Starter_Code\\MCForecastTools.py:117: PerformanceWarning: DataFrame is highly fragmented.  This is usually the result of calling `frame.insert` many times, which has poor performance.  Consider joining all columns at once using pd.concat(axis=1) instead. To get a de-fragmented frame, use `newframe = frame.copy()`\n",
      "  portfolio_cumulative_returns[n] = (1 + sim_df.fillna(0)).cumprod()\n"
     ]
    },
    {
     "name": "stdout",
     "output_type": "stream",
     "text": [
      "Running Monte Carlo simulation number 380.\n"
     ]
    },
    {
     "name": "stderr",
     "output_type": "stream",
     "text": [
      "C:\\Users\\PC2\\Downloads\\challange_5\\UTOR-VIRT-FIN-PT-08-2023-U-LOLC-main-05-APIs-Unit 5 Homework\\05-APIs\\Unit 5 Homework\\Instructions\\Starter_Code\\MCForecastTools.py:117: PerformanceWarning: DataFrame is highly fragmented.  This is usually the result of calling `frame.insert` many times, which has poor performance.  Consider joining all columns at once using pd.concat(axis=1) instead. To get a de-fragmented frame, use `newframe = frame.copy()`\n",
      "  portfolio_cumulative_returns[n] = (1 + sim_df.fillna(0)).cumprod()\n",
      "C:\\Users\\PC2\\Downloads\\challange_5\\UTOR-VIRT-FIN-PT-08-2023-U-LOLC-main-05-APIs-Unit 5 Homework\\05-APIs\\Unit 5 Homework\\Instructions\\Starter_Code\\MCForecastTools.py:117: PerformanceWarning: DataFrame is highly fragmented.  This is usually the result of calling `frame.insert` many times, which has poor performance.  Consider joining all columns at once using pd.concat(axis=1) instead. To get a de-fragmented frame, use `newframe = frame.copy()`\n",
      "  portfolio_cumulative_returns[n] = (1 + sim_df.fillna(0)).cumprod()\n",
      "C:\\Users\\PC2\\Downloads\\challange_5\\UTOR-VIRT-FIN-PT-08-2023-U-LOLC-main-05-APIs-Unit 5 Homework\\05-APIs\\Unit 5 Homework\\Instructions\\Starter_Code\\MCForecastTools.py:117: PerformanceWarning: DataFrame is highly fragmented.  This is usually the result of calling `frame.insert` many times, which has poor performance.  Consider joining all columns at once using pd.concat(axis=1) instead. To get a de-fragmented frame, use `newframe = frame.copy()`\n",
      "  portfolio_cumulative_returns[n] = (1 + sim_df.fillna(0)).cumprod()\n",
      "C:\\Users\\PC2\\Downloads\\challange_5\\UTOR-VIRT-FIN-PT-08-2023-U-LOLC-main-05-APIs-Unit 5 Homework\\05-APIs\\Unit 5 Homework\\Instructions\\Starter_Code\\MCForecastTools.py:117: PerformanceWarning: DataFrame is highly fragmented.  This is usually the result of calling `frame.insert` many times, which has poor performance.  Consider joining all columns at once using pd.concat(axis=1) instead. To get a de-fragmented frame, use `newframe = frame.copy()`\n",
      "  portfolio_cumulative_returns[n] = (1 + sim_df.fillna(0)).cumprod()\n",
      "C:\\Users\\PC2\\Downloads\\challange_5\\UTOR-VIRT-FIN-PT-08-2023-U-LOLC-main-05-APIs-Unit 5 Homework\\05-APIs\\Unit 5 Homework\\Instructions\\Starter_Code\\MCForecastTools.py:117: PerformanceWarning: DataFrame is highly fragmented.  This is usually the result of calling `frame.insert` many times, which has poor performance.  Consider joining all columns at once using pd.concat(axis=1) instead. To get a de-fragmented frame, use `newframe = frame.copy()`\n",
      "  portfolio_cumulative_returns[n] = (1 + sim_df.fillna(0)).cumprod()\n",
      "C:\\Users\\PC2\\Downloads\\challange_5\\UTOR-VIRT-FIN-PT-08-2023-U-LOLC-main-05-APIs-Unit 5 Homework\\05-APIs\\Unit 5 Homework\\Instructions\\Starter_Code\\MCForecastTools.py:117: PerformanceWarning: DataFrame is highly fragmented.  This is usually the result of calling `frame.insert` many times, which has poor performance.  Consider joining all columns at once using pd.concat(axis=1) instead. To get a de-fragmented frame, use `newframe = frame.copy()`\n",
      "  portfolio_cumulative_returns[n] = (1 + sim_df.fillna(0)).cumprod()\n",
      "C:\\Users\\PC2\\Downloads\\challange_5\\UTOR-VIRT-FIN-PT-08-2023-U-LOLC-main-05-APIs-Unit 5 Homework\\05-APIs\\Unit 5 Homework\\Instructions\\Starter_Code\\MCForecastTools.py:117: PerformanceWarning: DataFrame is highly fragmented.  This is usually the result of calling `frame.insert` many times, which has poor performance.  Consider joining all columns at once using pd.concat(axis=1) instead. To get a de-fragmented frame, use `newframe = frame.copy()`\n",
      "  portfolio_cumulative_returns[n] = (1 + sim_df.fillna(0)).cumprod()\n",
      "C:\\Users\\PC2\\Downloads\\challange_5\\UTOR-VIRT-FIN-PT-08-2023-U-LOLC-main-05-APIs-Unit 5 Homework\\05-APIs\\Unit 5 Homework\\Instructions\\Starter_Code\\MCForecastTools.py:117: PerformanceWarning: DataFrame is highly fragmented.  This is usually the result of calling `frame.insert` many times, which has poor performance.  Consider joining all columns at once using pd.concat(axis=1) instead. To get a de-fragmented frame, use `newframe = frame.copy()`\n",
      "  portfolio_cumulative_returns[n] = (1 + sim_df.fillna(0)).cumprod()\n",
      "C:\\Users\\PC2\\Downloads\\challange_5\\UTOR-VIRT-FIN-PT-08-2023-U-LOLC-main-05-APIs-Unit 5 Homework\\05-APIs\\Unit 5 Homework\\Instructions\\Starter_Code\\MCForecastTools.py:117: PerformanceWarning: DataFrame is highly fragmented.  This is usually the result of calling `frame.insert` many times, which has poor performance.  Consider joining all columns at once using pd.concat(axis=1) instead. To get a de-fragmented frame, use `newframe = frame.copy()`\n",
      "  portfolio_cumulative_returns[n] = (1 + sim_df.fillna(0)).cumprod()\n",
      "C:\\Users\\PC2\\Downloads\\challange_5\\UTOR-VIRT-FIN-PT-08-2023-U-LOLC-main-05-APIs-Unit 5 Homework\\05-APIs\\Unit 5 Homework\\Instructions\\Starter_Code\\MCForecastTools.py:117: PerformanceWarning: DataFrame is highly fragmented.  This is usually the result of calling `frame.insert` many times, which has poor performance.  Consider joining all columns at once using pd.concat(axis=1) instead. To get a de-fragmented frame, use `newframe = frame.copy()`\n",
      "  portfolio_cumulative_returns[n] = (1 + sim_df.fillna(0)).cumprod()\n"
     ]
    },
    {
     "name": "stdout",
     "output_type": "stream",
     "text": [
      "Running Monte Carlo simulation number 390.\n"
     ]
    },
    {
     "name": "stderr",
     "output_type": "stream",
     "text": [
      "C:\\Users\\PC2\\Downloads\\challange_5\\UTOR-VIRT-FIN-PT-08-2023-U-LOLC-main-05-APIs-Unit 5 Homework\\05-APIs\\Unit 5 Homework\\Instructions\\Starter_Code\\MCForecastTools.py:117: PerformanceWarning: DataFrame is highly fragmented.  This is usually the result of calling `frame.insert` many times, which has poor performance.  Consider joining all columns at once using pd.concat(axis=1) instead. To get a de-fragmented frame, use `newframe = frame.copy()`\n",
      "  portfolio_cumulative_returns[n] = (1 + sim_df.fillna(0)).cumprod()\n",
      "C:\\Users\\PC2\\Downloads\\challange_5\\UTOR-VIRT-FIN-PT-08-2023-U-LOLC-main-05-APIs-Unit 5 Homework\\05-APIs\\Unit 5 Homework\\Instructions\\Starter_Code\\MCForecastTools.py:117: PerformanceWarning: DataFrame is highly fragmented.  This is usually the result of calling `frame.insert` many times, which has poor performance.  Consider joining all columns at once using pd.concat(axis=1) instead. To get a de-fragmented frame, use `newframe = frame.copy()`\n",
      "  portfolio_cumulative_returns[n] = (1 + sim_df.fillna(0)).cumprod()\n",
      "C:\\Users\\PC2\\Downloads\\challange_5\\UTOR-VIRT-FIN-PT-08-2023-U-LOLC-main-05-APIs-Unit 5 Homework\\05-APIs\\Unit 5 Homework\\Instructions\\Starter_Code\\MCForecastTools.py:117: PerformanceWarning: DataFrame is highly fragmented.  This is usually the result of calling `frame.insert` many times, which has poor performance.  Consider joining all columns at once using pd.concat(axis=1) instead. To get a de-fragmented frame, use `newframe = frame.copy()`\n",
      "  portfolio_cumulative_returns[n] = (1 + sim_df.fillna(0)).cumprod()\n",
      "C:\\Users\\PC2\\Downloads\\challange_5\\UTOR-VIRT-FIN-PT-08-2023-U-LOLC-main-05-APIs-Unit 5 Homework\\05-APIs\\Unit 5 Homework\\Instructions\\Starter_Code\\MCForecastTools.py:117: PerformanceWarning: DataFrame is highly fragmented.  This is usually the result of calling `frame.insert` many times, which has poor performance.  Consider joining all columns at once using pd.concat(axis=1) instead. To get a de-fragmented frame, use `newframe = frame.copy()`\n",
      "  portfolio_cumulative_returns[n] = (1 + sim_df.fillna(0)).cumprod()\n",
      "C:\\Users\\PC2\\Downloads\\challange_5\\UTOR-VIRT-FIN-PT-08-2023-U-LOLC-main-05-APIs-Unit 5 Homework\\05-APIs\\Unit 5 Homework\\Instructions\\Starter_Code\\MCForecastTools.py:117: PerformanceWarning: DataFrame is highly fragmented.  This is usually the result of calling `frame.insert` many times, which has poor performance.  Consider joining all columns at once using pd.concat(axis=1) instead. To get a de-fragmented frame, use `newframe = frame.copy()`\n",
      "  portfolio_cumulative_returns[n] = (1 + sim_df.fillna(0)).cumprod()\n",
      "C:\\Users\\PC2\\Downloads\\challange_5\\UTOR-VIRT-FIN-PT-08-2023-U-LOLC-main-05-APIs-Unit 5 Homework\\05-APIs\\Unit 5 Homework\\Instructions\\Starter_Code\\MCForecastTools.py:117: PerformanceWarning: DataFrame is highly fragmented.  This is usually the result of calling `frame.insert` many times, which has poor performance.  Consider joining all columns at once using pd.concat(axis=1) instead. To get a de-fragmented frame, use `newframe = frame.copy()`\n",
      "  portfolio_cumulative_returns[n] = (1 + sim_df.fillna(0)).cumprod()\n",
      "C:\\Users\\PC2\\Downloads\\challange_5\\UTOR-VIRT-FIN-PT-08-2023-U-LOLC-main-05-APIs-Unit 5 Homework\\05-APIs\\Unit 5 Homework\\Instructions\\Starter_Code\\MCForecastTools.py:117: PerformanceWarning: DataFrame is highly fragmented.  This is usually the result of calling `frame.insert` many times, which has poor performance.  Consider joining all columns at once using pd.concat(axis=1) instead. To get a de-fragmented frame, use `newframe = frame.copy()`\n",
      "  portfolio_cumulative_returns[n] = (1 + sim_df.fillna(0)).cumprod()\n",
      "C:\\Users\\PC2\\Downloads\\challange_5\\UTOR-VIRT-FIN-PT-08-2023-U-LOLC-main-05-APIs-Unit 5 Homework\\05-APIs\\Unit 5 Homework\\Instructions\\Starter_Code\\MCForecastTools.py:117: PerformanceWarning: DataFrame is highly fragmented.  This is usually the result of calling `frame.insert` many times, which has poor performance.  Consider joining all columns at once using pd.concat(axis=1) instead. To get a de-fragmented frame, use `newframe = frame.copy()`\n",
      "  portfolio_cumulative_returns[n] = (1 + sim_df.fillna(0)).cumprod()\n",
      "C:\\Users\\PC2\\Downloads\\challange_5\\UTOR-VIRT-FIN-PT-08-2023-U-LOLC-main-05-APIs-Unit 5 Homework\\05-APIs\\Unit 5 Homework\\Instructions\\Starter_Code\\MCForecastTools.py:117: PerformanceWarning: DataFrame is highly fragmented.  This is usually the result of calling `frame.insert` many times, which has poor performance.  Consider joining all columns at once using pd.concat(axis=1) instead. To get a de-fragmented frame, use `newframe = frame.copy()`\n",
      "  portfolio_cumulative_returns[n] = (1 + sim_df.fillna(0)).cumprod()\n",
      "C:\\Users\\PC2\\Downloads\\challange_5\\UTOR-VIRT-FIN-PT-08-2023-U-LOLC-main-05-APIs-Unit 5 Homework\\05-APIs\\Unit 5 Homework\\Instructions\\Starter_Code\\MCForecastTools.py:117: PerformanceWarning: DataFrame is highly fragmented.  This is usually the result of calling `frame.insert` many times, which has poor performance.  Consider joining all columns at once using pd.concat(axis=1) instead. To get a de-fragmented frame, use `newframe = frame.copy()`\n",
      "  portfolio_cumulative_returns[n] = (1 + sim_df.fillna(0)).cumprod()\n"
     ]
    },
    {
     "name": "stdout",
     "output_type": "stream",
     "text": [
      "Running Monte Carlo simulation number 400.\n"
     ]
    },
    {
     "name": "stderr",
     "output_type": "stream",
     "text": [
      "C:\\Users\\PC2\\Downloads\\challange_5\\UTOR-VIRT-FIN-PT-08-2023-U-LOLC-main-05-APIs-Unit 5 Homework\\05-APIs\\Unit 5 Homework\\Instructions\\Starter_Code\\MCForecastTools.py:117: PerformanceWarning: DataFrame is highly fragmented.  This is usually the result of calling `frame.insert` many times, which has poor performance.  Consider joining all columns at once using pd.concat(axis=1) instead. To get a de-fragmented frame, use `newframe = frame.copy()`\n",
      "  portfolio_cumulative_returns[n] = (1 + sim_df.fillna(0)).cumprod()\n",
      "C:\\Users\\PC2\\Downloads\\challange_5\\UTOR-VIRT-FIN-PT-08-2023-U-LOLC-main-05-APIs-Unit 5 Homework\\05-APIs\\Unit 5 Homework\\Instructions\\Starter_Code\\MCForecastTools.py:117: PerformanceWarning: DataFrame is highly fragmented.  This is usually the result of calling `frame.insert` many times, which has poor performance.  Consider joining all columns at once using pd.concat(axis=1) instead. To get a de-fragmented frame, use `newframe = frame.copy()`\n",
      "  portfolio_cumulative_returns[n] = (1 + sim_df.fillna(0)).cumprod()\n",
      "C:\\Users\\PC2\\Downloads\\challange_5\\UTOR-VIRT-FIN-PT-08-2023-U-LOLC-main-05-APIs-Unit 5 Homework\\05-APIs\\Unit 5 Homework\\Instructions\\Starter_Code\\MCForecastTools.py:117: PerformanceWarning: DataFrame is highly fragmented.  This is usually the result of calling `frame.insert` many times, which has poor performance.  Consider joining all columns at once using pd.concat(axis=1) instead. To get a de-fragmented frame, use `newframe = frame.copy()`\n",
      "  portfolio_cumulative_returns[n] = (1 + sim_df.fillna(0)).cumprod()\n",
      "C:\\Users\\PC2\\Downloads\\challange_5\\UTOR-VIRT-FIN-PT-08-2023-U-LOLC-main-05-APIs-Unit 5 Homework\\05-APIs\\Unit 5 Homework\\Instructions\\Starter_Code\\MCForecastTools.py:117: PerformanceWarning: DataFrame is highly fragmented.  This is usually the result of calling `frame.insert` many times, which has poor performance.  Consider joining all columns at once using pd.concat(axis=1) instead. To get a de-fragmented frame, use `newframe = frame.copy()`\n",
      "  portfolio_cumulative_returns[n] = (1 + sim_df.fillna(0)).cumprod()\n",
      "C:\\Users\\PC2\\Downloads\\challange_5\\UTOR-VIRT-FIN-PT-08-2023-U-LOLC-main-05-APIs-Unit 5 Homework\\05-APIs\\Unit 5 Homework\\Instructions\\Starter_Code\\MCForecastTools.py:117: PerformanceWarning: DataFrame is highly fragmented.  This is usually the result of calling `frame.insert` many times, which has poor performance.  Consider joining all columns at once using pd.concat(axis=1) instead. To get a de-fragmented frame, use `newframe = frame.copy()`\n",
      "  portfolio_cumulative_returns[n] = (1 + sim_df.fillna(0)).cumprod()\n",
      "C:\\Users\\PC2\\Downloads\\challange_5\\UTOR-VIRT-FIN-PT-08-2023-U-LOLC-main-05-APIs-Unit 5 Homework\\05-APIs\\Unit 5 Homework\\Instructions\\Starter_Code\\MCForecastTools.py:117: PerformanceWarning: DataFrame is highly fragmented.  This is usually the result of calling `frame.insert` many times, which has poor performance.  Consider joining all columns at once using pd.concat(axis=1) instead. To get a de-fragmented frame, use `newframe = frame.copy()`\n",
      "  portfolio_cumulative_returns[n] = (1 + sim_df.fillna(0)).cumprod()\n",
      "C:\\Users\\PC2\\Downloads\\challange_5\\UTOR-VIRT-FIN-PT-08-2023-U-LOLC-main-05-APIs-Unit 5 Homework\\05-APIs\\Unit 5 Homework\\Instructions\\Starter_Code\\MCForecastTools.py:117: PerformanceWarning: DataFrame is highly fragmented.  This is usually the result of calling `frame.insert` many times, which has poor performance.  Consider joining all columns at once using pd.concat(axis=1) instead. To get a de-fragmented frame, use `newframe = frame.copy()`\n",
      "  portfolio_cumulative_returns[n] = (1 + sim_df.fillna(0)).cumprod()\n",
      "C:\\Users\\PC2\\Downloads\\challange_5\\UTOR-VIRT-FIN-PT-08-2023-U-LOLC-main-05-APIs-Unit 5 Homework\\05-APIs\\Unit 5 Homework\\Instructions\\Starter_Code\\MCForecastTools.py:117: PerformanceWarning: DataFrame is highly fragmented.  This is usually the result of calling `frame.insert` many times, which has poor performance.  Consider joining all columns at once using pd.concat(axis=1) instead. To get a de-fragmented frame, use `newframe = frame.copy()`\n",
      "  portfolio_cumulative_returns[n] = (1 + sim_df.fillna(0)).cumprod()\n",
      "C:\\Users\\PC2\\Downloads\\challange_5\\UTOR-VIRT-FIN-PT-08-2023-U-LOLC-main-05-APIs-Unit 5 Homework\\05-APIs\\Unit 5 Homework\\Instructions\\Starter_Code\\MCForecastTools.py:117: PerformanceWarning: DataFrame is highly fragmented.  This is usually the result of calling `frame.insert` many times, which has poor performance.  Consider joining all columns at once using pd.concat(axis=1) instead. To get a de-fragmented frame, use `newframe = frame.copy()`\n",
      "  portfolio_cumulative_returns[n] = (1 + sim_df.fillna(0)).cumprod()\n",
      "C:\\Users\\PC2\\Downloads\\challange_5\\UTOR-VIRT-FIN-PT-08-2023-U-LOLC-main-05-APIs-Unit 5 Homework\\05-APIs\\Unit 5 Homework\\Instructions\\Starter_Code\\MCForecastTools.py:117: PerformanceWarning: DataFrame is highly fragmented.  This is usually the result of calling `frame.insert` many times, which has poor performance.  Consider joining all columns at once using pd.concat(axis=1) instead. To get a de-fragmented frame, use `newframe = frame.copy()`\n",
      "  portfolio_cumulative_returns[n] = (1 + sim_df.fillna(0)).cumprod()\n"
     ]
    },
    {
     "name": "stdout",
     "output_type": "stream",
     "text": [
      "Running Monte Carlo simulation number 410.\n"
     ]
    },
    {
     "name": "stderr",
     "output_type": "stream",
     "text": [
      "C:\\Users\\PC2\\Downloads\\challange_5\\UTOR-VIRT-FIN-PT-08-2023-U-LOLC-main-05-APIs-Unit 5 Homework\\05-APIs\\Unit 5 Homework\\Instructions\\Starter_Code\\MCForecastTools.py:117: PerformanceWarning: DataFrame is highly fragmented.  This is usually the result of calling `frame.insert` many times, which has poor performance.  Consider joining all columns at once using pd.concat(axis=1) instead. To get a de-fragmented frame, use `newframe = frame.copy()`\n",
      "  portfolio_cumulative_returns[n] = (1 + sim_df.fillna(0)).cumprod()\n",
      "C:\\Users\\PC2\\Downloads\\challange_5\\UTOR-VIRT-FIN-PT-08-2023-U-LOLC-main-05-APIs-Unit 5 Homework\\05-APIs\\Unit 5 Homework\\Instructions\\Starter_Code\\MCForecastTools.py:117: PerformanceWarning: DataFrame is highly fragmented.  This is usually the result of calling `frame.insert` many times, which has poor performance.  Consider joining all columns at once using pd.concat(axis=1) instead. To get a de-fragmented frame, use `newframe = frame.copy()`\n",
      "  portfolio_cumulative_returns[n] = (1 + sim_df.fillna(0)).cumprod()\n",
      "C:\\Users\\PC2\\Downloads\\challange_5\\UTOR-VIRT-FIN-PT-08-2023-U-LOLC-main-05-APIs-Unit 5 Homework\\05-APIs\\Unit 5 Homework\\Instructions\\Starter_Code\\MCForecastTools.py:117: PerformanceWarning: DataFrame is highly fragmented.  This is usually the result of calling `frame.insert` many times, which has poor performance.  Consider joining all columns at once using pd.concat(axis=1) instead. To get a de-fragmented frame, use `newframe = frame.copy()`\n",
      "  portfolio_cumulative_returns[n] = (1 + sim_df.fillna(0)).cumprod()\n",
      "C:\\Users\\PC2\\Downloads\\challange_5\\UTOR-VIRT-FIN-PT-08-2023-U-LOLC-main-05-APIs-Unit 5 Homework\\05-APIs\\Unit 5 Homework\\Instructions\\Starter_Code\\MCForecastTools.py:117: PerformanceWarning: DataFrame is highly fragmented.  This is usually the result of calling `frame.insert` many times, which has poor performance.  Consider joining all columns at once using pd.concat(axis=1) instead. To get a de-fragmented frame, use `newframe = frame.copy()`\n",
      "  portfolio_cumulative_returns[n] = (1 + sim_df.fillna(0)).cumprod()\n",
      "C:\\Users\\PC2\\Downloads\\challange_5\\UTOR-VIRT-FIN-PT-08-2023-U-LOLC-main-05-APIs-Unit 5 Homework\\05-APIs\\Unit 5 Homework\\Instructions\\Starter_Code\\MCForecastTools.py:117: PerformanceWarning: DataFrame is highly fragmented.  This is usually the result of calling `frame.insert` many times, which has poor performance.  Consider joining all columns at once using pd.concat(axis=1) instead. To get a de-fragmented frame, use `newframe = frame.copy()`\n",
      "  portfolio_cumulative_returns[n] = (1 + sim_df.fillna(0)).cumprod()\n",
      "C:\\Users\\PC2\\Downloads\\challange_5\\UTOR-VIRT-FIN-PT-08-2023-U-LOLC-main-05-APIs-Unit 5 Homework\\05-APIs\\Unit 5 Homework\\Instructions\\Starter_Code\\MCForecastTools.py:117: PerformanceWarning: DataFrame is highly fragmented.  This is usually the result of calling `frame.insert` many times, which has poor performance.  Consider joining all columns at once using pd.concat(axis=1) instead. To get a de-fragmented frame, use `newframe = frame.copy()`\n",
      "  portfolio_cumulative_returns[n] = (1 + sim_df.fillna(0)).cumprod()\n",
      "C:\\Users\\PC2\\Downloads\\challange_5\\UTOR-VIRT-FIN-PT-08-2023-U-LOLC-main-05-APIs-Unit 5 Homework\\05-APIs\\Unit 5 Homework\\Instructions\\Starter_Code\\MCForecastTools.py:117: PerformanceWarning: DataFrame is highly fragmented.  This is usually the result of calling `frame.insert` many times, which has poor performance.  Consider joining all columns at once using pd.concat(axis=1) instead. To get a de-fragmented frame, use `newframe = frame.copy()`\n",
      "  portfolio_cumulative_returns[n] = (1 + sim_df.fillna(0)).cumprod()\n",
      "C:\\Users\\PC2\\Downloads\\challange_5\\UTOR-VIRT-FIN-PT-08-2023-U-LOLC-main-05-APIs-Unit 5 Homework\\05-APIs\\Unit 5 Homework\\Instructions\\Starter_Code\\MCForecastTools.py:117: PerformanceWarning: DataFrame is highly fragmented.  This is usually the result of calling `frame.insert` many times, which has poor performance.  Consider joining all columns at once using pd.concat(axis=1) instead. To get a de-fragmented frame, use `newframe = frame.copy()`\n",
      "  portfolio_cumulative_returns[n] = (1 + sim_df.fillna(0)).cumprod()\n",
      "C:\\Users\\PC2\\Downloads\\challange_5\\UTOR-VIRT-FIN-PT-08-2023-U-LOLC-main-05-APIs-Unit 5 Homework\\05-APIs\\Unit 5 Homework\\Instructions\\Starter_Code\\MCForecastTools.py:117: PerformanceWarning: DataFrame is highly fragmented.  This is usually the result of calling `frame.insert` many times, which has poor performance.  Consider joining all columns at once using pd.concat(axis=1) instead. To get a de-fragmented frame, use `newframe = frame.copy()`\n",
      "  portfolio_cumulative_returns[n] = (1 + sim_df.fillna(0)).cumprod()\n",
      "C:\\Users\\PC2\\Downloads\\challange_5\\UTOR-VIRT-FIN-PT-08-2023-U-LOLC-main-05-APIs-Unit 5 Homework\\05-APIs\\Unit 5 Homework\\Instructions\\Starter_Code\\MCForecastTools.py:117: PerformanceWarning: DataFrame is highly fragmented.  This is usually the result of calling `frame.insert` many times, which has poor performance.  Consider joining all columns at once using pd.concat(axis=1) instead. To get a de-fragmented frame, use `newframe = frame.copy()`\n",
      "  portfolio_cumulative_returns[n] = (1 + sim_df.fillna(0)).cumprod()\n"
     ]
    },
    {
     "name": "stdout",
     "output_type": "stream",
     "text": [
      "Running Monte Carlo simulation number 420.\n"
     ]
    },
    {
     "name": "stderr",
     "output_type": "stream",
     "text": [
      "C:\\Users\\PC2\\Downloads\\challange_5\\UTOR-VIRT-FIN-PT-08-2023-U-LOLC-main-05-APIs-Unit 5 Homework\\05-APIs\\Unit 5 Homework\\Instructions\\Starter_Code\\MCForecastTools.py:117: PerformanceWarning: DataFrame is highly fragmented.  This is usually the result of calling `frame.insert` many times, which has poor performance.  Consider joining all columns at once using pd.concat(axis=1) instead. To get a de-fragmented frame, use `newframe = frame.copy()`\n",
      "  portfolio_cumulative_returns[n] = (1 + sim_df.fillna(0)).cumprod()\n",
      "C:\\Users\\PC2\\Downloads\\challange_5\\UTOR-VIRT-FIN-PT-08-2023-U-LOLC-main-05-APIs-Unit 5 Homework\\05-APIs\\Unit 5 Homework\\Instructions\\Starter_Code\\MCForecastTools.py:117: PerformanceWarning: DataFrame is highly fragmented.  This is usually the result of calling `frame.insert` many times, which has poor performance.  Consider joining all columns at once using pd.concat(axis=1) instead. To get a de-fragmented frame, use `newframe = frame.copy()`\n",
      "  portfolio_cumulative_returns[n] = (1 + sim_df.fillna(0)).cumprod()\n",
      "C:\\Users\\PC2\\Downloads\\challange_5\\UTOR-VIRT-FIN-PT-08-2023-U-LOLC-main-05-APIs-Unit 5 Homework\\05-APIs\\Unit 5 Homework\\Instructions\\Starter_Code\\MCForecastTools.py:117: PerformanceWarning: DataFrame is highly fragmented.  This is usually the result of calling `frame.insert` many times, which has poor performance.  Consider joining all columns at once using pd.concat(axis=1) instead. To get a de-fragmented frame, use `newframe = frame.copy()`\n",
      "  portfolio_cumulative_returns[n] = (1 + sim_df.fillna(0)).cumprod()\n",
      "C:\\Users\\PC2\\Downloads\\challange_5\\UTOR-VIRT-FIN-PT-08-2023-U-LOLC-main-05-APIs-Unit 5 Homework\\05-APIs\\Unit 5 Homework\\Instructions\\Starter_Code\\MCForecastTools.py:117: PerformanceWarning: DataFrame is highly fragmented.  This is usually the result of calling `frame.insert` many times, which has poor performance.  Consider joining all columns at once using pd.concat(axis=1) instead. To get a de-fragmented frame, use `newframe = frame.copy()`\n",
      "  portfolio_cumulative_returns[n] = (1 + sim_df.fillna(0)).cumprod()\n",
      "C:\\Users\\PC2\\Downloads\\challange_5\\UTOR-VIRT-FIN-PT-08-2023-U-LOLC-main-05-APIs-Unit 5 Homework\\05-APIs\\Unit 5 Homework\\Instructions\\Starter_Code\\MCForecastTools.py:117: PerformanceWarning: DataFrame is highly fragmented.  This is usually the result of calling `frame.insert` many times, which has poor performance.  Consider joining all columns at once using pd.concat(axis=1) instead. To get a de-fragmented frame, use `newframe = frame.copy()`\n",
      "  portfolio_cumulative_returns[n] = (1 + sim_df.fillna(0)).cumprod()\n",
      "C:\\Users\\PC2\\Downloads\\challange_5\\UTOR-VIRT-FIN-PT-08-2023-U-LOLC-main-05-APIs-Unit 5 Homework\\05-APIs\\Unit 5 Homework\\Instructions\\Starter_Code\\MCForecastTools.py:117: PerformanceWarning: DataFrame is highly fragmented.  This is usually the result of calling `frame.insert` many times, which has poor performance.  Consider joining all columns at once using pd.concat(axis=1) instead. To get a de-fragmented frame, use `newframe = frame.copy()`\n",
      "  portfolio_cumulative_returns[n] = (1 + sim_df.fillna(0)).cumprod()\n",
      "C:\\Users\\PC2\\Downloads\\challange_5\\UTOR-VIRT-FIN-PT-08-2023-U-LOLC-main-05-APIs-Unit 5 Homework\\05-APIs\\Unit 5 Homework\\Instructions\\Starter_Code\\MCForecastTools.py:117: PerformanceWarning: DataFrame is highly fragmented.  This is usually the result of calling `frame.insert` many times, which has poor performance.  Consider joining all columns at once using pd.concat(axis=1) instead. To get a de-fragmented frame, use `newframe = frame.copy()`\n",
      "  portfolio_cumulative_returns[n] = (1 + sim_df.fillna(0)).cumprod()\n",
      "C:\\Users\\PC2\\Downloads\\challange_5\\UTOR-VIRT-FIN-PT-08-2023-U-LOLC-main-05-APIs-Unit 5 Homework\\05-APIs\\Unit 5 Homework\\Instructions\\Starter_Code\\MCForecastTools.py:117: PerformanceWarning: DataFrame is highly fragmented.  This is usually the result of calling `frame.insert` many times, which has poor performance.  Consider joining all columns at once using pd.concat(axis=1) instead. To get a de-fragmented frame, use `newframe = frame.copy()`\n",
      "  portfolio_cumulative_returns[n] = (1 + sim_df.fillna(0)).cumprod()\n",
      "C:\\Users\\PC2\\Downloads\\challange_5\\UTOR-VIRT-FIN-PT-08-2023-U-LOLC-main-05-APIs-Unit 5 Homework\\05-APIs\\Unit 5 Homework\\Instructions\\Starter_Code\\MCForecastTools.py:117: PerformanceWarning: DataFrame is highly fragmented.  This is usually the result of calling `frame.insert` many times, which has poor performance.  Consider joining all columns at once using pd.concat(axis=1) instead. To get a de-fragmented frame, use `newframe = frame.copy()`\n",
      "  portfolio_cumulative_returns[n] = (1 + sim_df.fillna(0)).cumprod()\n",
      "C:\\Users\\PC2\\Downloads\\challange_5\\UTOR-VIRT-FIN-PT-08-2023-U-LOLC-main-05-APIs-Unit 5 Homework\\05-APIs\\Unit 5 Homework\\Instructions\\Starter_Code\\MCForecastTools.py:117: PerformanceWarning: DataFrame is highly fragmented.  This is usually the result of calling `frame.insert` many times, which has poor performance.  Consider joining all columns at once using pd.concat(axis=1) instead. To get a de-fragmented frame, use `newframe = frame.copy()`\n",
      "  portfolio_cumulative_returns[n] = (1 + sim_df.fillna(0)).cumprod()\n"
     ]
    },
    {
     "name": "stdout",
     "output_type": "stream",
     "text": [
      "Running Monte Carlo simulation number 430.\n"
     ]
    },
    {
     "name": "stderr",
     "output_type": "stream",
     "text": [
      "C:\\Users\\PC2\\Downloads\\challange_5\\UTOR-VIRT-FIN-PT-08-2023-U-LOLC-main-05-APIs-Unit 5 Homework\\05-APIs\\Unit 5 Homework\\Instructions\\Starter_Code\\MCForecastTools.py:117: PerformanceWarning: DataFrame is highly fragmented.  This is usually the result of calling `frame.insert` many times, which has poor performance.  Consider joining all columns at once using pd.concat(axis=1) instead. To get a de-fragmented frame, use `newframe = frame.copy()`\n",
      "  portfolio_cumulative_returns[n] = (1 + sim_df.fillna(0)).cumprod()\n",
      "C:\\Users\\PC2\\Downloads\\challange_5\\UTOR-VIRT-FIN-PT-08-2023-U-LOLC-main-05-APIs-Unit 5 Homework\\05-APIs\\Unit 5 Homework\\Instructions\\Starter_Code\\MCForecastTools.py:117: PerformanceWarning: DataFrame is highly fragmented.  This is usually the result of calling `frame.insert` many times, which has poor performance.  Consider joining all columns at once using pd.concat(axis=1) instead. To get a de-fragmented frame, use `newframe = frame.copy()`\n",
      "  portfolio_cumulative_returns[n] = (1 + sim_df.fillna(0)).cumprod()\n",
      "C:\\Users\\PC2\\Downloads\\challange_5\\UTOR-VIRT-FIN-PT-08-2023-U-LOLC-main-05-APIs-Unit 5 Homework\\05-APIs\\Unit 5 Homework\\Instructions\\Starter_Code\\MCForecastTools.py:117: PerformanceWarning: DataFrame is highly fragmented.  This is usually the result of calling `frame.insert` many times, which has poor performance.  Consider joining all columns at once using pd.concat(axis=1) instead. To get a de-fragmented frame, use `newframe = frame.copy()`\n",
      "  portfolio_cumulative_returns[n] = (1 + sim_df.fillna(0)).cumprod()\n",
      "C:\\Users\\PC2\\Downloads\\challange_5\\UTOR-VIRT-FIN-PT-08-2023-U-LOLC-main-05-APIs-Unit 5 Homework\\05-APIs\\Unit 5 Homework\\Instructions\\Starter_Code\\MCForecastTools.py:117: PerformanceWarning: DataFrame is highly fragmented.  This is usually the result of calling `frame.insert` many times, which has poor performance.  Consider joining all columns at once using pd.concat(axis=1) instead. To get a de-fragmented frame, use `newframe = frame.copy()`\n",
      "  portfolio_cumulative_returns[n] = (1 + sim_df.fillna(0)).cumprod()\n",
      "C:\\Users\\PC2\\Downloads\\challange_5\\UTOR-VIRT-FIN-PT-08-2023-U-LOLC-main-05-APIs-Unit 5 Homework\\05-APIs\\Unit 5 Homework\\Instructions\\Starter_Code\\MCForecastTools.py:117: PerformanceWarning: DataFrame is highly fragmented.  This is usually the result of calling `frame.insert` many times, which has poor performance.  Consider joining all columns at once using pd.concat(axis=1) instead. To get a de-fragmented frame, use `newframe = frame.copy()`\n",
      "  portfolio_cumulative_returns[n] = (1 + sim_df.fillna(0)).cumprod()\n",
      "C:\\Users\\PC2\\Downloads\\challange_5\\UTOR-VIRT-FIN-PT-08-2023-U-LOLC-main-05-APIs-Unit 5 Homework\\05-APIs\\Unit 5 Homework\\Instructions\\Starter_Code\\MCForecastTools.py:117: PerformanceWarning: DataFrame is highly fragmented.  This is usually the result of calling `frame.insert` many times, which has poor performance.  Consider joining all columns at once using pd.concat(axis=1) instead. To get a de-fragmented frame, use `newframe = frame.copy()`\n",
      "  portfolio_cumulative_returns[n] = (1 + sim_df.fillna(0)).cumprod()\n",
      "C:\\Users\\PC2\\Downloads\\challange_5\\UTOR-VIRT-FIN-PT-08-2023-U-LOLC-main-05-APIs-Unit 5 Homework\\05-APIs\\Unit 5 Homework\\Instructions\\Starter_Code\\MCForecastTools.py:117: PerformanceWarning: DataFrame is highly fragmented.  This is usually the result of calling `frame.insert` many times, which has poor performance.  Consider joining all columns at once using pd.concat(axis=1) instead. To get a de-fragmented frame, use `newframe = frame.copy()`\n",
      "  portfolio_cumulative_returns[n] = (1 + sim_df.fillna(0)).cumprod()\n",
      "C:\\Users\\PC2\\Downloads\\challange_5\\UTOR-VIRT-FIN-PT-08-2023-U-LOLC-main-05-APIs-Unit 5 Homework\\05-APIs\\Unit 5 Homework\\Instructions\\Starter_Code\\MCForecastTools.py:117: PerformanceWarning: DataFrame is highly fragmented.  This is usually the result of calling `frame.insert` many times, which has poor performance.  Consider joining all columns at once using pd.concat(axis=1) instead. To get a de-fragmented frame, use `newframe = frame.copy()`\n",
      "  portfolio_cumulative_returns[n] = (1 + sim_df.fillna(0)).cumprod()\n",
      "C:\\Users\\PC2\\Downloads\\challange_5\\UTOR-VIRT-FIN-PT-08-2023-U-LOLC-main-05-APIs-Unit 5 Homework\\05-APIs\\Unit 5 Homework\\Instructions\\Starter_Code\\MCForecastTools.py:117: PerformanceWarning: DataFrame is highly fragmented.  This is usually the result of calling `frame.insert` many times, which has poor performance.  Consider joining all columns at once using pd.concat(axis=1) instead. To get a de-fragmented frame, use `newframe = frame.copy()`\n",
      "  portfolio_cumulative_returns[n] = (1 + sim_df.fillna(0)).cumprod()\n",
      "C:\\Users\\PC2\\Downloads\\challange_5\\UTOR-VIRT-FIN-PT-08-2023-U-LOLC-main-05-APIs-Unit 5 Homework\\05-APIs\\Unit 5 Homework\\Instructions\\Starter_Code\\MCForecastTools.py:117: PerformanceWarning: DataFrame is highly fragmented.  This is usually the result of calling `frame.insert` many times, which has poor performance.  Consider joining all columns at once using pd.concat(axis=1) instead. To get a de-fragmented frame, use `newframe = frame.copy()`\n",
      "  portfolio_cumulative_returns[n] = (1 + sim_df.fillna(0)).cumprod()\n"
     ]
    },
    {
     "name": "stdout",
     "output_type": "stream",
     "text": [
      "Running Monte Carlo simulation number 440.\n"
     ]
    },
    {
     "name": "stderr",
     "output_type": "stream",
     "text": [
      "C:\\Users\\PC2\\Downloads\\challange_5\\UTOR-VIRT-FIN-PT-08-2023-U-LOLC-main-05-APIs-Unit 5 Homework\\05-APIs\\Unit 5 Homework\\Instructions\\Starter_Code\\MCForecastTools.py:117: PerformanceWarning: DataFrame is highly fragmented.  This is usually the result of calling `frame.insert` many times, which has poor performance.  Consider joining all columns at once using pd.concat(axis=1) instead. To get a de-fragmented frame, use `newframe = frame.copy()`\n",
      "  portfolio_cumulative_returns[n] = (1 + sim_df.fillna(0)).cumprod()\n",
      "C:\\Users\\PC2\\Downloads\\challange_5\\UTOR-VIRT-FIN-PT-08-2023-U-LOLC-main-05-APIs-Unit 5 Homework\\05-APIs\\Unit 5 Homework\\Instructions\\Starter_Code\\MCForecastTools.py:117: PerformanceWarning: DataFrame is highly fragmented.  This is usually the result of calling `frame.insert` many times, which has poor performance.  Consider joining all columns at once using pd.concat(axis=1) instead. To get a de-fragmented frame, use `newframe = frame.copy()`\n",
      "  portfolio_cumulative_returns[n] = (1 + sim_df.fillna(0)).cumprod()\n",
      "C:\\Users\\PC2\\Downloads\\challange_5\\UTOR-VIRT-FIN-PT-08-2023-U-LOLC-main-05-APIs-Unit 5 Homework\\05-APIs\\Unit 5 Homework\\Instructions\\Starter_Code\\MCForecastTools.py:117: PerformanceWarning: DataFrame is highly fragmented.  This is usually the result of calling `frame.insert` many times, which has poor performance.  Consider joining all columns at once using pd.concat(axis=1) instead. To get a de-fragmented frame, use `newframe = frame.copy()`\n",
      "  portfolio_cumulative_returns[n] = (1 + sim_df.fillna(0)).cumprod()\n",
      "C:\\Users\\PC2\\Downloads\\challange_5\\UTOR-VIRT-FIN-PT-08-2023-U-LOLC-main-05-APIs-Unit 5 Homework\\05-APIs\\Unit 5 Homework\\Instructions\\Starter_Code\\MCForecastTools.py:117: PerformanceWarning: DataFrame is highly fragmented.  This is usually the result of calling `frame.insert` many times, which has poor performance.  Consider joining all columns at once using pd.concat(axis=1) instead. To get a de-fragmented frame, use `newframe = frame.copy()`\n",
      "  portfolio_cumulative_returns[n] = (1 + sim_df.fillna(0)).cumprod()\n",
      "C:\\Users\\PC2\\Downloads\\challange_5\\UTOR-VIRT-FIN-PT-08-2023-U-LOLC-main-05-APIs-Unit 5 Homework\\05-APIs\\Unit 5 Homework\\Instructions\\Starter_Code\\MCForecastTools.py:117: PerformanceWarning: DataFrame is highly fragmented.  This is usually the result of calling `frame.insert` many times, which has poor performance.  Consider joining all columns at once using pd.concat(axis=1) instead. To get a de-fragmented frame, use `newframe = frame.copy()`\n",
      "  portfolio_cumulative_returns[n] = (1 + sim_df.fillna(0)).cumprod()\n",
      "C:\\Users\\PC2\\Downloads\\challange_5\\UTOR-VIRT-FIN-PT-08-2023-U-LOLC-main-05-APIs-Unit 5 Homework\\05-APIs\\Unit 5 Homework\\Instructions\\Starter_Code\\MCForecastTools.py:117: PerformanceWarning: DataFrame is highly fragmented.  This is usually the result of calling `frame.insert` many times, which has poor performance.  Consider joining all columns at once using pd.concat(axis=1) instead. To get a de-fragmented frame, use `newframe = frame.copy()`\n",
      "  portfolio_cumulative_returns[n] = (1 + sim_df.fillna(0)).cumprod()\n",
      "C:\\Users\\PC2\\Downloads\\challange_5\\UTOR-VIRT-FIN-PT-08-2023-U-LOLC-main-05-APIs-Unit 5 Homework\\05-APIs\\Unit 5 Homework\\Instructions\\Starter_Code\\MCForecastTools.py:117: PerformanceWarning: DataFrame is highly fragmented.  This is usually the result of calling `frame.insert` many times, which has poor performance.  Consider joining all columns at once using pd.concat(axis=1) instead. To get a de-fragmented frame, use `newframe = frame.copy()`\n",
      "  portfolio_cumulative_returns[n] = (1 + sim_df.fillna(0)).cumprod()\n",
      "C:\\Users\\PC2\\Downloads\\challange_5\\UTOR-VIRT-FIN-PT-08-2023-U-LOLC-main-05-APIs-Unit 5 Homework\\05-APIs\\Unit 5 Homework\\Instructions\\Starter_Code\\MCForecastTools.py:117: PerformanceWarning: DataFrame is highly fragmented.  This is usually the result of calling `frame.insert` many times, which has poor performance.  Consider joining all columns at once using pd.concat(axis=1) instead. To get a de-fragmented frame, use `newframe = frame.copy()`\n",
      "  portfolio_cumulative_returns[n] = (1 + sim_df.fillna(0)).cumprod()\n",
      "C:\\Users\\PC2\\Downloads\\challange_5\\UTOR-VIRT-FIN-PT-08-2023-U-LOLC-main-05-APIs-Unit 5 Homework\\05-APIs\\Unit 5 Homework\\Instructions\\Starter_Code\\MCForecastTools.py:117: PerformanceWarning: DataFrame is highly fragmented.  This is usually the result of calling `frame.insert` many times, which has poor performance.  Consider joining all columns at once using pd.concat(axis=1) instead. To get a de-fragmented frame, use `newframe = frame.copy()`\n",
      "  portfolio_cumulative_returns[n] = (1 + sim_df.fillna(0)).cumprod()\n",
      "C:\\Users\\PC2\\Downloads\\challange_5\\UTOR-VIRT-FIN-PT-08-2023-U-LOLC-main-05-APIs-Unit 5 Homework\\05-APIs\\Unit 5 Homework\\Instructions\\Starter_Code\\MCForecastTools.py:117: PerformanceWarning: DataFrame is highly fragmented.  This is usually the result of calling `frame.insert` many times, which has poor performance.  Consider joining all columns at once using pd.concat(axis=1) instead. To get a de-fragmented frame, use `newframe = frame.copy()`\n",
      "  portfolio_cumulative_returns[n] = (1 + sim_df.fillna(0)).cumprod()\n"
     ]
    },
    {
     "name": "stdout",
     "output_type": "stream",
     "text": [
      "Running Monte Carlo simulation number 450.\n"
     ]
    },
    {
     "name": "stderr",
     "output_type": "stream",
     "text": [
      "C:\\Users\\PC2\\Downloads\\challange_5\\UTOR-VIRT-FIN-PT-08-2023-U-LOLC-main-05-APIs-Unit 5 Homework\\05-APIs\\Unit 5 Homework\\Instructions\\Starter_Code\\MCForecastTools.py:117: PerformanceWarning: DataFrame is highly fragmented.  This is usually the result of calling `frame.insert` many times, which has poor performance.  Consider joining all columns at once using pd.concat(axis=1) instead. To get a de-fragmented frame, use `newframe = frame.copy()`\n",
      "  portfolio_cumulative_returns[n] = (1 + sim_df.fillna(0)).cumprod()\n",
      "C:\\Users\\PC2\\Downloads\\challange_5\\UTOR-VIRT-FIN-PT-08-2023-U-LOLC-main-05-APIs-Unit 5 Homework\\05-APIs\\Unit 5 Homework\\Instructions\\Starter_Code\\MCForecastTools.py:117: PerformanceWarning: DataFrame is highly fragmented.  This is usually the result of calling `frame.insert` many times, which has poor performance.  Consider joining all columns at once using pd.concat(axis=1) instead. To get a de-fragmented frame, use `newframe = frame.copy()`\n",
      "  portfolio_cumulative_returns[n] = (1 + sim_df.fillna(0)).cumprod()\n",
      "C:\\Users\\PC2\\Downloads\\challange_5\\UTOR-VIRT-FIN-PT-08-2023-U-LOLC-main-05-APIs-Unit 5 Homework\\05-APIs\\Unit 5 Homework\\Instructions\\Starter_Code\\MCForecastTools.py:117: PerformanceWarning: DataFrame is highly fragmented.  This is usually the result of calling `frame.insert` many times, which has poor performance.  Consider joining all columns at once using pd.concat(axis=1) instead. To get a de-fragmented frame, use `newframe = frame.copy()`\n",
      "  portfolio_cumulative_returns[n] = (1 + sim_df.fillna(0)).cumprod()\n",
      "C:\\Users\\PC2\\Downloads\\challange_5\\UTOR-VIRT-FIN-PT-08-2023-U-LOLC-main-05-APIs-Unit 5 Homework\\05-APIs\\Unit 5 Homework\\Instructions\\Starter_Code\\MCForecastTools.py:117: PerformanceWarning: DataFrame is highly fragmented.  This is usually the result of calling `frame.insert` many times, which has poor performance.  Consider joining all columns at once using pd.concat(axis=1) instead. To get a de-fragmented frame, use `newframe = frame.copy()`\n",
      "  portfolio_cumulative_returns[n] = (1 + sim_df.fillna(0)).cumprod()\n",
      "C:\\Users\\PC2\\Downloads\\challange_5\\UTOR-VIRT-FIN-PT-08-2023-U-LOLC-main-05-APIs-Unit 5 Homework\\05-APIs\\Unit 5 Homework\\Instructions\\Starter_Code\\MCForecastTools.py:117: PerformanceWarning: DataFrame is highly fragmented.  This is usually the result of calling `frame.insert` many times, which has poor performance.  Consider joining all columns at once using pd.concat(axis=1) instead. To get a de-fragmented frame, use `newframe = frame.copy()`\n",
      "  portfolio_cumulative_returns[n] = (1 + sim_df.fillna(0)).cumprod()\n",
      "C:\\Users\\PC2\\Downloads\\challange_5\\UTOR-VIRT-FIN-PT-08-2023-U-LOLC-main-05-APIs-Unit 5 Homework\\05-APIs\\Unit 5 Homework\\Instructions\\Starter_Code\\MCForecastTools.py:117: PerformanceWarning: DataFrame is highly fragmented.  This is usually the result of calling `frame.insert` many times, which has poor performance.  Consider joining all columns at once using pd.concat(axis=1) instead. To get a de-fragmented frame, use `newframe = frame.copy()`\n",
      "  portfolio_cumulative_returns[n] = (1 + sim_df.fillna(0)).cumprod()\n",
      "C:\\Users\\PC2\\Downloads\\challange_5\\UTOR-VIRT-FIN-PT-08-2023-U-LOLC-main-05-APIs-Unit 5 Homework\\05-APIs\\Unit 5 Homework\\Instructions\\Starter_Code\\MCForecastTools.py:117: PerformanceWarning: DataFrame is highly fragmented.  This is usually the result of calling `frame.insert` many times, which has poor performance.  Consider joining all columns at once using pd.concat(axis=1) instead. To get a de-fragmented frame, use `newframe = frame.copy()`\n",
      "  portfolio_cumulative_returns[n] = (1 + sim_df.fillna(0)).cumprod()\n",
      "C:\\Users\\PC2\\Downloads\\challange_5\\UTOR-VIRT-FIN-PT-08-2023-U-LOLC-main-05-APIs-Unit 5 Homework\\05-APIs\\Unit 5 Homework\\Instructions\\Starter_Code\\MCForecastTools.py:117: PerformanceWarning: DataFrame is highly fragmented.  This is usually the result of calling `frame.insert` many times, which has poor performance.  Consider joining all columns at once using pd.concat(axis=1) instead. To get a de-fragmented frame, use `newframe = frame.copy()`\n",
      "  portfolio_cumulative_returns[n] = (1 + sim_df.fillna(0)).cumprod()\n",
      "C:\\Users\\PC2\\Downloads\\challange_5\\UTOR-VIRT-FIN-PT-08-2023-U-LOLC-main-05-APIs-Unit 5 Homework\\05-APIs\\Unit 5 Homework\\Instructions\\Starter_Code\\MCForecastTools.py:117: PerformanceWarning: DataFrame is highly fragmented.  This is usually the result of calling `frame.insert` many times, which has poor performance.  Consider joining all columns at once using pd.concat(axis=1) instead. To get a de-fragmented frame, use `newframe = frame.copy()`\n",
      "  portfolio_cumulative_returns[n] = (1 + sim_df.fillna(0)).cumprod()\n",
      "C:\\Users\\PC2\\Downloads\\challange_5\\UTOR-VIRT-FIN-PT-08-2023-U-LOLC-main-05-APIs-Unit 5 Homework\\05-APIs\\Unit 5 Homework\\Instructions\\Starter_Code\\MCForecastTools.py:117: PerformanceWarning: DataFrame is highly fragmented.  This is usually the result of calling `frame.insert` many times, which has poor performance.  Consider joining all columns at once using pd.concat(axis=1) instead. To get a de-fragmented frame, use `newframe = frame.copy()`\n",
      "  portfolio_cumulative_returns[n] = (1 + sim_df.fillna(0)).cumprod()\n"
     ]
    },
    {
     "name": "stdout",
     "output_type": "stream",
     "text": [
      "Running Monte Carlo simulation number 460.\n"
     ]
    },
    {
     "name": "stderr",
     "output_type": "stream",
     "text": [
      "C:\\Users\\PC2\\Downloads\\challange_5\\UTOR-VIRT-FIN-PT-08-2023-U-LOLC-main-05-APIs-Unit 5 Homework\\05-APIs\\Unit 5 Homework\\Instructions\\Starter_Code\\MCForecastTools.py:117: PerformanceWarning: DataFrame is highly fragmented.  This is usually the result of calling `frame.insert` many times, which has poor performance.  Consider joining all columns at once using pd.concat(axis=1) instead. To get a de-fragmented frame, use `newframe = frame.copy()`\n",
      "  portfolio_cumulative_returns[n] = (1 + sim_df.fillna(0)).cumprod()\n",
      "C:\\Users\\PC2\\Downloads\\challange_5\\UTOR-VIRT-FIN-PT-08-2023-U-LOLC-main-05-APIs-Unit 5 Homework\\05-APIs\\Unit 5 Homework\\Instructions\\Starter_Code\\MCForecastTools.py:117: PerformanceWarning: DataFrame is highly fragmented.  This is usually the result of calling `frame.insert` many times, which has poor performance.  Consider joining all columns at once using pd.concat(axis=1) instead. To get a de-fragmented frame, use `newframe = frame.copy()`\n",
      "  portfolio_cumulative_returns[n] = (1 + sim_df.fillna(0)).cumprod()\n",
      "C:\\Users\\PC2\\Downloads\\challange_5\\UTOR-VIRT-FIN-PT-08-2023-U-LOLC-main-05-APIs-Unit 5 Homework\\05-APIs\\Unit 5 Homework\\Instructions\\Starter_Code\\MCForecastTools.py:117: PerformanceWarning: DataFrame is highly fragmented.  This is usually the result of calling `frame.insert` many times, which has poor performance.  Consider joining all columns at once using pd.concat(axis=1) instead. To get a de-fragmented frame, use `newframe = frame.copy()`\n",
      "  portfolio_cumulative_returns[n] = (1 + sim_df.fillna(0)).cumprod()\n",
      "C:\\Users\\PC2\\Downloads\\challange_5\\UTOR-VIRT-FIN-PT-08-2023-U-LOLC-main-05-APIs-Unit 5 Homework\\05-APIs\\Unit 5 Homework\\Instructions\\Starter_Code\\MCForecastTools.py:117: PerformanceWarning: DataFrame is highly fragmented.  This is usually the result of calling `frame.insert` many times, which has poor performance.  Consider joining all columns at once using pd.concat(axis=1) instead. To get a de-fragmented frame, use `newframe = frame.copy()`\n",
      "  portfolio_cumulative_returns[n] = (1 + sim_df.fillna(0)).cumprod()\n",
      "C:\\Users\\PC2\\Downloads\\challange_5\\UTOR-VIRT-FIN-PT-08-2023-U-LOLC-main-05-APIs-Unit 5 Homework\\05-APIs\\Unit 5 Homework\\Instructions\\Starter_Code\\MCForecastTools.py:117: PerformanceWarning: DataFrame is highly fragmented.  This is usually the result of calling `frame.insert` many times, which has poor performance.  Consider joining all columns at once using pd.concat(axis=1) instead. To get a de-fragmented frame, use `newframe = frame.copy()`\n",
      "  portfolio_cumulative_returns[n] = (1 + sim_df.fillna(0)).cumprod()\n",
      "C:\\Users\\PC2\\Downloads\\challange_5\\UTOR-VIRT-FIN-PT-08-2023-U-LOLC-main-05-APIs-Unit 5 Homework\\05-APIs\\Unit 5 Homework\\Instructions\\Starter_Code\\MCForecastTools.py:117: PerformanceWarning: DataFrame is highly fragmented.  This is usually the result of calling `frame.insert` many times, which has poor performance.  Consider joining all columns at once using pd.concat(axis=1) instead. To get a de-fragmented frame, use `newframe = frame.copy()`\n",
      "  portfolio_cumulative_returns[n] = (1 + sim_df.fillna(0)).cumprod()\n",
      "C:\\Users\\PC2\\Downloads\\challange_5\\UTOR-VIRT-FIN-PT-08-2023-U-LOLC-main-05-APIs-Unit 5 Homework\\05-APIs\\Unit 5 Homework\\Instructions\\Starter_Code\\MCForecastTools.py:117: PerformanceWarning: DataFrame is highly fragmented.  This is usually the result of calling `frame.insert` many times, which has poor performance.  Consider joining all columns at once using pd.concat(axis=1) instead. To get a de-fragmented frame, use `newframe = frame.copy()`\n",
      "  portfolio_cumulative_returns[n] = (1 + sim_df.fillna(0)).cumprod()\n",
      "C:\\Users\\PC2\\Downloads\\challange_5\\UTOR-VIRT-FIN-PT-08-2023-U-LOLC-main-05-APIs-Unit 5 Homework\\05-APIs\\Unit 5 Homework\\Instructions\\Starter_Code\\MCForecastTools.py:117: PerformanceWarning: DataFrame is highly fragmented.  This is usually the result of calling `frame.insert` many times, which has poor performance.  Consider joining all columns at once using pd.concat(axis=1) instead. To get a de-fragmented frame, use `newframe = frame.copy()`\n",
      "  portfolio_cumulative_returns[n] = (1 + sim_df.fillna(0)).cumprod()\n",
      "C:\\Users\\PC2\\Downloads\\challange_5\\UTOR-VIRT-FIN-PT-08-2023-U-LOLC-main-05-APIs-Unit 5 Homework\\05-APIs\\Unit 5 Homework\\Instructions\\Starter_Code\\MCForecastTools.py:117: PerformanceWarning: DataFrame is highly fragmented.  This is usually the result of calling `frame.insert` many times, which has poor performance.  Consider joining all columns at once using pd.concat(axis=1) instead. To get a de-fragmented frame, use `newframe = frame.copy()`\n",
      "  portfolio_cumulative_returns[n] = (1 + sim_df.fillna(0)).cumprod()\n",
      "C:\\Users\\PC2\\Downloads\\challange_5\\UTOR-VIRT-FIN-PT-08-2023-U-LOLC-main-05-APIs-Unit 5 Homework\\05-APIs\\Unit 5 Homework\\Instructions\\Starter_Code\\MCForecastTools.py:117: PerformanceWarning: DataFrame is highly fragmented.  This is usually the result of calling `frame.insert` many times, which has poor performance.  Consider joining all columns at once using pd.concat(axis=1) instead. To get a de-fragmented frame, use `newframe = frame.copy()`\n",
      "  portfolio_cumulative_returns[n] = (1 + sim_df.fillna(0)).cumprod()\n"
     ]
    },
    {
     "name": "stdout",
     "output_type": "stream",
     "text": [
      "Running Monte Carlo simulation number 470.\n"
     ]
    },
    {
     "name": "stderr",
     "output_type": "stream",
     "text": [
      "C:\\Users\\PC2\\Downloads\\challange_5\\UTOR-VIRT-FIN-PT-08-2023-U-LOLC-main-05-APIs-Unit 5 Homework\\05-APIs\\Unit 5 Homework\\Instructions\\Starter_Code\\MCForecastTools.py:117: PerformanceWarning: DataFrame is highly fragmented.  This is usually the result of calling `frame.insert` many times, which has poor performance.  Consider joining all columns at once using pd.concat(axis=1) instead. To get a de-fragmented frame, use `newframe = frame.copy()`\n",
      "  portfolio_cumulative_returns[n] = (1 + sim_df.fillna(0)).cumprod()\n",
      "C:\\Users\\PC2\\Downloads\\challange_5\\UTOR-VIRT-FIN-PT-08-2023-U-LOLC-main-05-APIs-Unit 5 Homework\\05-APIs\\Unit 5 Homework\\Instructions\\Starter_Code\\MCForecastTools.py:117: PerformanceWarning: DataFrame is highly fragmented.  This is usually the result of calling `frame.insert` many times, which has poor performance.  Consider joining all columns at once using pd.concat(axis=1) instead. To get a de-fragmented frame, use `newframe = frame.copy()`\n",
      "  portfolio_cumulative_returns[n] = (1 + sim_df.fillna(0)).cumprod()\n",
      "C:\\Users\\PC2\\Downloads\\challange_5\\UTOR-VIRT-FIN-PT-08-2023-U-LOLC-main-05-APIs-Unit 5 Homework\\05-APIs\\Unit 5 Homework\\Instructions\\Starter_Code\\MCForecastTools.py:117: PerformanceWarning: DataFrame is highly fragmented.  This is usually the result of calling `frame.insert` many times, which has poor performance.  Consider joining all columns at once using pd.concat(axis=1) instead. To get a de-fragmented frame, use `newframe = frame.copy()`\n",
      "  portfolio_cumulative_returns[n] = (1 + sim_df.fillna(0)).cumprod()\n",
      "C:\\Users\\PC2\\Downloads\\challange_5\\UTOR-VIRT-FIN-PT-08-2023-U-LOLC-main-05-APIs-Unit 5 Homework\\05-APIs\\Unit 5 Homework\\Instructions\\Starter_Code\\MCForecastTools.py:117: PerformanceWarning: DataFrame is highly fragmented.  This is usually the result of calling `frame.insert` many times, which has poor performance.  Consider joining all columns at once using pd.concat(axis=1) instead. To get a de-fragmented frame, use `newframe = frame.copy()`\n",
      "  portfolio_cumulative_returns[n] = (1 + sim_df.fillna(0)).cumprod()\n",
      "C:\\Users\\PC2\\Downloads\\challange_5\\UTOR-VIRT-FIN-PT-08-2023-U-LOLC-main-05-APIs-Unit 5 Homework\\05-APIs\\Unit 5 Homework\\Instructions\\Starter_Code\\MCForecastTools.py:117: PerformanceWarning: DataFrame is highly fragmented.  This is usually the result of calling `frame.insert` many times, which has poor performance.  Consider joining all columns at once using pd.concat(axis=1) instead. To get a de-fragmented frame, use `newframe = frame.copy()`\n",
      "  portfolio_cumulative_returns[n] = (1 + sim_df.fillna(0)).cumprod()\n",
      "C:\\Users\\PC2\\Downloads\\challange_5\\UTOR-VIRT-FIN-PT-08-2023-U-LOLC-main-05-APIs-Unit 5 Homework\\05-APIs\\Unit 5 Homework\\Instructions\\Starter_Code\\MCForecastTools.py:117: PerformanceWarning: DataFrame is highly fragmented.  This is usually the result of calling `frame.insert` many times, which has poor performance.  Consider joining all columns at once using pd.concat(axis=1) instead. To get a de-fragmented frame, use `newframe = frame.copy()`\n",
      "  portfolio_cumulative_returns[n] = (1 + sim_df.fillna(0)).cumprod()\n",
      "C:\\Users\\PC2\\Downloads\\challange_5\\UTOR-VIRT-FIN-PT-08-2023-U-LOLC-main-05-APIs-Unit 5 Homework\\05-APIs\\Unit 5 Homework\\Instructions\\Starter_Code\\MCForecastTools.py:117: PerformanceWarning: DataFrame is highly fragmented.  This is usually the result of calling `frame.insert` many times, which has poor performance.  Consider joining all columns at once using pd.concat(axis=1) instead. To get a de-fragmented frame, use `newframe = frame.copy()`\n",
      "  portfolio_cumulative_returns[n] = (1 + sim_df.fillna(0)).cumprod()\n",
      "C:\\Users\\PC2\\Downloads\\challange_5\\UTOR-VIRT-FIN-PT-08-2023-U-LOLC-main-05-APIs-Unit 5 Homework\\05-APIs\\Unit 5 Homework\\Instructions\\Starter_Code\\MCForecastTools.py:117: PerformanceWarning: DataFrame is highly fragmented.  This is usually the result of calling `frame.insert` many times, which has poor performance.  Consider joining all columns at once using pd.concat(axis=1) instead. To get a de-fragmented frame, use `newframe = frame.copy()`\n",
      "  portfolio_cumulative_returns[n] = (1 + sim_df.fillna(0)).cumprod()\n",
      "C:\\Users\\PC2\\Downloads\\challange_5\\UTOR-VIRT-FIN-PT-08-2023-U-LOLC-main-05-APIs-Unit 5 Homework\\05-APIs\\Unit 5 Homework\\Instructions\\Starter_Code\\MCForecastTools.py:117: PerformanceWarning: DataFrame is highly fragmented.  This is usually the result of calling `frame.insert` many times, which has poor performance.  Consider joining all columns at once using pd.concat(axis=1) instead. To get a de-fragmented frame, use `newframe = frame.copy()`\n",
      "  portfolio_cumulative_returns[n] = (1 + sim_df.fillna(0)).cumprod()\n",
      "C:\\Users\\PC2\\Downloads\\challange_5\\UTOR-VIRT-FIN-PT-08-2023-U-LOLC-main-05-APIs-Unit 5 Homework\\05-APIs\\Unit 5 Homework\\Instructions\\Starter_Code\\MCForecastTools.py:117: PerformanceWarning: DataFrame is highly fragmented.  This is usually the result of calling `frame.insert` many times, which has poor performance.  Consider joining all columns at once using pd.concat(axis=1) instead. To get a de-fragmented frame, use `newframe = frame.copy()`\n",
      "  portfolio_cumulative_returns[n] = (1 + sim_df.fillna(0)).cumprod()\n"
     ]
    },
    {
     "name": "stdout",
     "output_type": "stream",
     "text": [
      "Running Monte Carlo simulation number 480.\n"
     ]
    },
    {
     "name": "stderr",
     "output_type": "stream",
     "text": [
      "C:\\Users\\PC2\\Downloads\\challange_5\\UTOR-VIRT-FIN-PT-08-2023-U-LOLC-main-05-APIs-Unit 5 Homework\\05-APIs\\Unit 5 Homework\\Instructions\\Starter_Code\\MCForecastTools.py:117: PerformanceWarning: DataFrame is highly fragmented.  This is usually the result of calling `frame.insert` many times, which has poor performance.  Consider joining all columns at once using pd.concat(axis=1) instead. To get a de-fragmented frame, use `newframe = frame.copy()`\n",
      "  portfolio_cumulative_returns[n] = (1 + sim_df.fillna(0)).cumprod()\n",
      "C:\\Users\\PC2\\Downloads\\challange_5\\UTOR-VIRT-FIN-PT-08-2023-U-LOLC-main-05-APIs-Unit 5 Homework\\05-APIs\\Unit 5 Homework\\Instructions\\Starter_Code\\MCForecastTools.py:117: PerformanceWarning: DataFrame is highly fragmented.  This is usually the result of calling `frame.insert` many times, which has poor performance.  Consider joining all columns at once using pd.concat(axis=1) instead. To get a de-fragmented frame, use `newframe = frame.copy()`\n",
      "  portfolio_cumulative_returns[n] = (1 + sim_df.fillna(0)).cumprod()\n",
      "C:\\Users\\PC2\\Downloads\\challange_5\\UTOR-VIRT-FIN-PT-08-2023-U-LOLC-main-05-APIs-Unit 5 Homework\\05-APIs\\Unit 5 Homework\\Instructions\\Starter_Code\\MCForecastTools.py:117: PerformanceWarning: DataFrame is highly fragmented.  This is usually the result of calling `frame.insert` many times, which has poor performance.  Consider joining all columns at once using pd.concat(axis=1) instead. To get a de-fragmented frame, use `newframe = frame.copy()`\n",
      "  portfolio_cumulative_returns[n] = (1 + sim_df.fillna(0)).cumprod()\n",
      "C:\\Users\\PC2\\Downloads\\challange_5\\UTOR-VIRT-FIN-PT-08-2023-U-LOLC-main-05-APIs-Unit 5 Homework\\05-APIs\\Unit 5 Homework\\Instructions\\Starter_Code\\MCForecastTools.py:117: PerformanceWarning: DataFrame is highly fragmented.  This is usually the result of calling `frame.insert` many times, which has poor performance.  Consider joining all columns at once using pd.concat(axis=1) instead. To get a de-fragmented frame, use `newframe = frame.copy()`\n",
      "  portfolio_cumulative_returns[n] = (1 + sim_df.fillna(0)).cumprod()\n",
      "C:\\Users\\PC2\\Downloads\\challange_5\\UTOR-VIRT-FIN-PT-08-2023-U-LOLC-main-05-APIs-Unit 5 Homework\\05-APIs\\Unit 5 Homework\\Instructions\\Starter_Code\\MCForecastTools.py:117: PerformanceWarning: DataFrame is highly fragmented.  This is usually the result of calling `frame.insert` many times, which has poor performance.  Consider joining all columns at once using pd.concat(axis=1) instead. To get a de-fragmented frame, use `newframe = frame.copy()`\n",
      "  portfolio_cumulative_returns[n] = (1 + sim_df.fillna(0)).cumprod()\n",
      "C:\\Users\\PC2\\Downloads\\challange_5\\UTOR-VIRT-FIN-PT-08-2023-U-LOLC-main-05-APIs-Unit 5 Homework\\05-APIs\\Unit 5 Homework\\Instructions\\Starter_Code\\MCForecastTools.py:117: PerformanceWarning: DataFrame is highly fragmented.  This is usually the result of calling `frame.insert` many times, which has poor performance.  Consider joining all columns at once using pd.concat(axis=1) instead. To get a de-fragmented frame, use `newframe = frame.copy()`\n",
      "  portfolio_cumulative_returns[n] = (1 + sim_df.fillna(0)).cumprod()\n",
      "C:\\Users\\PC2\\Downloads\\challange_5\\UTOR-VIRT-FIN-PT-08-2023-U-LOLC-main-05-APIs-Unit 5 Homework\\05-APIs\\Unit 5 Homework\\Instructions\\Starter_Code\\MCForecastTools.py:117: PerformanceWarning: DataFrame is highly fragmented.  This is usually the result of calling `frame.insert` many times, which has poor performance.  Consider joining all columns at once using pd.concat(axis=1) instead. To get a de-fragmented frame, use `newframe = frame.copy()`\n",
      "  portfolio_cumulative_returns[n] = (1 + sim_df.fillna(0)).cumprod()\n",
      "C:\\Users\\PC2\\Downloads\\challange_5\\UTOR-VIRT-FIN-PT-08-2023-U-LOLC-main-05-APIs-Unit 5 Homework\\05-APIs\\Unit 5 Homework\\Instructions\\Starter_Code\\MCForecastTools.py:117: PerformanceWarning: DataFrame is highly fragmented.  This is usually the result of calling `frame.insert` many times, which has poor performance.  Consider joining all columns at once using pd.concat(axis=1) instead. To get a de-fragmented frame, use `newframe = frame.copy()`\n",
      "  portfolio_cumulative_returns[n] = (1 + sim_df.fillna(0)).cumprod()\n",
      "C:\\Users\\PC2\\Downloads\\challange_5\\UTOR-VIRT-FIN-PT-08-2023-U-LOLC-main-05-APIs-Unit 5 Homework\\05-APIs\\Unit 5 Homework\\Instructions\\Starter_Code\\MCForecastTools.py:117: PerformanceWarning: DataFrame is highly fragmented.  This is usually the result of calling `frame.insert` many times, which has poor performance.  Consider joining all columns at once using pd.concat(axis=1) instead. To get a de-fragmented frame, use `newframe = frame.copy()`\n",
      "  portfolio_cumulative_returns[n] = (1 + sim_df.fillna(0)).cumprod()\n",
      "C:\\Users\\PC2\\Downloads\\challange_5\\UTOR-VIRT-FIN-PT-08-2023-U-LOLC-main-05-APIs-Unit 5 Homework\\05-APIs\\Unit 5 Homework\\Instructions\\Starter_Code\\MCForecastTools.py:117: PerformanceWarning: DataFrame is highly fragmented.  This is usually the result of calling `frame.insert` many times, which has poor performance.  Consider joining all columns at once using pd.concat(axis=1) instead. To get a de-fragmented frame, use `newframe = frame.copy()`\n",
      "  portfolio_cumulative_returns[n] = (1 + sim_df.fillna(0)).cumprod()\n"
     ]
    },
    {
     "name": "stdout",
     "output_type": "stream",
     "text": [
      "Running Monte Carlo simulation number 490.\n"
     ]
    },
    {
     "name": "stderr",
     "output_type": "stream",
     "text": [
      "C:\\Users\\PC2\\Downloads\\challange_5\\UTOR-VIRT-FIN-PT-08-2023-U-LOLC-main-05-APIs-Unit 5 Homework\\05-APIs\\Unit 5 Homework\\Instructions\\Starter_Code\\MCForecastTools.py:117: PerformanceWarning: DataFrame is highly fragmented.  This is usually the result of calling `frame.insert` many times, which has poor performance.  Consider joining all columns at once using pd.concat(axis=1) instead. To get a de-fragmented frame, use `newframe = frame.copy()`\n",
      "  portfolio_cumulative_returns[n] = (1 + sim_df.fillna(0)).cumprod()\n",
      "C:\\Users\\PC2\\Downloads\\challange_5\\UTOR-VIRT-FIN-PT-08-2023-U-LOLC-main-05-APIs-Unit 5 Homework\\05-APIs\\Unit 5 Homework\\Instructions\\Starter_Code\\MCForecastTools.py:117: PerformanceWarning: DataFrame is highly fragmented.  This is usually the result of calling `frame.insert` many times, which has poor performance.  Consider joining all columns at once using pd.concat(axis=1) instead. To get a de-fragmented frame, use `newframe = frame.copy()`\n",
      "  portfolio_cumulative_returns[n] = (1 + sim_df.fillna(0)).cumprod()\n",
      "C:\\Users\\PC2\\Downloads\\challange_5\\UTOR-VIRT-FIN-PT-08-2023-U-LOLC-main-05-APIs-Unit 5 Homework\\05-APIs\\Unit 5 Homework\\Instructions\\Starter_Code\\MCForecastTools.py:117: PerformanceWarning: DataFrame is highly fragmented.  This is usually the result of calling `frame.insert` many times, which has poor performance.  Consider joining all columns at once using pd.concat(axis=1) instead. To get a de-fragmented frame, use `newframe = frame.copy()`\n",
      "  portfolio_cumulative_returns[n] = (1 + sim_df.fillna(0)).cumprod()\n",
      "C:\\Users\\PC2\\Downloads\\challange_5\\UTOR-VIRT-FIN-PT-08-2023-U-LOLC-main-05-APIs-Unit 5 Homework\\05-APIs\\Unit 5 Homework\\Instructions\\Starter_Code\\MCForecastTools.py:117: PerformanceWarning: DataFrame is highly fragmented.  This is usually the result of calling `frame.insert` many times, which has poor performance.  Consider joining all columns at once using pd.concat(axis=1) instead. To get a de-fragmented frame, use `newframe = frame.copy()`\n",
      "  portfolio_cumulative_returns[n] = (1 + sim_df.fillna(0)).cumprod()\n",
      "C:\\Users\\PC2\\Downloads\\challange_5\\UTOR-VIRT-FIN-PT-08-2023-U-LOLC-main-05-APIs-Unit 5 Homework\\05-APIs\\Unit 5 Homework\\Instructions\\Starter_Code\\MCForecastTools.py:117: PerformanceWarning: DataFrame is highly fragmented.  This is usually the result of calling `frame.insert` many times, which has poor performance.  Consider joining all columns at once using pd.concat(axis=1) instead. To get a de-fragmented frame, use `newframe = frame.copy()`\n",
      "  portfolio_cumulative_returns[n] = (1 + sim_df.fillna(0)).cumprod()\n",
      "C:\\Users\\PC2\\Downloads\\challange_5\\UTOR-VIRT-FIN-PT-08-2023-U-LOLC-main-05-APIs-Unit 5 Homework\\05-APIs\\Unit 5 Homework\\Instructions\\Starter_Code\\MCForecastTools.py:117: PerformanceWarning: DataFrame is highly fragmented.  This is usually the result of calling `frame.insert` many times, which has poor performance.  Consider joining all columns at once using pd.concat(axis=1) instead. To get a de-fragmented frame, use `newframe = frame.copy()`\n",
      "  portfolio_cumulative_returns[n] = (1 + sim_df.fillna(0)).cumprod()\n",
      "C:\\Users\\PC2\\Downloads\\challange_5\\UTOR-VIRT-FIN-PT-08-2023-U-LOLC-main-05-APIs-Unit 5 Homework\\05-APIs\\Unit 5 Homework\\Instructions\\Starter_Code\\MCForecastTools.py:117: PerformanceWarning: DataFrame is highly fragmented.  This is usually the result of calling `frame.insert` many times, which has poor performance.  Consider joining all columns at once using pd.concat(axis=1) instead. To get a de-fragmented frame, use `newframe = frame.copy()`\n",
      "  portfolio_cumulative_returns[n] = (1 + sim_df.fillna(0)).cumprod()\n",
      "C:\\Users\\PC2\\Downloads\\challange_5\\UTOR-VIRT-FIN-PT-08-2023-U-LOLC-main-05-APIs-Unit 5 Homework\\05-APIs\\Unit 5 Homework\\Instructions\\Starter_Code\\MCForecastTools.py:117: PerformanceWarning: DataFrame is highly fragmented.  This is usually the result of calling `frame.insert` many times, which has poor performance.  Consider joining all columns at once using pd.concat(axis=1) instead. To get a de-fragmented frame, use `newframe = frame.copy()`\n",
      "  portfolio_cumulative_returns[n] = (1 + sim_df.fillna(0)).cumprod()\n",
      "C:\\Users\\PC2\\Downloads\\challange_5\\UTOR-VIRT-FIN-PT-08-2023-U-LOLC-main-05-APIs-Unit 5 Homework\\05-APIs\\Unit 5 Homework\\Instructions\\Starter_Code\\MCForecastTools.py:117: PerformanceWarning: DataFrame is highly fragmented.  This is usually the result of calling `frame.insert` many times, which has poor performance.  Consider joining all columns at once using pd.concat(axis=1) instead. To get a de-fragmented frame, use `newframe = frame.copy()`\n",
      "  portfolio_cumulative_returns[n] = (1 + sim_df.fillna(0)).cumprod()\n",
      "C:\\Users\\PC2\\Downloads\\challange_5\\UTOR-VIRT-FIN-PT-08-2023-U-LOLC-main-05-APIs-Unit 5 Homework\\05-APIs\\Unit 5 Homework\\Instructions\\Starter_Code\\MCForecastTools.py:117: PerformanceWarning: DataFrame is highly fragmented.  This is usually the result of calling `frame.insert` many times, which has poor performance.  Consider joining all columns at once using pd.concat(axis=1) instead. To get a de-fragmented frame, use `newframe = frame.copy()`\n",
      "  portfolio_cumulative_returns[n] = (1 + sim_df.fillna(0)).cumprod()\n"
     ]
    },
    {
     "data": {
      "text/html": [
       "<div>\n",
       "<style scoped>\n",
       "    .dataframe tbody tr th:only-of-type {\n",
       "        vertical-align: middle;\n",
       "    }\n",
       "\n",
       "    .dataframe tbody tr th {\n",
       "        vertical-align: top;\n",
       "    }\n",
       "\n",
       "    .dataframe thead th {\n",
       "        text-align: right;\n",
       "    }\n",
       "</style>\n",
       "<table border=\"1\" class=\"dataframe\">\n",
       "  <thead>\n",
       "    <tr style=\"text-align: right;\">\n",
       "      <th></th>\n",
       "      <th>0</th>\n",
       "      <th>1</th>\n",
       "      <th>2</th>\n",
       "      <th>3</th>\n",
       "      <th>4</th>\n",
       "      <th>5</th>\n",
       "      <th>6</th>\n",
       "      <th>7</th>\n",
       "      <th>8</th>\n",
       "      <th>9</th>\n",
       "      <th>...</th>\n",
       "      <th>490</th>\n",
       "      <th>491</th>\n",
       "      <th>492</th>\n",
       "      <th>493</th>\n",
       "      <th>494</th>\n",
       "      <th>495</th>\n",
       "      <th>496</th>\n",
       "      <th>497</th>\n",
       "      <th>498</th>\n",
       "      <th>499</th>\n",
       "    </tr>\n",
       "  </thead>\n",
       "  <tbody>\n",
       "    <tr>\n",
       "      <th>0</th>\n",
       "      <td>1.000000</td>\n",
       "      <td>1.000000</td>\n",
       "      <td>1.000000</td>\n",
       "      <td>1.000000</td>\n",
       "      <td>1.000000</td>\n",
       "      <td>1.000000</td>\n",
       "      <td>1.000000</td>\n",
       "      <td>1.000000</td>\n",
       "      <td>1.000000</td>\n",
       "      <td>1.000000</td>\n",
       "      <td>...</td>\n",
       "      <td>1.000000</td>\n",
       "      <td>1.000000</td>\n",
       "      <td>1.000000</td>\n",
       "      <td>1.000000</td>\n",
       "      <td>1.000000</td>\n",
       "      <td>1.000000</td>\n",
       "      <td>1.000000</td>\n",
       "      <td>1.000000</td>\n",
       "      <td>1.000000</td>\n",
       "      <td>1.000000</td>\n",
       "    </tr>\n",
       "    <tr>\n",
       "      <th>1</th>\n",
       "      <td>1.008842</td>\n",
       "      <td>1.016762</td>\n",
       "      <td>0.996707</td>\n",
       "      <td>1.003112</td>\n",
       "      <td>1.016503</td>\n",
       "      <td>0.997178</td>\n",
       "      <td>0.997092</td>\n",
       "      <td>0.999768</td>\n",
       "      <td>1.008563</td>\n",
       "      <td>0.997005</td>\n",
       "      <td>...</td>\n",
       "      <td>0.985469</td>\n",
       "      <td>0.998416</td>\n",
       "      <td>0.997909</td>\n",
       "      <td>0.985668</td>\n",
       "      <td>0.994105</td>\n",
       "      <td>0.989050</td>\n",
       "      <td>1.001565</td>\n",
       "      <td>0.997586</td>\n",
       "      <td>1.003302</td>\n",
       "      <td>0.999731</td>\n",
       "    </tr>\n",
       "    <tr>\n",
       "      <th>2</th>\n",
       "      <td>1.018642</td>\n",
       "      <td>1.019160</td>\n",
       "      <td>0.988223</td>\n",
       "      <td>1.021474</td>\n",
       "      <td>1.015590</td>\n",
       "      <td>1.004823</td>\n",
       "      <td>0.991441</td>\n",
       "      <td>0.996756</td>\n",
       "      <td>1.015585</td>\n",
       "      <td>0.993583</td>\n",
       "      <td>...</td>\n",
       "      <td>0.985573</td>\n",
       "      <td>1.001603</td>\n",
       "      <td>1.003835</td>\n",
       "      <td>0.968628</td>\n",
       "      <td>0.991408</td>\n",
       "      <td>0.983905</td>\n",
       "      <td>1.005508</td>\n",
       "      <td>0.989712</td>\n",
       "      <td>1.000302</td>\n",
       "      <td>1.000484</td>\n",
       "    </tr>\n",
       "    <tr>\n",
       "      <th>3</th>\n",
       "      <td>1.021746</td>\n",
       "      <td>1.016917</td>\n",
       "      <td>0.985769</td>\n",
       "      <td>1.025736</td>\n",
       "      <td>1.018668</td>\n",
       "      <td>1.009276</td>\n",
       "      <td>0.981063</td>\n",
       "      <td>1.001490</td>\n",
       "      <td>0.994561</td>\n",
       "      <td>0.996736</td>\n",
       "      <td>...</td>\n",
       "      <td>0.989720</td>\n",
       "      <td>0.995708</td>\n",
       "      <td>0.998925</td>\n",
       "      <td>0.958086</td>\n",
       "      <td>0.994434</td>\n",
       "      <td>0.980736</td>\n",
       "      <td>1.006993</td>\n",
       "      <td>1.005111</td>\n",
       "      <td>0.996923</td>\n",
       "      <td>1.009041</td>\n",
       "    </tr>\n",
       "    <tr>\n",
       "      <th>4</th>\n",
       "      <td>1.024539</td>\n",
       "      <td>1.005446</td>\n",
       "      <td>0.982864</td>\n",
       "      <td>1.028578</td>\n",
       "      <td>1.017373</td>\n",
       "      <td>1.014464</td>\n",
       "      <td>0.981652</td>\n",
       "      <td>1.004975</td>\n",
       "      <td>0.998683</td>\n",
       "      <td>1.008107</td>\n",
       "      <td>...</td>\n",
       "      <td>0.995305</td>\n",
       "      <td>0.988937</td>\n",
       "      <td>1.004321</td>\n",
       "      <td>0.973191</td>\n",
       "      <td>1.005537</td>\n",
       "      <td>0.984747</td>\n",
       "      <td>1.011918</td>\n",
       "      <td>1.008456</td>\n",
       "      <td>0.994468</td>\n",
       "      <td>1.001056</td>\n",
       "    </tr>\n",
       "    <tr>\n",
       "      <th>...</th>\n",
       "      <td>...</td>\n",
       "      <td>...</td>\n",
       "      <td>...</td>\n",
       "      <td>...</td>\n",
       "      <td>...</td>\n",
       "      <td>...</td>\n",
       "      <td>...</td>\n",
       "      <td>...</td>\n",
       "      <td>...</td>\n",
       "      <td>...</td>\n",
       "      <td>...</td>\n",
       "      <td>...</td>\n",
       "      <td>...</td>\n",
       "      <td>...</td>\n",
       "      <td>...</td>\n",
       "      <td>...</td>\n",
       "      <td>...</td>\n",
       "      <td>...</td>\n",
       "      <td>...</td>\n",
       "      <td>...</td>\n",
       "      <td>...</td>\n",
       "    </tr>\n",
       "    <tr>\n",
       "      <th>7556</th>\n",
       "      <td>12.116216</td>\n",
       "      <td>22.790447</td>\n",
       "      <td>29.806894</td>\n",
       "      <td>26.938681</td>\n",
       "      <td>12.435154</td>\n",
       "      <td>7.237561</td>\n",
       "      <td>5.608967</td>\n",
       "      <td>62.926055</td>\n",
       "      <td>16.932800</td>\n",
       "      <td>4.712274</td>\n",
       "      <td>...</td>\n",
       "      <td>6.916632</td>\n",
       "      <td>31.001345</td>\n",
       "      <td>14.183815</td>\n",
       "      <td>20.208167</td>\n",
       "      <td>29.968048</td>\n",
       "      <td>23.649463</td>\n",
       "      <td>18.450459</td>\n",
       "      <td>5.964001</td>\n",
       "      <td>8.557484</td>\n",
       "      <td>34.952042</td>\n",
       "    </tr>\n",
       "    <tr>\n",
       "      <th>7557</th>\n",
       "      <td>12.075255</td>\n",
       "      <td>22.937284</td>\n",
       "      <td>29.693215</td>\n",
       "      <td>27.038129</td>\n",
       "      <td>12.598760</td>\n",
       "      <td>7.193227</td>\n",
       "      <td>5.640243</td>\n",
       "      <td>63.013334</td>\n",
       "      <td>16.788167</td>\n",
       "      <td>4.737062</td>\n",
       "      <td>...</td>\n",
       "      <td>6.936662</td>\n",
       "      <td>30.608660</td>\n",
       "      <td>14.287081</td>\n",
       "      <td>20.540527</td>\n",
       "      <td>30.260959</td>\n",
       "      <td>23.474649</td>\n",
       "      <td>18.418286</td>\n",
       "      <td>5.959709</td>\n",
       "      <td>8.646099</td>\n",
       "      <td>35.082711</td>\n",
       "    </tr>\n",
       "    <tr>\n",
       "      <th>7558</th>\n",
       "      <td>12.135985</td>\n",
       "      <td>22.863796</td>\n",
       "      <td>29.776836</td>\n",
       "      <td>27.135653</td>\n",
       "      <td>12.771203</td>\n",
       "      <td>7.174978</td>\n",
       "      <td>5.545680</td>\n",
       "      <td>62.667764</td>\n",
       "      <td>16.576269</td>\n",
       "      <td>4.758373</td>\n",
       "      <td>...</td>\n",
       "      <td>6.982926</td>\n",
       "      <td>30.501961</td>\n",
       "      <td>14.190701</td>\n",
       "      <td>20.594765</td>\n",
       "      <td>30.727087</td>\n",
       "      <td>23.605962</td>\n",
       "      <td>18.302753</td>\n",
       "      <td>5.907102</td>\n",
       "      <td>8.588075</td>\n",
       "      <td>35.180520</td>\n",
       "    </tr>\n",
       "    <tr>\n",
       "      <th>7559</th>\n",
       "      <td>12.174439</td>\n",
       "      <td>22.529968</td>\n",
       "      <td>29.728896</td>\n",
       "      <td>27.183788</td>\n",
       "      <td>12.804324</td>\n",
       "      <td>7.121305</td>\n",
       "      <td>5.514713</td>\n",
       "      <td>61.287096</td>\n",
       "      <td>16.848782</td>\n",
       "      <td>4.751103</td>\n",
       "      <td>...</td>\n",
       "      <td>6.949609</td>\n",
       "      <td>30.935333</td>\n",
       "      <td>14.305930</td>\n",
       "      <td>20.673451</td>\n",
       "      <td>30.947077</td>\n",
       "      <td>23.682986</td>\n",
       "      <td>18.442029</td>\n",
       "      <td>5.902646</td>\n",
       "      <td>8.600411</td>\n",
       "      <td>35.112355</td>\n",
       "    </tr>\n",
       "    <tr>\n",
       "      <th>7560</th>\n",
       "      <td>12.289646</td>\n",
       "      <td>22.637555</td>\n",
       "      <td>29.469750</td>\n",
       "      <td>26.991040</td>\n",
       "      <td>12.953518</td>\n",
       "      <td>7.117427</td>\n",
       "      <td>5.500810</td>\n",
       "      <td>60.988891</td>\n",
       "      <td>16.685376</td>\n",
       "      <td>4.703949</td>\n",
       "      <td>...</td>\n",
       "      <td>6.852519</td>\n",
       "      <td>31.197467</td>\n",
       "      <td>14.333793</td>\n",
       "      <td>20.599661</td>\n",
       "      <td>31.036462</td>\n",
       "      <td>23.214322</td>\n",
       "      <td>18.586910</td>\n",
       "      <td>5.923051</td>\n",
       "      <td>8.608117</td>\n",
       "      <td>35.467666</td>\n",
       "    </tr>\n",
       "  </tbody>\n",
       "</table>\n",
       "<p>7561 rows × 500 columns</p>\n",
       "</div>"
      ],
      "text/plain": [
       "            0          1          2          3          4         5    \\\n",
       "0      1.000000   1.000000   1.000000   1.000000   1.000000  1.000000   \n",
       "1      1.008842   1.016762   0.996707   1.003112   1.016503  0.997178   \n",
       "2      1.018642   1.019160   0.988223   1.021474   1.015590  1.004823   \n",
       "3      1.021746   1.016917   0.985769   1.025736   1.018668  1.009276   \n",
       "4      1.024539   1.005446   0.982864   1.028578   1.017373  1.014464   \n",
       "...         ...        ...        ...        ...        ...       ...   \n",
       "7556  12.116216  22.790447  29.806894  26.938681  12.435154  7.237561   \n",
       "7557  12.075255  22.937284  29.693215  27.038129  12.598760  7.193227   \n",
       "7558  12.135985  22.863796  29.776836  27.135653  12.771203  7.174978   \n",
       "7559  12.174439  22.529968  29.728896  27.183788  12.804324  7.121305   \n",
       "7560  12.289646  22.637555  29.469750  26.991040  12.953518  7.117427   \n",
       "\n",
       "           6          7          8         9    ...       490        491  \\\n",
       "0     1.000000   1.000000   1.000000  1.000000  ...  1.000000   1.000000   \n",
       "1     0.997092   0.999768   1.008563  0.997005  ...  0.985469   0.998416   \n",
       "2     0.991441   0.996756   1.015585  0.993583  ...  0.985573   1.001603   \n",
       "3     0.981063   1.001490   0.994561  0.996736  ...  0.989720   0.995708   \n",
       "4     0.981652   1.004975   0.998683  1.008107  ...  0.995305   0.988937   \n",
       "...        ...        ...        ...       ...  ...       ...        ...   \n",
       "7556  5.608967  62.926055  16.932800  4.712274  ...  6.916632  31.001345   \n",
       "7557  5.640243  63.013334  16.788167  4.737062  ...  6.936662  30.608660   \n",
       "7558  5.545680  62.667764  16.576269  4.758373  ...  6.982926  30.501961   \n",
       "7559  5.514713  61.287096  16.848782  4.751103  ...  6.949609  30.935333   \n",
       "7560  5.500810  60.988891  16.685376  4.703949  ...  6.852519  31.197467   \n",
       "\n",
       "            492        493        494        495        496       497  \\\n",
       "0      1.000000   1.000000   1.000000   1.000000   1.000000  1.000000   \n",
       "1      0.997909   0.985668   0.994105   0.989050   1.001565  0.997586   \n",
       "2      1.003835   0.968628   0.991408   0.983905   1.005508  0.989712   \n",
       "3      0.998925   0.958086   0.994434   0.980736   1.006993  1.005111   \n",
       "4      1.004321   0.973191   1.005537   0.984747   1.011918  1.008456   \n",
       "...         ...        ...        ...        ...        ...       ...   \n",
       "7556  14.183815  20.208167  29.968048  23.649463  18.450459  5.964001   \n",
       "7557  14.287081  20.540527  30.260959  23.474649  18.418286  5.959709   \n",
       "7558  14.190701  20.594765  30.727087  23.605962  18.302753  5.907102   \n",
       "7559  14.305930  20.673451  30.947077  23.682986  18.442029  5.902646   \n",
       "7560  14.333793  20.599661  31.036462  23.214322  18.586910  5.923051   \n",
       "\n",
       "           498        499  \n",
       "0     1.000000   1.000000  \n",
       "1     1.003302   0.999731  \n",
       "2     1.000302   1.000484  \n",
       "3     0.996923   1.009041  \n",
       "4     0.994468   1.001056  \n",
       "...        ...        ...  \n",
       "7556  8.557484  34.952042  \n",
       "7557  8.646099  35.082711  \n",
       "7558  8.588075  35.180520  \n",
       "7559  8.600411  35.112355  \n",
       "7560  8.608117  35.467666  \n",
       "\n",
       "[7561 rows x 500 columns]"
      ]
     },
     "execution_count": 46,
     "metadata": {},
     "output_type": "execute_result"
    }
   ],
   "source": [
    "# Running a Monte Carlo simulation to forecast 30 years cumulative returns\n",
    "MC_30.calc_cumulative_return()"
   ]
  },
  {
   "cell_type": "code",
   "execution_count": 47,
   "metadata": {},
   "outputs": [
    {
     "data": {
      "image/png": "[encoded data removed]",
      "text/plain": [
       "<Figure size 640x480 with 1 Axes>"
      ]
     },
     "metadata": {},
     "output_type": "display_data"
    }
   ],
   "source": [
    "# Plot simulation outcomes\n",
    "line_plot = MC_30.plot_simulation()"
   ]
  },
  {
   "cell_type": "code",
   "execution_count": 48,
   "metadata": {},
   "outputs": [
    {
     "data": {
      "image/png": "[encoded data removed]",
      "text/plain": [
       "<Figure size 640x480 with 1 Axes>"
      ]
     },
     "metadata": {},
     "output_type": "display_data"
    }
   ],
   "source": [
    "# Plot probability distribution and confidence intervals\n",
    "dist_plot = MC_30.plot_distribution()"
   ]
  },
  {
   "cell_type": "markdown",
   "metadata": {},
   "source": [
    "### Retirement Analysis"
   ]
  },
  {
   "cell_type": "code",
   "execution_count": 49,
   "metadata": {},
   "outputs": [
    {
     "data": {
      "text/html": [
       "<div>\n",
       "<style scoped>\n",
       "    .dataframe tbody tr th:only-of-type {\n",
       "        vertical-align: middle;\n",
       "    }\n",
       "\n",
       "    .dataframe tbody tr th {\n",
       "        vertical-align: top;\n",
       "    }\n",
       "\n",
       "    .dataframe thead th {\n",
       "        text-align: right;\n",
       "    }\n",
       "</style>\n",
       "<table border=\"1\" class=\"dataframe\">\n",
       "  <thead>\n",
       "    <tr style=\"text-align: right;\">\n",
       "      <th></th>\n",
       "      <th>mean</th>\n",
       "      <th>median</th>\n",
       "      <th>min</th>\n",
       "      <th>max</th>\n",
       "    </tr>\n",
       "  </thead>\n",
       "  <tbody>\n",
       "    <tr>\n",
       "      <th>0</th>\n",
       "      <td>1.000000</td>\n",
       "      <td>1.000000</td>\n",
       "      <td>1.000000</td>\n",
       "      <td>1.000000</td>\n",
       "    </tr>\n",
       "    <tr>\n",
       "      <th>1</th>\n",
       "      <td>0.999973</td>\n",
       "      <td>0.999731</td>\n",
       "      <td>0.977239</td>\n",
       "      <td>1.022378</td>\n",
       "    </tr>\n",
       "    <tr>\n",
       "      <th>2</th>\n",
       "      <td>1.000305</td>\n",
       "      <td>1.000420</td>\n",
       "      <td>0.967623</td>\n",
       "      <td>1.032077</td>\n",
       "    </tr>\n",
       "    <tr>\n",
       "      <th>3</th>\n",
       "      <td>1.000369</td>\n",
       "      <td>1.000807</td>\n",
       "      <td>0.958086</td>\n",
       "      <td>1.048308</td>\n",
       "    </tr>\n",
       "    <tr>\n",
       "      <th>4</th>\n",
       "      <td>1.000889</td>\n",
       "      <td>1.000619</td>\n",
       "      <td>0.956122</td>\n",
       "      <td>1.060067</td>\n",
       "    </tr>\n",
       "  </tbody>\n",
       "</table>\n",
       "</div>"
      ],
      "text/plain": [
       "       mean    median       min       max\n",
       "0  1.000000  1.000000  1.000000  1.000000\n",
       "1  0.999973  0.999731  0.977239  1.022378\n",
       "2  1.000305  1.000420  0.967623  1.032077\n",
       "3  1.000369  1.000807  0.958086  1.048308\n",
       "4  1.000889  1.000619  0.956122  1.060067"
      ]
     },
     "execution_count": 49,
     "metadata": {},
     "output_type": "execute_result"
    }
   ],
   "source": [
    "# Fetch summary statistics from the Monte Carlo simulation results\n",
    "simulated_returns_data = {\n",
    "    \"mean\": list(MC_30.simulated_return.mean(axis=1)),\n",
    "    \"median\": list(MC_30.simulated_return.median(axis=1)),\n",
    "    \"min\": list(MC_30.simulated_return.min(axis=1)),\n",
    "    \"max\": list(MC_30.simulated_return.max(axis=1))\n",
    "}\n",
    "\n",
    "# Create a DataFrame with the summary statistics\n",
    "df_simulated_returns = pd.DataFrame(simulated_returns_data)\n",
    "\n",
    "# Display or use the summarized results\n",
    "df_simulated_returns.head()\n"
   ]
  },
  {
   "cell_type": "code",
   "execution_count": 50,
   "metadata": {
    "tags": []
   },
   "outputs": [
    {
     "name": "stdout",
     "output_type": "stream",
     "text": [
      "           results\n",
      "count  1000.000000\n",
      "mean      0.049307\n",
      "std       0.996702\n",
      "min      -2.987604\n",
      "25%      -0.605123\n",
      "50%       0.018596\n",
      "75%       0.714685\n",
      "max       3.232527\n"
     ]
    }
   ],
   "source": [
    "import numpy as np\n",
    "MC_30 = pd.DataFrame({'results': np.random.normal(loc=0, scale=1, size=(1000,))})\n",
    "\n",
    "# Summary statistics using describe\n",
    "summary_stats = MC_30.describe()\n",
    "\n",
    "# Print the summary statistics\n",
    "print(summary_stats)"
   ]
  },
  {
   "cell_type": "markdown",
   "metadata": {},
   "source": [
    "### Calculate the expected portfolio return at the `95%` lower and upper confidence intervals based on a `$20,000` initial investment."
   ]
  },
  {
   "cell_type": "code",
   "execution_count": 51,
   "metadata": {
    "tags": []
   },
   "outputs": [],
   "source": [
    "expected_return =  0.001052\n",
    "standard_deviation = 1.017757\n",
    "\n",
    "# Set initial investment\n",
    "initial_investment = 20000\n",
    "confidence_level = 0.95\n",
    "z_score = 1.96  # Z-Score for a 95% confidence level\n",
    "\n",
    "# Calculate lower and upper confidence intervals\n",
    "ci_lower = initial_investment * (expected_return - z_score * standard_deviation)\n",
    "ci_upper = initial_investment * (expected_return + z_score * standard_deviation)"
   ]
  },
  {
   "cell_type": "code",
   "execution_count": 52,
   "metadata": {},
   "outputs": [
    {
     "name": "stdout",
     "output_type": "stream",
     "text": [
      "There is a 95% chance that an initial investment of $20000 in the portfolio over the next 30 years will end within in the range of $-39875.0344 and $39917.1144\n"
     ]
    }
   ],
   "source": [
    "# Print results\n",
    "print(f\"There is a 95% chance that an initial investment of ${initial_investment} in the portfolio\"\n",
    "      f\" over the next 30 years will end within in the range of\"\n",
    "      f\" ${ci_lower} and ${ci_upper}\")"
   ]
  },
  {
   "cell_type": "markdown",
   "metadata": {},
   "source": [
    "### Calculate the expected portfolio return at the `95%` lower and upper confidence intervals based on a `50%` increase in the initial investment."
   ]
  },
  {
   "cell_type": "code",
   "execution_count": 53,
   "metadata": {},
   "outputs": [
    {
     "name": "stdout",
     "output_type": "stream",
     "text": [
      "There is a 95% chance that an initial investment of $30000.0 in the portfolio over the next 30 years will end within in the range of $-59812.5516 and $59875.6716\n"
     ]
    }
   ],
   "source": [
    "# Set initial investment\n",
    "initial_investment = 20000 * 1.5\n",
    "\n",
    "# Use the lower and upper `95%` confidence intervals to calculate the range of the possible outcomes of our $30,000\n",
    "ci_inc_lower = initial_investment * (expected_return - z_score * standard_deviation)\n",
    "ci_inc_upper = initial_investment * (expected_return + z_score * standard_deviation)\n",
    "\n",
    "# Print results\n",
    "print(f\"There is a 95% chance that an initial investment of ${initial_investment} in the portfolio\"\n",
    "      f\" over the next 30 years will end within in the range of\"\n",
    "      f\" ${ci_inc_lower} and ${ci_inc_upper}\")"
   ]
  },
  {
   "cell_type": "markdown",
   "metadata": {},
   "source": [
    "## Optional Challenge - Early Retirement\n",
    "\n",
    "\n",
    "### Five Years Retirement Option"
   ]
  },
  {
   "cell_type": "code",
   "execution_count": 54,
   "metadata": {},
   "outputs": [],
   "source": [
    "# Configuring a Monte Carlo simulation to forecast 5 years cumulative returns\n",
    "# YOUR CODE HERE!"
   ]
  },
  {
   "cell_type": "code",
   "execution_count": 55,
   "metadata": {},
   "outputs": [],
   "source": [
    "# Running a Monte Carlo simulation to forecast 5 years cumulative returns\n",
    "# YOUR CODE HERE!"
   ]
  },
  {
   "cell_type": "code",
   "execution_count": 56,
   "metadata": {},
   "outputs": [],
   "source": [
    "# Plot simulation outcomes\n",
    "# YOUR CODE HERE!"
   ]
  },
  {
   "cell_type": "code",
   "execution_count": 57,
   "metadata": {},
   "outputs": [],
   "source": [
    "# Plot probability distribution and confidence intervals\n",
    "# YOUR CODE HERE!"
   ]
  },
  {
   "cell_type": "code",
   "execution_count": 58,
   "metadata": {},
   "outputs": [],
   "source": [
    "# Fetch summary statistics from the Monte Carlo simulation results\n",
    "# YOUR CODE HERE!\n",
    "\n",
    "# Print summary statistics\n",
    "# YOUR CODE HERE!"
   ]
  },
  {
   "cell_type": "code",
   "execution_count": 60,
   "metadata": {},
   "outputs": [],
   "source": [
    "# Set initial investment\n",
    "# YOUR CODE HERE!\n",
    "\n",
    "# Use the lower and upper `95%` confidence intervals to calculate the range of the possible outcomes of our $60,000\n",
    "# YOUR CODE HERE!\n",
    "\n",
    "# Print results\n",
    "#print(f\"There is a 95% chance that an initial investment of ${initial_investment} in the portfolio\"\n",
    " #     f\" over the next 5 years will end within in the range of\"\n",
    "  #    f\" ${ci_lower_five} and ${ci_upper_five}\")"
   ]
  },
  {
   "cell_type": "markdown",
   "metadata": {},
   "source": [
    "### Ten Years Retirement Option"
   ]
  },
  {
   "cell_type": "code",
   "execution_count": null,
   "metadata": {},
   "outputs": [],
   "source": [
    "# Configuring a Monte Carlo simulation to forecast 10 years cumulative returns\n",
    "# YOUR CODE HERE!"
   ]
  },
  {
   "cell_type": "code",
   "execution_count": null,
   "metadata": {},
   "outputs": [],
   "source": [
    "# Running a Monte Carlo simulation to forecast 10 years cumulative returns\n",
    "# YOUR CODE HERE!"
   ]
  },
  {
   "cell_type": "code",
   "execution_count": null,
   "metadata": {},
   "outputs": [],
   "source": [
    "# Plot simulation outcomes\n",
    "# YOUR CODE HERE!"
   ]
  },
  {
   "cell_type": "code",
   "execution_count": null,
   "metadata": {},
   "outputs": [],
   "source": [
    "# Plot probability distribution and confidence intervals\n",
    "# YOUR CODE HERE!"
   ]
  },
  {
   "cell_type": "code",
   "execution_count": null,
   "metadata": {},
   "outputs": [],
   "source": [
    "# Fetch summary statistics from the Monte Carlo simulation results\n",
    "# YOUR CODE HERE!\n",
    "\n",
    "# Print summary statistics\n",
    "# YOUR CODE HERE!"
   ]
  },
  {
   "cell_type": "code",
   "execution_count": null,
   "metadata": {},
   "outputs": [],
   "source": [
    "# Set initial investment\n",
    "# YOUR CODE HERE!\n",
    "\n",
    "# Use the lower and upper `95%` confidence intervals to calculate the range of the possible outcomes of our $60,000\n",
    "# YOUR CODE HERE!\n",
    "\n",
    "# Print results\n",
    "print(f\"There is a 95% chance that an initial investment of ${initial_investment} in the portfolio\"\n",
    "      f\" over the next 10 years will end within in the range of\"\n",
    "      f\" ${ci_lower_ten} and ${ci_upper_ten}\")"
   ]
  },
  {
   "cell_type": "code",
   "execution_count": null,
   "metadata": {},
   "outputs": [],
   "source": []
  }
 ],
 "metadata": {
  "kernelspec": {
   "display_name": "Python 3 (ipykernel)",
   "language": "python",
   "name": "python3"
  },
  "language_info": {
   "codemirror_mode": {
    "name": "ipython",
    "version": 3
   },
   "file_extension": ".py",
   "mimetype": "text/x-python",
   "name": "python",
   "nbconvert_exporter": "python",
   "pygments_lexer": "ipython3",
   "version": "3.10.13"
  },
  "nteract": {
   "version": "0.28.0"
  }
 },
 "nbformat": 4,
 "nbformat_minor": 4
}
